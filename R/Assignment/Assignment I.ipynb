{
 "cells": [
  {
   "cell_type": "markdown",
   "id": "governmental-magazine",
   "metadata": {},
   "source": [
    "# Assignment I"
   ]
  },
  {
   "cell_type": "code",
   "execution_count": 1,
   "id": "applicable-identifier",
   "metadata": {},
   "outputs": [],
   "source": [
    "data=c(74.3,78.8,68.8,78.0,70.4,80.5,80.5,69.7,71.2,73.5,79.5,75.6,75.0,78.8,72.0,72.0,72.0,74.3,71.2,72.0,75.0,73.5,78.8,74.3,75.8,65.0,74.3,71.2,69.7,68.0,73.5,75.0,72.0,64.3,75.8,80.3,69.7,74.3,73.5,73.5,75.8,75.8,68.8,76.5,70.4,71.2,81.2,75.0,70.4,68.0,70.4,72.0,76.5,74.3,76.5,77.6,67.3,72.0,75.0,74.3,73.5,79.5,73.5,74.7,65.0,76.5,81.6,75.4,72.7,72.7,67.2,76.5,72.7,70.4,77.2,68.8,67.3,67.3,67.3,72.7,75.8,73.5,75.0,73.5,73.5,73.5,72.7,81.6,70.3,74.3,73.5,79.5,70.4,76.5,72.7,77.2,84.3,75.0,76.5,70.4)"
   ]
  },
  {
   "cell_type": "code",
   "execution_count": 2,
   "id": "conditional-desert",
   "metadata": {},
   "outputs": [
    {
     "data": {
      "text/html": [
       "73.668"
      ],
      "text/latex": [
       "73.668"
      ],
      "text/markdown": [
       "73.668"
      ],
      "text/plain": [
       "[1] 73.668"
      ]
     },
     "metadata": {},
     "output_type": "display_data"
    }
   ],
   "source": [
    "mean(data)"
   ]
  },
  {
   "cell_type": "code",
   "execution_count": 3,
   "id": "criminal-wednesday",
   "metadata": {},
   "outputs": [
    {
     "data": {
      "text/html": [
       "15.5151272727273"
      ],
      "text/latex": [
       "15.5151272727273"
      ],
      "text/markdown": [
       "15.5151272727273"
      ],
      "text/plain": [
       "[1] 15.51513"
      ]
     },
     "metadata": {},
     "output_type": "display_data"
    }
   ],
   "source": [
    "var(data)"
   ]
  },
  {
   "cell_type": "code",
   "execution_count": 4,
   "id": "looking-demographic",
   "metadata": {},
   "outputs": [
    {
     "data": {
      "text/html": [
       "73.5"
      ],
      "text/latex": [
       "73.5"
      ],
      "text/markdown": [
       "73.5"
      ],
      "text/plain": [
       "[1] 73.5"
      ]
     },
     "metadata": {},
     "output_type": "display_data"
    }
   ],
   "source": [
    "median(data)"
   ]
  },
  {
   "cell_type": "code",
   "execution_count": 5,
   "id": "national-cartridge",
   "metadata": {},
   "outputs": [
    {
     "data": {
      "text/html": [
       "<strong>25%:</strong> 71.2"
      ],
      "text/latex": [
       "\\textbf{25\\textbackslash{}\\%:} 71.2"
      ],
      "text/markdown": [
       "**25%:** 71.2"
      ],
      "text/plain": [
       " 25% \n",
       "71.2 "
      ]
     },
     "metadata": {},
     "output_type": "display_data"
    }
   ],
   "source": [
    "quantile(data,0.25)"
   ]
  },
  {
   "cell_type": "code",
   "execution_count": 6,
   "id": "rotary-rally",
   "metadata": {},
   "outputs": [
    {
     "data": {
      "text/html": [
       "<strong>60%:</strong> 74.3"
      ],
      "text/latex": [
       "\\textbf{60\\textbackslash{}\\%:} 74.3"
      ],
      "text/markdown": [
       "**60%:** 74.3"
      ],
      "text/plain": [
       " 60% \n",
       "74.3 "
      ]
     },
     "metadata": {},
     "output_type": "display_data"
    }
   ],
   "source": [
    "quantile(data,.6)"
   ]
  },
  {
   "cell_type": "code",
   "execution_count": 8,
   "id": "nervous-dragon",
   "metadata": {},
   "outputs": [
    {
     "data": {
      "text/html": [
       "<style>\n",
       ".list-inline {list-style: none; margin:0; padding: 0}\n",
       ".list-inline>li {display: inline-block}\n",
       ".list-inline>li:not(:last-child)::after {content: \"\\00b7\"; padding: 0 .5ex}\n",
       "</style>\n",
       "<ol class=list-inline><li>64.3</li><li>84.3</li></ol>\n"
      ],
      "text/latex": [
       "\\begin{enumerate*}\n",
       "\\item 64.3\n",
       "\\item 84.3\n",
       "\\end{enumerate*}\n"
      ],
      "text/markdown": [
       "1. 64.3\n",
       "2. 84.3\n",
       "\n",
       "\n"
      ],
      "text/plain": [
       "[1] 64.3 84.3"
      ]
     },
     "metadata": {},
     "output_type": "display_data"
    }
   ],
   "source": [
    "range(data)"
   ]
  },
  {
   "cell_type": "code",
   "execution_count": 17,
   "id": "chinese-steps",
   "metadata": {},
   "outputs": [
    {
     "data": {
      "text/html": [
       "0.0534685974106827"
      ],
      "text/latex": [
       "0.0534685974106827"
      ],
      "text/markdown": [
       "0.0534685974106827"
      ],
      "text/plain": [
       "[1] 0.0534686"
      ]
     },
     "metadata": {},
     "output_type": "display_data"
    }
   ],
   "source": [
    "sd(data)/mean(data) # coefficient of variation"
   ]
  },
  {
   "cell_type": "code",
   "execution_count": 20,
   "id": "peripheral-fisher",
   "metadata": {},
   "outputs": [
    {
     "data": {
      "image/png": "[encoded data removed]",
      "text/plain": [
       "Plot with title \"Box Plot\""
      ]
     },
     "metadata": {
      "image/png": {
       "height": 420,
       "width": 420
      }
     },
     "output_type": "display_data"
    }
   ],
   "source": [
    "par(mfrow = c(2,2));\n",
    "plot.ecdf(data);\n",
    "hist(data);\n",
    "qqnorm(data);\n",
    "boxplot(data)\n",
    "title(\"Box Plot\")"
   ]
  },
  {
   "cell_type": "code",
   "execution_count": 21,
   "id": "attempted-shower",
   "metadata": {},
   "outputs": [
    {
     "name": "stdout",
     "output_type": "stream",
     "text": [
      "\n",
      "  The decimal point is at the |\n",
      "\n",
      "  64 | 300\n",
      "  66 | 23333\n",
      "  68 | 00888777\n",
      "  70 | 344444442222\n",
      "  72 | 0000000777777555555555555\n",
      "  74 | 33333333700000004688888\n",
      "  76 | 5555555226\n",
      "  78 | 0888555\n",
      "  80 | 355266\n",
      "  82 | \n",
      "  84 | 3\n",
      "\n"
     ]
    }
   ],
   "source": [
    "stem(data)"
   ]
  },
  {
   "cell_type": "code",
   "execution_count": null,
   "id": "sufficient-geometry",
   "metadata": {},
   "outputs": [],
   "source": []
  }
 ],
 "metadata": {
  "kernelspec": {
   "display_name": "R",
   "language": "R",
   "name": "ir"
  },
  "language_info": {
   "codemirror_mode": "r",
   "file_extension": ".r",
   "mimetype": "text/x-r-source",
   "name": "R",
   "pygments_lexer": "r",
   "version": "4.0.3"
  }
 },
 "nbformat": 4,
 "nbformat_minor": 5
}
