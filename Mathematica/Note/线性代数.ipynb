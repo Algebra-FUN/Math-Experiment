{
 "cells": [
  {
   "cell_type": "code",
   "execution_count": 11,
   "id": "intended-gothic",
   "metadata": {},
   "outputs": [
    {
     "data": {
      "text/html": [
       "<div><pre style=\"&#102;&#111;&#110;&#116;&#45;&#102;&#97;&#109;&#105;&#108;&#121;&#58;&#32;&#34;&#67;&#111;&#117;&#114;&#105;&#101;&#114;&#32;&#78;&#101;&#119;&#34;&#44;&#67;&#111;&#117;&#114;&#105;&#101;&#114;&#44;&#109;&#111;&#110;&#111;&#115;&#112;&#97;&#99;&#101;&#59;\">&#123;&#123;&#49;&#44;&#32;&#50;&#44;&#32;&#51;&#125;&#44;&#32;&#123;&#50;&#44;&#32;&#51;&#44;&#32;&#52;&#125;&#44;&#32;&#123;&#51;&#44;&#32;&#52;&#44;&#32;&#53;&#125;&#125;</pre></div>"
      ],
      "text/plain": [
       "{{1, 2, 3}, {2, 3, 4}, {3, 4, 5}}"
      ]
     },
     "execution_count": 11,
     "metadata": {
      "text/html": [],
      "text/plain": []
     },
     "output_type": "execute_result"
    }
   ],
   "source": [
    "B={{1,2,3},{2,3,4},{3,4,5}}"
   ]
  },
  {
   "cell_type": "code",
   "execution_count": 2,
   "id": "spare-albuquerque",
   "metadata": {},
   "outputs": [
    {
     "data": {
      "text/html": [
       "<div><img alt=\"Output\" src=\"data:image/png;base64,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\"></div>"
      ],
      "text/plain": [
       "1   2   3\n",
       "\n",
       "2   3   4\n",
       "\n",
       "3   4   5"
      ]
     },
     "execution_count": 2,
     "metadata": {
      "text/html": [],
      "text/plain": []
     },
     "output_type": "execute_result"
    }
   ],
   "source": [
    "MatrixForm[A]"
   ]
  },
  {
   "cell_type": "code",
   "execution_count": 3,
   "id": "judicial-indianapolis",
   "metadata": {},
   "outputs": [
    {
     "ename": "Inverse::sing",
     "evalue": "Matrix {{1, 2, 3}, {2, 3, 4}, {3, 4, 5}} is singular.",
     "output_type": "error",
     "traceback": [
      "\u001b[0;31mInverse::sing: Matrix {{1, 2, 3}, {2, 3, 4}, {3, 4, 5}} is singular.\u001b[0m"
     ]
    },
    {
     "data": {
      "text/html": [
       "<div><img alt=\"Output\" src=\"data:image/png;base64,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\"></div>"
      ],
      "text/plain": [
       "Inverse[{{1, 2, 3}, {2, 3, 4}, {3, 4, 5}}]"
      ]
     },
     "execution_count": 3,
     "metadata": {
      "text/html": [],
      "text/plain": []
     },
     "output_type": "execute_result"
    }
   ],
   "source": [
    "Inverse[A]"
   ]
  },
  {
   "cell_type": "code",
   "execution_count": 4,
   "id": "mounted-straight",
   "metadata": {},
   "outputs": [
    {
     "data": {
      "text/html": [
       "<div><pre style=\"&#102;&#111;&#110;&#116;&#45;&#102;&#97;&#109;&#105;&#108;&#121;&#58;&#32;&#34;&#67;&#111;&#117;&#114;&#105;&#101;&#114;&#32;&#78;&#101;&#119;&#34;&#44;&#67;&#111;&#117;&#114;&#105;&#101;&#114;&#44;&#109;&#111;&#110;&#111;&#115;&#112;&#97;&#99;&#101;&#59;\">&#123;&#123;&#49;&#44;&#32;&#52;&#44;&#32;&#57;&#125;&#44;&#32;&#123;&#52;&#44;&#32;&#57;&#44;&#32;&#49;&#54;&#125;&#44;&#32;&#123;&#57;&#44;&#32;&#49;&#54;&#44;&#32;&#50;&#53;&#125;&#125;</pre></div>"
      ],
      "text/plain": [
       "{{1, 4, 9}, {4, 9, 16}, {9, 16, 25}}"
      ]
     },
     "execution_count": 4,
     "metadata": {
      "text/html": [],
      "text/plain": []
     },
     "output_type": "execute_result"
    }
   ],
   "source": [
    "A^2"
   ]
  },
  {
   "cell_type": "code",
   "execution_count": 5,
   "id": "regulation-control",
   "metadata": {},
   "outputs": [
    {
     "data": {
      "text/html": [
       "<div><pre style=\"&#102;&#111;&#110;&#116;&#45;&#102;&#97;&#109;&#105;&#108;&#121;&#58;&#32;&#34;&#67;&#111;&#117;&#114;&#105;&#101;&#114;&#32;&#78;&#101;&#119;&#34;&#44;&#67;&#111;&#117;&#114;&#105;&#101;&#114;&#44;&#109;&#111;&#110;&#111;&#115;&#112;&#97;&#99;&#101;&#59;\">&#123;&#123;&#49;&#44;&#32;&#50;&#44;&#32;&#51;&#125;&#44;&#32;&#123;&#50;&#44;&#32;&#51;&#44;&#32;&#52;&#125;&#44;&#32;&#123;&#51;&#44;&#32;&#52;&#44;&#32;&#53;&#125;&#125;</pre></div>"
      ],
      "text/plain": [
       "{{1, 2, 3}, {2, 3, 4}, {3, 4, 5}}"
      ]
     },
     "execution_count": 5,
     "metadata": {
      "text/html": [],
      "text/plain": []
     },
     "output_type": "execute_result"
    }
   ],
   "source": [
    "Transpose[A]"
   ]
  },
  {
   "cell_type": "code",
   "execution_count": 7,
   "id": "exceptional-princess",
   "metadata": {},
   "outputs": [
    {
     "data": {
      "text/html": [
       "<div><img alt=\"Output\" src=\"data:image/png;base64,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\"></div>"
      ],
      "text/plain": [
       "1   2   3\n",
       "\n",
       "2   3   4\n",
       "\n",
       "3   4   5"
      ]
     },
     "execution_count": 7,
     "metadata": {
      "text/html": [],
      "text/plain": []
     },
     "output_type": "execute_result"
    }
   ],
   "source": [
    "MatrixForm[Transpose[A]]"
   ]
  },
  {
   "cell_type": "code",
   "execution_count": 8,
   "id": "sustained-soldier",
   "metadata": {},
   "outputs": [
    {
     "data": {
      "text/html": [
       "<div><pre style=\"&#102;&#111;&#110;&#116;&#45;&#102;&#97;&#109;&#105;&#108;&#121;&#58;&#32;&#34;&#67;&#111;&#117;&#114;&#105;&#101;&#114;&#32;&#78;&#101;&#119;&#34;&#44;&#67;&#111;&#117;&#114;&#105;&#101;&#114;&#44;&#109;&#111;&#110;&#111;&#115;&#112;&#97;&#99;&#101;&#59;\">&#123;&#123;&#51;&#44;&#32;&#49;&#44;&#32;&#49;&#125;&#44;&#32;&#123;&#50;&#44;&#32;&#49;&#44;&#32;&#50;&#125;&#44;&#32;&#123;&#49;&#44;&#32;&#50;&#44;&#32;&#51;&#125;&#125;</pre></div>"
      ],
      "text/plain": [
       "{{3, 1, 1}, {2, 1, 2}, {1, 2, 3}}"
      ]
     },
     "execution_count": 8,
     "metadata": {
      "text/html": [],
      "text/plain": []
     },
     "output_type": "execute_result"
    }
   ],
   "source": [
    "A={{3,1,1},{2,1,2},{1,2,3}}"
   ]
  },
  {
   "cell_type": "code",
   "execution_count": 10,
   "id": "bronze-kingston",
   "metadata": {},
   "outputs": [
    {
     "data": {
      "text/html": [
       "<div><img alt=\"Output\" src=\"data:image/png;base64,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\"></div>"
      ],
      "text/plain": [
       "1      1        1\n",
       "-      -      -(-)\n",
       "4      4        4\n",
       "\n",
       "\n",
       "\n",
       "1      -2     1\n",
       "\n",
       "  3    5        1\n",
       "-(-)   -      -(-)\n",
       "  4    4        4"
      ]
     },
     "execution_count": 10,
     "metadata": {
      "text/html": [],
      "text/plain": []
     },
     "output_type": "execute_result"
    }
   ],
   "source": [
    "MatrixForm[Inverse[A]]"
   ]
  },
  {
   "cell_type": "code",
   "execution_count": 16,
   "id": "excellent-deployment",
   "metadata": {},
   "outputs": [
    {
     "data": {
      "text/html": [
       "<div><pre style=\"&#102;&#111;&#110;&#116;&#45;&#102;&#97;&#109;&#105;&#108;&#121;&#58;&#32;&#34;&#67;&#111;&#117;&#114;&#105;&#101;&#114;&#32;&#78;&#101;&#119;&#34;&#44;&#67;&#111;&#117;&#114;&#105;&#101;&#114;&#44;&#109;&#111;&#110;&#111;&#115;&#112;&#97;&#99;&#101;&#59;\">&#123;&#123;&#49;&#44;&#32;&#50;&#44;&#32;&#51;&#125;&#44;&#32;&#123;&#49;&#44;&#32;&#45;&#49;&#44;&#32;&#45;&#50;&#125;&#44;&#32;&#123;&#45;&#49;&#44;&#32;&#49;&#44;&#32;&#49;&#125;&#125;</pre></div>"
      ],
      "text/plain": [
       "{{1, 2, 3}, {1, -1, -2}, {-1, 1, 1}}"
      ]
     },
     "execution_count": 16,
     "metadata": {
      "text/html": [],
      "text/plain": []
     },
     "output_type": "execute_result"
    }
   ],
   "source": [
    "A ={{1,2,3},{1,-1,-2},{-1,1,1}}"
   ]
  },
  {
   "cell_type": "code",
   "execution_count": 17,
   "id": "under-devil",
   "metadata": {},
   "outputs": [
    {
     "data": {
      "text/html": [
       "<div><pre style=\"&#102;&#111;&#110;&#116;&#45;&#102;&#97;&#109;&#105;&#108;&#121;&#58;&#32;&#34;&#67;&#111;&#117;&#114;&#105;&#101;&#114;&#32;&#78;&#101;&#119;&#34;&#44;&#67;&#111;&#117;&#114;&#105;&#101;&#114;&#44;&#109;&#111;&#110;&#111;&#115;&#112;&#97;&#99;&#101;&#59;\">&#51;</pre></div>"
      ],
      "text/plain": [
       "3"
      ]
     },
     "execution_count": 17,
     "metadata": {
      "text/html": [],
      "text/plain": []
     },
     "output_type": "execute_result"
    }
   ],
   "source": [
    "Det[A]"
   ]
  },
  {
   "cell_type": "code",
   "execution_count": 18,
   "id": "educational-procurement",
   "metadata": {},
   "outputs": [
    {
     "data": {
      "text/html": [
       "<div><img alt=\"Output\" src=\"data:image/png;base64,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\"></div>"
      ],
      "text/plain": [
       "   2   7\n",
       "{-(-), -, -1}\n",
       "   3   3"
      ]
     },
     "execution_count": 18,
     "metadata": {
      "text/html": [],
      "text/plain": []
     },
     "output_type": "execute_result"
    }
   ],
   "source": [
    "X = LinearSolve[A,{1,-1,2}]"
   ]
  },
  {
   "cell_type": "code",
   "execution_count": 19,
   "id": "geological-gambling",
   "metadata": {},
   "outputs": [
    {
     "data": {
      "text/html": [
       "<div><img alt=\"Output\" src=\"data:image/png;base64,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\"></div>"
      ],
      "text/plain": [
       "                    2     3                            2     3\n",
       "{Root[-3 + 2 #1 - #1  + #1  & , 3], Root[-3 + 2 #1 - #1  + #1  & , 2], \n",
       " \n",
       "                       2     3\n",
       ">   Root[-3 + 2 #1 - #1  + #1  & , 1]}"
      ]
     },
     "execution_count": 19,
     "metadata": {
      "text/html": [],
      "text/plain": []
     },
     "output_type": "execute_result"
    }
   ],
   "source": [
    "Eigenvalues[A]"
   ]
  },
  {
   "cell_type": "code",
   "execution_count": 20,
   "id": "photographic-norman",
   "metadata": {},
   "outputs": [
    {
     "data": {
      "text/html": [
       "<div><img alt=\"Output\" src=\"data:image/png;base64,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\"></div>"
      ],
      "text/plain": [
       "                     2     3                            2     3\n",
       "{{Root[-3 + 2 #1 - #1  + #1  & , 3], Root[-3 + 2 #1 - #1  + #1  & , 2], \n",
       " \n",
       "                        2     3\n",
       ">    Root[-3 + 2 #1 - #1  + #1  & , 1]}, \n",
       " \n",
       "                   2       3                               2       3\n",
       ">   {{Root[5 + 5 #1  + 3 #1  & , 2], Root[7 + 14 #1 + 11 #1  + 3 #1  & , 3], 1}, \n",
       " \n",
       "                   2       3                               2       3\n",
       ">    {Root[5 + 5 #1  + 3 #1  & , 3], Root[7 + 14 #1 + 11 #1  + 3 #1  & , 2], 1}, \n",
       " \n",
       "                   2       3                               2       3\n",
       ">    {Root[5 + 5 #1  + 3 #1  & , 1], Root[7 + 14 #1 + 11 #1  + 3 #1  & , 1], 1}}}"
      ]
     },
     "execution_count": 20,
     "metadata": {
      "text/html": [],
      "text/plain": []
     },
     "output_type": "execute_result"
    }
   ],
   "source": [
    "Eigensystem[A]"
   ]
  },
  {
   "cell_type": "code",
   "execution_count": 21,
   "id": "abroad-representative",
   "metadata": {},
   "outputs": [
    {
     "data": {
      "text/html": [
       "<div><pre style=\"&#102;&#111;&#110;&#116;&#45;&#102;&#97;&#109;&#105;&#108;&#121;&#58;&#32;&#34;&#67;&#111;&#117;&#114;&#105;&#101;&#114;&#32;&#78;&#101;&#119;&#34;&#44;&#67;&#111;&#117;&#114;&#105;&#101;&#114;&#44;&#109;&#111;&#110;&#111;&#115;&#112;&#97;&#99;&#101;&#59;\">&#123;&#49;&#44;&#32;&#45;&#49;&#44;&#32;&#50;&#125;</pre></div>"
      ],
      "text/plain": [
       "{1, -1, 2}"
      ]
     },
     "execution_count": 21,
     "metadata": {
      "text/html": [],
      "text/plain": []
     },
     "output_type": "execute_result"
    }
   ],
   "source": [
    "b = {1,-1,2}"
   ]
  },
  {
   "cell_type": "code",
   "execution_count": 25,
   "id": "discrete-burton",
   "metadata": {},
   "outputs": [
    {
     "data": {
      "text/html": [
       "<div><img alt=\"Output\" src=\"data:image/png;base64,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\"></div>"
      ],
      "text/plain": [
       "  2\n",
       "-(-)\n",
       "  3\n",
       "\n",
       "7\n",
       "-\n",
       "3\n",
       "\n",
       "\n",
       "\n",
       "-1"
      ]
     },
     "execution_count": 25,
     "metadata": {
      "text/html": [],
      "text/plain": []
     },
     "output_type": "execute_result"
    }
   ],
   "source": [
    "MatrixForm[Inverse[A].b]"
   ]
  },
  {
   "cell_type": "code",
   "execution_count": 26,
   "id": "removed-vessel",
   "metadata": {},
   "outputs": [
    {
     "data": {
      "text/html": [
       "<div><pre style=\"&#102;&#111;&#110;&#116;&#45;&#102;&#97;&#109;&#105;&#108;&#121;&#58;&#32;&#34;&#67;&#111;&#117;&#114;&#105;&#101;&#114;&#32;&#78;&#101;&#119;&#34;&#44;&#67;&#111;&#117;&#114;&#105;&#101;&#114;&#44;&#109;&#111;&#110;&#111;&#115;&#112;&#97;&#99;&#101;&#59;\">&#45;&#51;</pre></div>"
      ],
      "text/plain": [
       "-3"
      ]
     },
     "execution_count": 26,
     "metadata": {
      "text/html": [],
      "text/plain": []
     },
     "output_type": "execute_result"
    }
   ],
   "source": [
    "Det[-A]"
   ]
  },
  {
   "cell_type": "code",
   "execution_count": 27,
   "id": "outstanding-block",
   "metadata": {},
   "outputs": [
    {
     "data": {
      "text/html": [
       "<div><img alt=\"Output\" src=\"data:image/png;base64,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\"></div>"
      ],
      "text/plain": [
       "  2\n",
       "-(-)\n",
       "  3\n",
       "\n",
       "7\n",
       "-\n",
       "3\n",
       "\n",
       "\n",
       "\n",
       "-1"
      ]
     },
     "execution_count": 27,
     "metadata": {
      "text/html": [],
      "text/plain": []
     },
     "output_type": "execute_result"
    }
   ],
   "source": [
    "MatrixForm[Inverse[-A].(-b)]"
   ]
  },
  {
   "cell_type": "code",
   "execution_count": null,
   "id": "tested-testimony",
   "metadata": {},
   "outputs": [],
   "source": []
  }
 ],
 "metadata": {
  "kernelspec": {
   "display_name": "Wolfram",
   "language": "Wolfram Language",
   "name": "wolframlanguage12.2"
  },
  "language_info": {
   "codemirror_mode": "mathematica",
   "file_extension": ".m",
   "mimetype": "application/vnd.wolfram.m",
   "name": "Wolfram Language",
   "pygments_lexer": "mathematica",
   "version": "12.0"
  }
 },
 "nbformat": 4,
 "nbformat_minor": 5
}
