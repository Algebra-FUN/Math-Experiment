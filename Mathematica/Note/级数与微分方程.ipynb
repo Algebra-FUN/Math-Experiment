{
 "cells": [
  {
   "cell_type": "markdown",
   "id": "recent-adventure",
   "metadata": {},
   "source": [
    "# 第三课 级数与微分方程\n",
    "## 无穷级数\n",
    "### 级数求和\n",
    "`Sum[f[n],{n,n0,n1}]`$=\\sum_{n=n_0}^{n_1}f(n)$\n",
    "> 求级数\n",
    "\n",
    "`Sum[f[n,m],{n,n0,n1}]`"
   ]
  },
  {
   "cell_type": "code",
   "execution_count": null,
   "id": "celtic-mentor",
   "metadata": {},
   "outputs": [],
   "source": []
  }
 ],
 "metadata": {
  "kernelspec": {
   "display_name": "Wolfram",
   "language": "Wolfram Language",
   "name": "wolframlanguage12.2"
  },
  "language_info": {
   "codemirror_mode": "mathematica",
   "file_extension": ".m",
   "mimetype": "application/vnd.wolfram.m",
   "name": "Wolfram Language",
   "pygments_lexer": "mathematica",
   "version": "12.0"
  }
 },
 "nbformat": 4,
 "nbformat_minor": 5
}
