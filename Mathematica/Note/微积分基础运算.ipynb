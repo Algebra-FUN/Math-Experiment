{
 "cells": [
  {
   "cell_type": "markdown",
   "id": "color-uzbekistan",
   "metadata": {},
   "source": [
    "# 第二课 微积分基本运算\n",
    "## 极限\n",
    "`Limit[f[x],x->x0]`=$\\lim_{x \\to x_0} f(x)$\n",
    "\n",
    "`Limit[f[x],x->x0,Direction->-1]`=$\\lim_{x \\to {x_0}^+} f(x)$\n",
    "> 从左逼近，右导数\n",
    "\n",
    "`Limit[f[x],x->x0,Direction->1]`=$\\lim_{x \\to {x_0}^-} f(x)$\n",
    "> 从右逼近，左导数"
   ]
  },
  {
   "cell_type": "code",
   "execution_count": 6,
   "id": "loose-cambodia",
   "metadata": {},
   "outputs": [],
   "source": [
    "f[x_] := If[x<0,1-x,x^2]"
   ]
  },
  {
   "cell_type": "code",
   "execution_count": 7,
   "id": "marine-comfort",
   "metadata": {},
   "outputs": [
    {
     "data": {
      "text/html": [
       "<div><img alt=\"Output\" src=\"data:image/png;base64,iVBORw0KGgoAAAANSUhEUgAAALYAAAAfCAIAAADFgaB1AAAA0XpUWHRSYXcgcHJvZmlsZSB0eXBlIGV4aWYAAHjabU9bbgQhDPvnFD1CSIIDx2F2Gak36PFrdtJWU60lEuO8y/r6PMvHhlYp3qJjAEL48KGTpMuFy1cZL/vCgYzVu17qmfqk1P4CWKkfdz2ykfZ/jUQvYnsCuXkWZCPTS68zN8p8nb3fG/2ckRjyu/rbv1soGmo4ratEYJD3QkqHptICJx4AEyueKv6gX4hgGWJn2NyFG7rinr0KjMJzn2D7VZv0Rls5Wsg7eTOnVYMeqTDCc74Bn5Ja+I9y4Z4AAAAJcEhZcwAAFiUAABYlAUlSJPAAAAA8dEVYdFNvZnR3YXJlAENyZWF0ZWQgd2l0aCB0aGUgV29sZnJhbSBMYW5ndWFnZSA6IHd3dy53b2xmcmFtLmNvbVyipoUAAAAhdEVYdENyZWF0aW9uIFRpbWUAMjAyMTowMzoxNyAwODo1NDoyNvrXgpQAAAOTSURBVHic7ZsxdqMwEIaHfXsUnCIvJxAnsLdJte12osTNdinTpRGl6dKmchN0AjhBXoqIu2gLBEggWYIAxvv0VbE9/Mz8HixGvAScc/B4zPy4dgKereNbxGPBt4jHgm8RjwXfIh4Lq7dIlUZBEAQxXfvEV4LGURAEQXS7BdctQuPATJRWV06yT0XTOIq2l9eQKn3OSgCAMnteO925XLrJhYadj1lZXjsLF8LkCSMAAISfknDdc8/lUt0i+xNvYAQBAOC8fadYu7b/iv2p4Jzz4rS/diZTuclfEc+q8B7DXxGFHLefshwjJFQQwjnTHsBy0oUBIPG3Rl/W0yiKxC4xFLVoSsKIsCZbbXRXeC4imiOalYTI0nW4BCJaf8b5yXKiuAkIYaIELuDSxBYhOR6mMjiGDYwyxur01LDxxds1JWFEmO4MbXBTuByDSK6+7HcU6D+c6KfRTUl7AZemtUjrEOOcc9YYpdrQZCs3JWsuOkW/jeyuCKZeq7okDKaP1lRcbZNlvZq6whFh8jGIsOZDvWkXsx3hJ88xwoTkrHuzvQZ1Z57LpcktgnS/q8OLfpChRt9Ui7FGh+JHaHZft7Z1RKZt4fXr5qVYbS6Z5tYiNj8vF6qLnMuliberOFfnnN09AgD4+GqG8Or9rQQA9PuXdRyi5wwANEPh/hEDQPnJxuc3QRMRpp3duprqqL/yaDLXKGv104iInISbS9NaBN3vLBHsswQAeLizOlh9fQAAZIfhpt0hA3DyaQ7NQaphUo+rioFqlN0HN5x16u0wuZ7dcfLWh6NLP6fqOzGXhR4AABqLr25dNrMvYl52p2/dLaF5NWhc90dvJHUYYSzYXFqqReolcrjmi3sUifDuAWDScmJmCc0rU983ACKvp/1M7e3o0lItIk6fnZUHnDTWLJ2im44vzs9CxRFv78baxmveJhV96V9yLXO5tNhCU98UQ3aIaQUAUNE0Cg5Zu73aESZPIjSKU9rVU1U0jaNY86RS9F95/CPHf09z64jJpXx7F+VUNI2j3SEz3q3O5pI0BxtQxmbDJK3bBTFsVkpbzi4rqn6u18eroq6alp0gpfA2SvWhL2G5QZDO7+6nXhNhrPNzTpcWvF0Nk0J57IBzxk3PO8OkYCzHaPj84VV7YxkmRe/hz/c1N07PTlFKcXq0HPJtlwLu/4/Gc5HNDL2ereJbxGPBt4jHgm8RjwXfIh4LvkU8Fv4BV9OUCskYgJkAAAAASUVORK5CYII=\"></div>"
      ],
      "text/plain": [
       "Indeterminate"
      ]
     },
     "execution_count": 7,
     "metadata": {
      "text/html": [],
      "text/plain": []
     },
     "output_type": "execute_result"
    }
   ],
   "source": [
    "Limit[f[x],x->0]"
   ]
  },
  {
   "cell_type": "code",
   "execution_count": 8,
   "id": "simplified-audio",
   "metadata": {},
   "outputs": [
    {
     "data": {
      "text/html": [
       "<div><img alt=\"Output\" src=\"data:image/png;base64,iVBORw0KGgoAAAANSUhEUgAAAtAAAAHBCAIAAADPVxtoAAAA0HpUWHRSYXcgcHJvZmlsZSB0eXBlIGV4aWYAAHjabU9bDsMgDPvnFDtCXiRwHNpSaTfY8WcK09RploiNSYyS+ut5pseAMCXLUby6E2DVqjSIQhOTmepVLxxEstybn3aekhs4fx+8T+bt7odPlvITtPJJRyC02hpYQSrT5zbv2+qXVso96LPGQv0I/n83DfHsHIZqQhFeoUuCBHkWyuGn7+5oZD+EbAd3j8CYx+jQNgYHpMe9uydXGMdYQcdhbWBFZXxN0AU6q6GqkmzLwQvWeQOZwFrv+M3vwwAAAAlwSFlzAAAWJQAAFiUBSVIk8AAAADx0RVh0U29mdHdhcmUAQ3JlYXRlZCB3aXRoIHRoZSBXb2xmcmFtIExhbmd1YWdlIDogd3d3LndvbGZyYW0uY29tXKKmhQAAACF0RVh0Q3JlYXRpb24gVGltZQAyMDIxOjAzOjE3IDA4OjU0OjMwCq8W4AAAIABJREFUeJzt3W9M0/mi5/HvcOkFWVa5F1iL9HJAcIU5hHRETxsG8QwPYEXjZSar2bCJbohLA7txHngeMJuIEZOV3BwfDJvYwJ2wV3PDA816GqO4sglzRIfQozi9hHvAFZTDbW1ZyknlcviTcmEf/LRTK0gpbX/9/fp+PWq/Uvo9h3+f+f2+38/3k7W1NQEAABBJCXJPAIBSmUwmuacAQDEIHAAAIOIS5Z4AAAULuMjR0dEh10wAxDgCB4DQkTAABIlbKgAAIOIIHAAAIOIIHAAAIOIIHAAAIOIIHAAAIOIIHAAAIOIIHAAAIOIIHAAAIOIIHAAAIOIIHAAAIOKoNgfUy2Xr6rxjdTiEEEJkZxtONNTrtZu+5n7PHYvVIYQQ2YbaEzVHN30JAGyOKxyASrnut140v0sbQgiHw2q+2Hrf9dEX2boumt+mDSGEw2oxX+yyRXKWAOIFVzgAVXLd77Q4hMiubWyQLlG4bF2dZqvD0nn/s5ajG1yzcN2/YxVCGBov1eu1UmSxOKx37tfoN3oFAASJKxyAKrmcDiEMjS2+GyJafX1DbbYQDueG1zhsPRaHEIbGd/ddtEdbGg1COCw9XOQAsF0EDkCV9PUdHR31+vfGtFk6IYR9o8ThctqFEIYD/i/SHzB87CUAECwCBxA3bM+sQghd1kY3VJwOIbID/lWb9fGrIgAQnNADh3dl1e1ZDONUAESStEAju7ZGv/nHAkC4hR44+p7+ofnaw1t9z70rq2GcEIBIsHVdtDhEdm3DJss/A69/SLdhAGC7Qtyl8mZ+2dI/7l1Zvft44pHNfqamuLRwd3hnBiBMXLaui2artIZ0s90mdqdL+BdvSAs7NmQymdYd7+jo2OosAahbiIFjYcmblfGvJuweIcSb+eX2m0MlBZl1VUVZGalhnR6AbZL2topsQ2NDffhvphAsAAQpxMCRlZHaUl/W93TK0v/izfyyEGJ4fGZ4fKbamFdbUZCSrAnrJAGE5N2ljezaS5tf2/BbH/reFY51VpICwJZta5dK5cGcq+e+OF6er0l8+3keDL463/7bB4OvwjE3ANshpY1sQ2MwaUO8W65hfeZfurHJxhYACNZ2t8VqEhNOVu5vazriW8OxsOTt7h1tvtY/PD6z7ekBCJGt6+2yjc2PT3lHKt2wmt/1n7vut5qtIrCaAwBC8cna2lq4PtfY5Ozf9fyj0z3vG2FhByCPtys31vPT/RVbl8lsff92i63LZLa+//GGxsACsXdMJhNrOAAEKZzFX4W56W1NFXVVRb41HMPjM83X+rt7RxeWvGF8IwCbcDnXTxub0ddfaqw1ZL99lm2obbwUgaWmAOJQOK9w+CwseS394/4rOVKSNbUVBdXGvLC/FwC5cIUDQPAiUm2ekqypqypqa6ooyk2XRqSFHRc6H49NzkbiHQEAQCyL4FkqWRmpzacN506VZqTtkEamXHNXbljbbw7RiQ4AQFwJsYcjeKWFu0sKMh8MvrL0v5BK0IfGpt81duzz7acFAAAqFo2/95rEhOPl+VfPfWEs3iONSJ3o59u/Hxx5HYUJAAAAeUXvAsOu1KTGr/Qt9WX5ujRp5M38svm2rbVrQKpIBwAAahXtOxr5urSW+rIzNcW7UpOkkQm7p7Vr4HrPiFSRDgAA1CfiazjWVXkwx1icdW/g5YPBV9LCjr6nU4MjzmNle6uNeSzsAABAZWT7056SrDlZuf9yQ3lJQaY0srDkvdX3vPnaQzrRAQBQGZmvJWRlpJ6vO3S+7pCv/tztWbza/eRq9xP/inQAAKBo8txSCVBSkFlSkHn38cS9gZdSCTqH3QMAoCYxtFrieHl+W1NF5cEc38iDwVfN1/r7nk7JOCsAALB9MRQ4hBC7UpPO1BQHbJ293jNCJzoAAIoWkcPbwmJw5HV376j/Xllj8Z66qiLffloA8jKZTAEjnOUGYCOxGziEEN6VVUv/C9/WWSGEJjHh2Of5xz/PZ+ssIDtOiwUQvJj+s61JTDhZub+t6Uhp4W5pxLuyann44nz790Nj0/LODQAABC+mA4ckI23HuVOl35w2+LbOvplfbr851HbDOuWak3duAAAgGAoIHJLC3PS2poq6qiLfLtnRydkLnY+v94xIO2kBAEDMUkzgkFQb866e+2W1Mc830vd06nz7bx8MvpJxVgAA4OMUFjiEECnJmrqqossN5UW56dLIwpK3u3e0+Vo/negAAMQm5QUOSY52Z/Npw7lTpRlpO6QRp3te6kR3exblnRsAAAig1MAhKS3c3dZ05GTlft/CjuHxmeZrD2/1PWdhBwAAsUPZgUMIoUlMCOhE966s3n08QSc6AACxQ/GBQyJ1ovsv7JA60Vu7BibsHnnnBgAAVBI4JB8u7Jiwe1q7Bsy3bf4V6QAAIMpi4nj68Cot3F1SkHn3h4l7P0xIneiDI6+Hxly1FfuqjXl0ogMAEH3q/OurSUz48si+q+e+MBbvkUa8K6u3+p43X3tIJzoAANGnzsAh2ZWa1PiV3v+we7dnUepEd7rn5Z0bAABxRc2BQ5KvS2upLzt7osR3rv3o5Gzztf7u3lG2zgIAEB3qDxySw3pdW1PF8fKfzrV/MPiKTnQAAKIjXgKHECIlWRNw2L2vE31sclbeuQEAoG5xFDgk0mH35+sO+Q67d7rnr9ywtt8cohMdAIAIUeG22GCUFGSWFGQ+GHxl6R+XVnIMjU0Pj89UG/NqK/axdRYAgPD6ZG1tTe45yGlhyXur77l/Cfqu1KS6qiLffloAGzGZTAEjHR0dsswEQOyL98AhmXLNdfeOjvqt5MjXpf3Hqk99+2kBfMhkMpEwAASJewdC+HWi+7bOSp3o390ZphMdAIDti9M1HOv6sBP9kc0+NDZ9rGwvnegAAGwHf0Tf4+tE9986Syc6AADbROBYx67UpHOnSr85bcjR7pRGpE70q91P6EQHACAEBI4NFeamX24or6sqSknWSCPD4zN0ogMAEAICxyaqjXlXz/2y2pjnG6ETHQCArSJwbC4lWVNXVXS5obwoN10akTrRL3Q+phMdAIBgEDiC9eHW2SnXHJ3oAAAEg22xW/Ph1lmpE/3Y5/nHP89n6ywAAOviD+SW+bbO+urPvSurlocvzrd/PzjyWt65AQAQmwgcIdqVmtT4lb6lvsxXf/5mftl829baNTDlmpN3bgAAxBoCx7bk69Ja6svO1BT7d6Jf6Hx8vWeETnQAAHwIHGFQeTCnraniePlPazj6nk41X+tn6ywAABICR3ikJGtOVu5vazri34ne3TvafK1/eHxG3rkBACA7Akc4ZaTtkDrRszJSpRGne/5q9xM60QEAcY7AEX6FueltTRUBnegXOh/f6ntOJzoAID4ROCIloBPdu7J69/FE87X+vqdT8k4MAIDoI3BEkNSJ3tZU4etEfzO/fL1n5ELn4wm7R965AQAQTZ+sra3JPYe4MDQ23d37e/8SdGPxnrqqIt9+WkBxTCZTwEhHR4csMwEQ+wgc0eNdWfXvRBdCaBIT6ESHcplMJhIGgCDxdy566EQHAMQtAke0+TrRc7Q7pRGpE73thpVOdACAWhE45JGvS7vcUO7fiT46OUsnOgBArQgccpI60X1bZ8W7TvS7j39a5wEAgAoQOGTm2zpbUpApjSwseW/1Pb/Q+ZhOdACAahA4YkJWRur5ukPnTpVmpO2QRuhEBwCoSaLcE8BPSgt3lxRkPhh8dW/gpVSCPjw+Mzw+U23Mq60o8BWlAwCgOFzhiC2axITj5fltTRWVB3N8gw8GX51v/y2H3QMAlIvAEYt2pSadqSm+3FCer0uTRqTD7i90Ph6bnJV3bgAAhIDAEbtytDtb6ssav9L7ts5Oueau3LC23xzyr0gHACD2sYYj1hmL95QWav070YfGpqWFHcfK9rKwAwCgCFzhUIB1O9Glw+7pRAcAKAKBQzE26kRv7RrgsHsAQIwjcCjMh53oE3ZPa9cAnegAgFjGGg5FqjyYYyzOujfw8sHgK2lhR9/TqcER57GyvdXGPA67BwDEGv4yKVVKsuZk5f62piOlhbulETrRAQAxi8ChbBlpO86dKj1fdygrI1UaoRMdABCDPllbW5N7DgiPB4OvLP3jUie6EEKTmMDWWUSUyWQKGOno6JBlJgBiH4FDVRaWvJb+cf8S9F2pSbUV+/yL0oFwMZlMJAwAQeKWiqr4Drsvyk2XRt7ML1/vGWHrLABAXgQOFcrKSG0+bfA/7F7aOmu+bWPrLABAFmyLVa0PD7sfHHk9NOaqrdjH1lkAQJTxV0fNfIfd+3ei3+p73nzt4dDYtLxzAwDEFQKH+vk60X2H3bs9i+03h9puWNk6CwCIDgJHvMjXpbXUl509UeLrRB+dnG2+1t/dO+rbSQsAQIQQOOLLYb2uranieHm+bw3Hg8FX59t/67+TFgCAsCNwxB1fJ3pJQaY0srDk7e4dvdD5eGxyVt65AQDUisARpzLSdpyvO+TfiT7lmrtyw9p+c8jtWZR3bgAA9WFbbFwrKciUts76OtGHxqaHx2eqjXm1FfvYOgsACBcCB0S1Mc9YvMfS/6Lv6ZQQwruyevfxxCObva6qyLefFgpn6zKZRWNHvX6Tj3Pdb71ocQQMGoJ4IQB8HP8JCyGE2JWadKam+HJDuW/r7Jv5ZfNtG53oquC632q2BvmhzsC0AQBhwRUO/CRHu7Olvmxw5HV376hUgi51ohuL99RVFfn200JR1r1mseEHO+1CZNdeajmqjeikAMQfAgcCGYv3lBZq7/4wce+HCe/KqqATXbFctq5Os9UhsrOzhcMRTOhwOR1CGLJIGwDCjj8eWIcmMeHLI/vamo6UFu6WRuhEVyDXj3esjmxD46WWhkNBvsJpFyKbvAEgArjCgQ1lpO04d6p0bHL273r+USpBlzrRi3LT66qKcrQ75Z4gPk77WcOlo1qtEMIV5CveXuBwdbVetDqEECLbUNtQz+0VAGHAFQ5sojA3va2poq6qKCVZI42MTs5e6HxMJ3rs02q3FhVcTrsQwmo2W9/dfnFYLRdNXbawzwxA/OEKB4JSbcw7rNfd6nsubZ0VQjwYfPXIZq+tKKg25sk7N4SJ68cnDiFEtqGxoV6vFUK4bPc7zRaH1dx1gH2xALbpk7W1NbnnACWZcs11946O+pWgZ2Wk/qeanxfmpss4K3yctFMlpDoNW5fJbN2gicNkMm30so6Ojq2+EwB14woHtiZHu7P5tGFobLq79/dSCbrTPX/lhrW0cHdd1acZaTvkniDCS5uVLcTGG1wIFgCCROBAKEoLd0ud6PcGXgZ0oh8r2+tb7QEAgIRFowiRJjHheHl+W1NF5cEcaUTqRG++1j848lreuSEkti6TydR6/70tLdK6DnbKAtg2Age2RepEb6kvoxNd+fQHDEI4LJ1dtreZw2Xr6rQ4hMg+9BmBA8A2cUsFYZCvS1u3E/2wXneycj+d6LHK1mUyW/2KzPU1tdlWi8Nqvuh/8kp2bQNNHAC2jcCBsPmwE/2RzT40Nn2sbC+d6MqgPdpyKet+zx3L2yKObEPtiZqjeuIGgO1jWyzC7838cnfvqP9Kjoy0HWdqiksKMmWcFcLOZDKxSwVAkPiPToTfrtSkxq/0LfVlvvpzt2fxaveTq91PpIp0AEC8IXAgUvJ1aZcbys/UFPvWcAyPzzRf67/V95xOdACINwQORFblwZy2porj5fm+EWnrrK8iHQAQDwgciLiUZM3Jyv1tTRW+NRxv5pev94xc6HzM1lkAiBMEDkRJVkbq+bpD5+sO+erPp1xzrV0D5ts2aSctAEDFCByIqpKCzLamIycr9/vqzwdHXp9v//43D19IO2kBAKpE4EC0+TrRD+t10oh3ZdXy8EXztYdDY9Pyzg0AECEEDshjV2rS2RMl/p3obs9i+82hthvWKdecvHMDAIQdgQNykjrRG7/S+7bOjk7OXuh8fL1nhIUdAKAmVJtDflInuqX/xYPBV9JKjr6nU4MjzmNle/330wIAlIsrHIgJmsSEk5X725qOlBbulkYWlry3+p43X+sfHp+Rd24AgO0jcCCGZKTtOHeq9JvTBl8nutM9Tyc6AKgAh7chRvU9nbL0v/BfyVFtzKutKPDtp4XsTCZTwAhnuQHYCIEDsWthyWvpH38w+Mo3IpWWVh7MkXFW8OG0WADB45YKYldKsqauqsi/E31hySt1oo9Nzso7NwDAlhA4EOt8nehZGanSyJRr7soNa/vNIbbOAoBSsC0WylBSkFlSkPlg8JWlf1w63X5obHp4fObY5/nHP8/XJBKdASCm8WsaSlJtzGtrqvCt4ZA60c+3fz848lreiQEAPo7AAYXZlZp0pqb4ckN5UW66NPJmftl820YnOgDEMgIHFClHu7P5tIFOdABQCtZwQMGkTvS7P0zc+2HCvxO9tqKg2pgn9+wAAD/hCgeUTZOY8OWRfVfPfeHfid7dO0onOgDEFAIH1GBXatJGnehuz6K8cwMACAIH1KQwN/1yQ/mZmmJf/fnw+EzztYe3+p5LO2kBAHIhcEBtKg/mXD33S98aDu/K6t3HE83X+vueTsk7MQCIZwQOqNCHnehv5pev94y0dg1M2D3yzg0A4hOBA6oldaKfO1WakbZDGpmwe1q7Bsy3bWydBYAoY1ssVK60cLfUiX5v4KW0kmNw5PXQmItOdACIJn7bQv00iQnHy/PbmiqMxXukEakTvfnaw6GxaXnnBgBxgsCBeLErNanxK31LfVm+Lk0acXsW228O0YkOAFFA4EB8ydeltdSXrduJztZZAIgc1nAgHhmL95QUZN4bePlg8BWd6AAQBZ+sra3JPQdANm7PYnfv7/1XcmRlpNZVFfn20+IjTCZTwEhHR4csMwEQ+wgcgBgen+nuHXW6530jJQWZdVVFWRmpMs4q9plMJhIGgCBxSwUQJQWZ0tZZS/+4tJJjeHxmdHK22ph3rGyvrygdABAyFo0Cb1Ub866e+2XlwRzpKZ3oABBGBA7gJynJmjM1xZcbyoty06URqRP9QufjsclZeecGAIpG4AAC5Wh3Np82+G+dnXLNXblhpRMdAELGGg5gfcbiPaWF2rs/TNz7YULaOksnOgCEjF+awIY0iQlfHtl39dwXpYW7pRGpE/18+/eDI6/lnRsAKAuBA9jErtSkc6dKvzltyNHulEbezC+bb9tauwboRAeAIBE4gKAU5qZfbig/U1Ps2yU7YfdInegs7ACATRE4gC2oPJhz9dwv/evP+55ONV/rv/v47ToPAMC6CBzA1qQka+qqitqaKnz15wtL3lt9zy90Ph4en5F3bgAQswgcQCiyMlLP1x06X3coI22HNOJ0z1/tfnK1+4l/RToAQELgAEJXUpDZ1nTkZOV+38KO4fGZ5mv93b2jHHYPAP4IHMC2aBITjpfntzVV+DrRhRAPBl/RiQ4A/ggcQBjsSk06U1PcUl+Wr0uTRuhEBwB/BA4gbPJ1aS31ZR92orffHGLrLIA4R7U5EGYfdqIPjU0Pj8/QiQ4gnvG7Dwg/qRO9rekInegAICFwAJGSkbaDTnQAkHyytrYm9xwA9et7OnWr77n/XtnKgzm1Fft8qz2UyGQyBYx0dHTIMhMAsY/AAUTJwpLX0j/+YPCVbyQlWXOsbG+1MU+hCztMJhMJA0CQFPlrDlAiOtEBxDMCBxBVdKIDiE8EDkAGG3WiB6zzAADVIHAA8li3E/3u4wk60QGoEoEDkJPUiX65oTygE721a2DC7pF3bgAQRgQOQH452p0BnegTdk9r14D5to1OdADqQLU5ECs+7EQfHHk9PD6j6K2zACDhVxgQQ6RO9KvnvvB1oktbZ5uvPWTrLABFI3AAMWdXalJAJ7rbs8jWWQCKRuAAYlRhbvrlhvIzNcW+hR3S1tnu3lG2zgJQHAIHENMqD+a0NVUcL8/3jTwYfHW+/bf+FekAEPsIHECsS0nWnKzcH9CJ3t07eqHz8djkrLxzA4AgETgAZfB1omdlpEojU665Kzes7TeH3J5FeecGAJtiWyygJCUFmUW56Q8GX90beCmt5Bgamx4en6k25h0r2+srSgeAWMMVDkBhPuxE966sSp3oj2x2eecGABshcACKJHWit9SX+Xeif3dnmE50ALGJwAEoWL4ujU50AIrAGg5A8YzFe0oKMu8NvHww+MrXiT405jr2ef7xz/PpRAcQCz5ZW1uTew4AwsPtWezu/f3Q2LRvJCNtR13Vp76i9PAymUwBIx0dHZF4IwAqQOAA1GZ4fKa7d9S/BL0oN72uqshXlB4uJpOJhAEgSFxrBdSmpCCzramirqrIt0t2dHL2Qufj6z0jdKIDkAuBA1CnamPe1XO/rDbm+Ub6nk7RiQ5ALgQOQLVSkjV1VUWXG8qLctOlEakTvflaP4fdA4gyAgegcjnanc2nDedOlWak7ZBGnO75q91P6EQHEE1siwXiQmnh7pKCzLs/TNz7YULaOksnOoBo4goHEC80iQlfHtl39dwXxuI90oivE31w5LW8cwOgegQOIL7sSk1q/Eof0Iluvm1r7RqYcs3JOzcAKkbgAOKR1Il+pqbYvxNd2jpLJzqASGANBxC/Kg/mHNbr/Bd29D2dGhxxHivbW23MoxMdQBjRNArEA1uXySwaO+r16/+zXyf6P//ZPz9PnHN8IoQQWkPtlzVH9doNPilNowCCx3/BAKrnut9qtn70IzLSdpw7VfrNaUP6n/o0b9OGEMJltZgvXhuM/AwBqB+BA1A31/3WixZHUB9amPy7NI8Q4tNP/urfL2X/9dLuojUhxD/8r7+xPKcTHcA2sYYDUC2XravTbHWI7Oxs4XBsHjpsPRaHEIbGr/9DoffewMu7j8Vy+lzyrGPit4+bX9prK/ZVHsyJwrQBqBJXOAC1cv14x+rINjReamk4FNTHO+1CCMMBvUhJ1pys3N/WVFFSXPQvQoiVf56bX77eM3Kh8/GE3RPZWQNQKQIHoFbazxoudbTUb7jmM5DL6RAiO8v34VkZqefrDhszhfD+SfpNMeWaa+0aaL85xNZZAFvFLRVAtbTaYLPGR2T/uXgitL84su8frJPSSg6pE/3Y5/nb/+QA4gdXOAD40WW9H1K0WTohxCfGI/vamioO63XSqHdl1fLwhRCCTnQgbg2NTbfdsAa/opwrHAD82J0u4X8TRlrYIYQQu1KTzp4oqfpF7t/1jPhWcvzP/3Hpf673aejnANRtwu4x3/7Ru7J65Yb1a7/DqD+CwAFgC3K0O1vqyx7Z7Lf6ni8LsZT915cbynO0O+WeF4DocXsWv705JNUTLyx5U5KDyhLcUgEg0WZlC+Fwut4bDFxJKjms17U1VQghjpfnkzaAuLKw5P119xNp5XhKsuab08aUZE0wLyRwAJBIyzWsz2x+Y7ZnVvHhwg4hhJB+xZys3B+l2QGIAd6V1fabz5zueSGEJjHhV3WHgrmZIiFwAHhLf8AghLCaW+9LVzneVaIbDmxwBAuAOPPdneHRyVnp8dkTJfm6tOBfyxoOIG7Zukxma3btpZajby9g6OsbDVaz1WG5aLL4PsrQuNGRbwDiym8evvBtTDtZud9YvGdLL+cKB4Cf6OsvNdYast8+yzbUNl4ibgAQ4pHNLm2GF0JUG/OOl2+5iYfj6QGEiOPpgTgxPD7T/m5bSklB5vm6oI5LCMAVDgAAsKEp15wvbeRod547VRra5yFwAACA9bk9i7/ufiKljYy0HV+fKtUkhpgcCBwAAGAdAZUbW9oE+yECBwAACBRQufH1qQNZGanb+YQEDgAAEMh8+0f/yo3C3PRtfkICBwAAeM/1npGhsWnpcQiVG+sicAAAgJ/85uGLvqdT0uPQKjfWReAAAABv+Rd8GYv31FUVheszEzgAAIAQQgyNTX93Z1h6XFKQefZESRg/OYEDAACIKdec+faP0uMc7c7Gr/QhV26si8ABAEC8c7rnr9yw+gq+flV3KCVZE963IHAAABDXpDrRhSWvECIjbcc3p427UpPC/i4cTw8gdCaTyf8pZ7kBirOw5L1yY9DtWRRCpCRrvj5Vup060Y8gcAAIHQkDULSFJe+VG1YpbWgSE35VdyhHuzNC78UtFQAA4pFUXj7lmhNCaBITzp0qzdelRe7tCBwAAMQd78pq+80h//LykoLMiL4jgQMAgLhzvWdkeHxGenympjgs5eUfR+AAACC+XO8ZeWSzS49rj+yrPJgThTclcAAAEEcCjkr58si+6LwvgQMAgHjxYPCV76iUw3pdGI9K2RSBAwCAuPDIZu/uHZUelxRknqkpjua7EzgAAFC/4fGZ6z0j0uOi3PRzp0rDe1TKpggcAACo3NjkbPvNIemolBztznOnDkQ5bQgCBwAA6uZ0z39781lED2YLBoEDAADVis7BbMEgcAAAoE5uz2J0DmYLBoEDAAAVCkgb35w2RO5gtmAQOAAAUJuFJe+3N4eicwxskAgcAACoinTofNSOgQ0SgQMAAPX4MG1E+hjYIBE4AABQCe/KavvNZ1LaEELETtoQBA4AANTBu7LafnNodHJWenr2REnspA0hRKLcEwCgYCaTyf9pR0eHXDMB4pyUNobHZ6SnZ0+UHNbr5J1SAAIHgNCRMIAYEeNpQ3BLBQAApfvuzrAvbdQe2ReDaUMQOAAAULTv7gw/stmlx7VH9n15ZJ+889kIgQMAAKVSStoQBA4AABTqNw9f+NJGtTEvltOGYNEoAABKdKvv+d3HE9Ljw3pdXVWRvPPZFIEDAACF8b+TclivO3uiRN75BINbKgAAKIkS04YgcAAAoCAKTRuCwAEAgFIoN20IAgcAAIqg6LQhCBwAAMQ+pacNQeAAACDGqSBtCAIHAACxTB1pQxA4AACIWapJG4LAAQBAbFJT2hAEDgAAYpDK0oYgcAAAEGvUlzYEgQMAgJiiyrQhOLwNwHaYTCb/px0dHXLNBFAB78rq9Z6CjBhEAAATN0lEQVQRVaYNQeAAsB0kDCBcvCur7TeHhsdnpKcqSxuCwAEAgOwWlrzm2zYVpw1B4AAAQF4LS94rN6xTrjnpae2RfV8e2SfvlCKBwAEAgGzezC//uvuJ6tOGIHAAACAXt2fxyo1Bt2dRenr2RMlhvU7eKUUOgQMAABk43fO/7n4SJ2lDEDgAAIi+KdfclRvWhSWvEEKTmHDuVGlJQabck4osAgcAAFE1Yff8uvtJXKUNQeAAACCahsdn2m8OeVdWhRApyZpvThtytDvlnlQ0EDgAAIiSobFp8+0fpbSxKzXpV3WH4iRtCAIHAADR8chm/+7OsPQ4I23HN6eNGWk75J1SNBE4AACIOP+0kZWR+qu6Q3GVNgSBAwCASLv7eOJW33PpcY525zenDSnJGnmnFH0EDgAAIuh6z0jf0ynpcb4u7Vd1h+IwbQgCBwAAEeJdWTXf/nFobFp6WlKQee5UqSYxQd5ZyYXAAQBA+C0sedtvPhudnJWeqvIA2C0hcAAAEGZuz+K3N4fi4Ui24BE4AAAIpynX3Lc3h3yHpJypKa48mCPvlGIBgQMAgLAJqC0/e6LEWLxH7knFBAIHgNCZTCb/px0dHXLNBIgF/kWiKcmar08dKMxNl3tSsYLAASB0JAzAx7/aK95qy4NB4AAAYLt+8/CF5eEL6XF8FoluisABAMC2fHdn+JHNLj2O2yLRTRE4AAAIkXdltf3m0PD4jPQ0zqu9Po7AAQBAKBaWvL/ufjJh90hPqfb6OAIHAABb5nTP/7r7ia9s43h5/snK/fJOKcYROAAA2Jqxydlvbz6TyjYE1V7BIXAAALAFfU+nunt/L5VtaBITGr/6rLRwt9yTUgACBwAAweruHX0w+Ep6TNnGlhA4AADYXMBZ8znanV+fKqVsI3gEDgAANvFmfvnX3U98p7+WFu4+e6KEso0tIXAAKuay3e+5Y7E6hBAi21B7ouaoXvvxF9xvvWhxBAwaGjvq9ZGaIhD7Ak5/rTbm1VUVyTslJSJwAKpl67potvqeOawWs9W5SXZwOQPTBhDnhsamv7szzIaU7SNwACrlun/HKoQwNF6q12vfXbuw3rlfoz+64VUOl9MuRHbtpZaNPwSIJw8GX3X3jkqPU5I1jV/pSwoy5Z2SclG/CqiTrcfiEMLQWP/2Jor2aEujQQiHpce28YtcTocQuizSBiCEuN4z4ksbGWk7vjltIG1sB4EDUCWX0y6EMBzwv3+iP2AQQtidro++KJu8gbi3sOS92v2k7+mU9DRfl9ZSX8b2123ilgqgSi6n48PsoM3KFsLhdAmxfqZwOR1CGLJcXa0XfQtNG+q5vYL44vYsfntzyLchxVi85+yJEs5j2z4CB4C3pKsiVrPZN+KwWi5uutAUUJGAznJOSAkjAgegXoGrMbRZOiE23Ibi+vGJQwiRbWhskBZ+uGz3O80Wh9XcdYDIgXjgv0RUk5hwpqb4sF4n75TUhMABqJfd6RL+xRvSJYyNaI+2dBx9b0B/tKXRaTJbrc9s9fp1E4fJZFr3c3V0dGx9uoBsvCur390ZHhx5LT3dlZr09anSfF2avLNSGQIHgI+Qln1s+M8EC6hAwKKNfF3a16dKd6UmyTsr9SFwAKq07vrQdVeSAnEtYNFG5cGcuqpPWSIaCfx/CqiSNksnhLA+8y/dsD2zio/UbNi6TCZT6/33Ns1K6zrIKFCpB4OvrtywSmlDWrRxpqaYtBEh/N8KqJNUumE1v0sQrvutZqsIrOb44BUOS2eX7W3mcNm6Oi0OIbIPfUbggMp4V1bNt22+JaK7UpO+OW2kszyiuKUCqJS+vtFgNVsdlosmi2/Q0Oi33cTWZTJb/YrM9TW12VaLw2q+aPX7PNm1DTRxQF1YtCELAgegWvr6S41ZgafFfuwF2qMtl7J+Ol82uANmAWVh0YZcPllbW5N7DgAUyWQysUsFyhLQtFFX9Sm3UaKGKxwAAPWjaUN2BA4AgMo53fPf3nzmdM9LT1m0IQsCBwBAzQZHXn93Z9i7sio9ZdGGXAgcAAB18q6sdvf+3nfKPMejyIvAAQBQIad7/tptm2/va1ZG6tenDmRlpMo7q3hG4AAAqM3gyOvrPf/o2/t6WK+jQlR2BA4AgHp4V1Zv9T1/MPhKesptlNhB4AAAqITbs3jt9o8Tdo/0lNsoMYXAAQBQg6Gx6e/uDHMbJWYROAAAitfdO8ptlBhH4AAAKNib+eVvbw7530Zp+kqfo90p76zwIQIHgNCZTCb/pxytgigL2I1iLN5zpubnKckaeWeFdRE4AISOhAG5LCx5u3tHH9ns0lNOYot9BA4AgMJM2D3Xbv/o9ixKT7mNoggEDgCAktzqe3738YTv6WG9rq6qiNsosY/AAQBQBqd7/m/vDPvWh6Yka86eKCkt3C3vrBAkAgcAQAEe2ezXe0Z8h74W5aY3fqXniHkFIXAAAGLawpL3uzvDQ2PT0lNNYkJtxb7j5fnyzgpbReAAAMSu4fGZ7+4Mv5lflp6yPlS5CBwAgFjkXVm19L/wXx9abcw7WbmftnKFInAAAGKO0z3/7c1nTve89HRXatLZEyUlBZnyzgrbQeAAAMSWu48nLP0vfOtDSwoyz54oYX2o0hE4AACxImDjK/2hakLgAADEhIALG/m6tP98oiQrI1XeWSFcCBwAAJl9eGGDja/qQ+AAAMjGu7L6YPAVFzbiAYEDACCPCbvnb+8M+7aicGFD3QgcAIBo+7BjgwsbqkfgAABEFRc24hOBAwAQJVzYiGcEDgBANARc2EhJ1hwr28uFjfhB4AAQOpPJ5P+0o6NDrpkgli0sebt7Rx/Z7L4RykPjEIEDQOhIGNjUI5u9u3d0YckrPU1J1tRVFR3W6+SdFaKPwAEAiIiAOi/BhY34RuAAAITZwpL33sBL/8WhGWk7ztQUc9xrPCNwAADCaWhs+nrPyJv5ZempJjGh2phXW7FPk5gg78QgLwIHACA83J7F6z0jw+MzvpGi3PQzNT9n1ysEgQMAsH0fHomyKzXpZOV+FofCh8ABANiW4fGZ7t5RX8GGEKLamFdbUZCSrJFxVog1BA4AQIic7vnu3lH/eyj5urT/WPVpvi5NxlkhNhE4AABbtrDktfSPPxh85RtJSdbUVhRUG/NknBViGYEDALA1DwZfWfrHfV1eQojKgzm1Ffso2MBHEDgAAMEaGpu+1ffcf7lGUW56XVVRjnanjLOCIhA4AACbm3LNdfeOjk7O+kYy0nbUVX1aWrhbxllBQQgcAICPeTO/bOl/0fd0yjciHfRabcyjywvBI3AAANYntWvcG3jpv1yj2ph3rGwvyzWwVQQOAMA6Htnslv4Xbs+ib6SkILOuqojaUISGwAEAeM+HK0OzMlLrqoo4eg3bQeAAALw1NDZt6X8x5ZrzjdCugXAhcAAAxNjkrKV/3H8TSkqypsqQW23IpaEcYUHgAIC4NmH33Op77h81NIkJlQd/xspQhBeBA0DoTCaT/9OOjg65ZoIQTLnmLP0vhsamfSNEDUQOgQNA6EgYCuX2LN7qez448tp/8LBeV1uxLyNth1yzgroROAAgjrg9i5b+F49sdv9BY/Gek5X7iRqIKAIHAMQFt2fx3sDEI5vdu7LqGywt3F1bsY+TUBAFBA4AULkp19y9gZcBN1BKCjJPVu4naiBqCBwAoFpjk7P3Bl4Oj8/4DxblptdWFBTmpss1K8QnAgcAqNDQ2PS9gYkJu8d/sLRw97Gy/HxdmlyzQjwjcACAqnx4BooQ4rBed6xsL8egQEYEDgBQg4Ul7yOb/d7Ayzfzy75BqVej6he57ECB7AgcAKBsb+aX+4ameq2T/ofIpyRrKg/mVP0ilwovxAgCBwAo1YTd8/2zqYBSjV2pSVW/yK08mMMZKIgpBA4AUBjvyurgyOve3036H+sqhMhI23GsLP+wXqdJTJBrbsBGCBwAoBhv5pd7fzf5yGb3X6ghhCjKTf/lgb8yFu+Ra2LApggcAKAAE3ZP7+8mA8q7NIkJxuI9bD+BIhA4ACB2SXdP7g28dLrn/ccz0nZU/SL3sF7HQg0oBYEDAGLRhN1j/b3zkc3uv/dECFFSkPnLAzmlhbvlmhgQGgIHAMSQN/PLgyOvv3/2TwGXNFKSNcbirGNl+TRqQKEIHAAQEwZHXv/4f/9fwCoNIURWRmrVL3KNxVncPYGiETgAQE5O9/z3z/5pcOR1wMYTaUHoLz7NKinIlGtuQBgROABABgtL3qGx6e+fTQWcryaEyNelfXEgp7RwN5c0oCYEDgChM5lM/k87OjrkmolSeFdWh8ZcIy/dgyOvvSur/v+0KzXpsF5XXpLNHleoEoEDQOhIGEGScsaP//f/DY25AnKGEMJYvOfzkmxunUDdCBwAECkfzxk52p1fHMhhNSjiBIEDAMLs4zkjKyPV8PMs48+zuHWCuELgAIDwIGcAH0HgAIBtcXsWh8dnRl7ODI1Nf/iv5AxAQuAAgFBMueaGnk8/ez4dcEa8hJwBBCBwAECw3swvD4/PjLx0D4/PBBxxIiFnABshcADAxywseUcn//h86o+jk7PrXswQQpQUZH72b3eXFGRy0AmwEQIHAATyrqyOTs5KIePDJlDJrtSkkoLM4r0ZpYVaTWJClGcIKA6BAwCEEGJhyTtu93w8ZAghinLTi/dmlBRk5mh3RnN6gNIROADEL7dncXRy9uVrz+jkHwOOg/eXr0sr0P1F8d6Motx0LmYAodlW4DCZTBQbxzO+AaA4b+aX/+Cam3B4Xjo843bPugs/Jfm6tKLc9P05f0nI+Ah+CcS5LX0DcIUDgJq5PYuv3fNSwviDay7gCPgAhAwgcggcANRjYck75Zr7g2vO9cc/Od1/Gp2c/fjHaxITinLT92anFf3sL/N1f0HIACJHAT9dAedfK/pdovZGUfufEwV8aWL2XaJmo/85Tvf82OTsbx6++O7OcNsN69n//r8b/+b/XLlh7e4d7Xs6tW7akBLG8fL8xq/0bU0V3/23f3e+7tCXR/YV5qb/1//SGOH/HULwDRASNf2fpqZ32SqucABQgLHJWSHE6B/+uLi8MuWa88wvf2SNpz9NYkKB7i/ydWl/9W/+9c+0O+njAuRC4AAgP7dn0e1ZEELMeBbdbxaFEP80PbewtDLjWXB7FpOFuHLDGsznkeLFrtQkbfq/ys9O25ORShMXECMIHADCY8Lu8a78y7r/5Jlfds7+SXo896dlp/tPP40Hd6FiXVkZqWmpSTnanTuSEot+9pdZGam7UpNC/mwAIorAASAUj2x2IcSZ1p7ovJ20bWRvdlpKUuLPtDs1iX+Wr0uLzlsDCItP1tbWAoZic7EJAABQrnUCBwBs6pHN/vfmy0vZf+0bydel/Xnin637wSnJiX+1+20RuObPEgreXZzgQgUQP7ilAiAUh/W6vxfiekuN3BMBoAwK6OEAAABKR+AAAAARR+AAAAARR+AAAAARR+AAAAARR+AAAAARF9q2WFuXySwaO+r1m36ky3a/547F6hBCiGxD7Ymao3ptSG+JGLDlr6brfutFiyNg0BDUdw4AefHzDknY/uKHcIXDdb/VHNQxSkLYui6a3763EMJhtZgvdtm2/o6ICSF8NV3OwN8+ABSBn3cIIcL7F3+rVzjWjbAbfuwdqxDC0HipXq9991Lrnfs1+qNc5VCcUL6aLqddiOzaSy18wQFF4ecdQoT9L/4WrnC4bF2tposWR3Z2dnYwH2/rsTiEMDTWv72koj3a0mgQwmHp4SKH8oT01XQ5HULosvjtAygLP++IxF/84AOH68c7Vke2ofFSS8OhoD7eaRdCGA743/XRHzAIIexOV9DvitgQ0ldT+g8efv8ACsPPOyLyFz/4WyrazxouHdVqhRDBxQWX0/Hhd582K1sIh9MlBN+VihLSV9PldAhhyHJ1tV70LSJqqOdyKxDj+HlHRP7ib+GWilbLdw62QEq8VrPZfxHRRRPLhgEV4uddZSLxFz/Cp8UG3s/TZumEYCGzQm3tq+n68YlDCJFtaGyQbuq5bPc7zRaH1dx1gH1yQKzj5x1btdn3TKIQQrhcG14z2WbIsTtdwn8brhSCEWOC/AbY2ldTe7Sl4+h7A/qjLY1Ok9lqfWar1/MbCIhp/Lxjqzb7nkkUwnW/c8N9L2xxigPR/AaQbumF7/MBiF38vOM9iUJoPzvRmLXRv4d+gWPdFUbrriuBvIL5BuCrCcQPft6xVUF9zyQKIbT6SNSNSzdv3r+aZntmFWzUjjlBfAOE8NW0dZnM1oArJNJ9Xn5nqYjJZPJ/2tHRIddMED78vGOrgvqeieDhbdIWXKu59b60QOBdQer7G3WhDFv/auoPGIRwWDq7bG8XiLhsXZ0WhxDZhz7jF5BqdLxP7ukgPPh5x1YF8z3zydra2lY/r9RY+sGRPOskXFuXKbCEnZN8FGuzr+YH3wDrtuKyLAhQAn7eIQnjX/zIHk+vr7/UWGt4V4uabahtvETaUKwtfzW1R1v8XyG9hN8+gBLw846t2vR7JpQrHAAAAFsS2SscAAAAgsABAACigMABAAAijsABAAAi7v8D+n6n2XaIu3oAAAAASUVORK5CYII=\"></div>"
      ],
      "text/plain": [
       "-Graphics-"
      ]
     },
     "execution_count": 8,
     "metadata": {
      "text/html": [],
      "text/plain": []
     },
     "output_type": "execute_result"
    }
   ],
   "source": [
    "Plot[f[x],{x,-1,1}]"
   ]
  },
  {
   "cell_type": "code",
   "execution_count": 9,
   "id": "incorrect-clark",
   "metadata": {},
   "outputs": [
    {
     "data": {
      "text/html": [
       "<div><pre style=\"&#102;&#111;&#110;&#116;&#45;&#102;&#97;&#109;&#105;&#108;&#121;&#58;&#32;&#34;&#67;&#111;&#117;&#114;&#105;&#101;&#114;&#32;&#78;&#101;&#119;&#34;&#44;&#67;&#111;&#117;&#114;&#105;&#101;&#114;&#44;&#109;&#111;&#110;&#111;&#115;&#112;&#97;&#99;&#101;&#59;\">&#48;</pre></div>"
      ],
      "text/plain": [
       "0"
      ]
     },
     "execution_count": 9,
     "metadata": {
      "text/html": [],
      "text/plain": []
     },
     "output_type": "execute_result"
    }
   ],
   "source": [
    "Limit[f[x],x->0,Direction->-1]"
   ]
  },
  {
   "cell_type": "code",
   "execution_count": 10,
   "id": "upset-belgium",
   "metadata": {},
   "outputs": [
    {
     "data": {
      "text/html": [
       "<div><pre style=\"&#102;&#111;&#110;&#116;&#45;&#102;&#97;&#109;&#105;&#108;&#121;&#58;&#32;&#34;&#67;&#111;&#117;&#114;&#105;&#101;&#114;&#32;&#78;&#101;&#119;&#34;&#44;&#67;&#111;&#117;&#114;&#105;&#101;&#114;&#44;&#109;&#111;&#110;&#111;&#115;&#112;&#97;&#99;&#101;&#59;\">&#49;</pre></div>"
      ],
      "text/plain": [
       "1"
      ]
     },
     "execution_count": 10,
     "metadata": {
      "text/html": [],
      "text/plain": []
     },
     "output_type": "execute_result"
    }
   ],
   "source": [
    "Limit[f[x],x->0,Direction->1]"
   ]
  },
  {
   "cell_type": "code",
   "execution_count": 13,
   "id": "present-confidence",
   "metadata": {},
   "outputs": [
    {
     "data": {
      "text/html": [
       "<div><pre style=\"&#102;&#111;&#110;&#116;&#45;&#102;&#97;&#109;&#105;&#108;&#121;&#58;&#32;&#34;&#67;&#111;&#117;&#114;&#105;&#101;&#114;&#32;&#78;&#101;&#119;&#34;&#44;&#67;&#111;&#117;&#114;&#105;&#101;&#114;&#44;&#109;&#111;&#110;&#111;&#115;&#112;&#97;&#99;&#101;&#59;\">&#49;</pre></div>"
      ],
      "text/plain": [
       "1"
      ]
     },
     "execution_count": 13,
     "metadata": {
      "text/html": [],
      "text/plain": []
     },
     "output_type": "execute_result"
    }
   ],
   "source": [
    "Limit[Sin[x]/x,x->0]"
   ]
  },
  {
   "cell_type": "code",
   "execution_count": 15,
   "id": "recovered-selling",
   "metadata": {},
   "outputs": [
    {
     "data": {
      "text/html": [
       "<div><pre style=\"&#102;&#111;&#110;&#116;&#45;&#102;&#97;&#109;&#105;&#108;&#121;&#58;&#32;&#34;&#67;&#111;&#117;&#114;&#105;&#101;&#114;&#32;&#78;&#101;&#119;&#34;&#44;&#67;&#111;&#117;&#114;&#105;&#101;&#114;&#44;&#109;&#111;&#110;&#111;&#115;&#112;&#97;&#99;&#101;&#59;\">&#48;</pre></div>"
      ],
      "text/plain": [
       "0"
      ]
     },
     "execution_count": 15,
     "metadata": {
      "text/html": [],
      "text/plain": []
     },
     "output_type": "execute_result"
    }
   ],
   "source": [
    "Limit[(1-x)Tan(Pi x/2),x->1]"
   ]
  },
  {
   "cell_type": "markdown",
   "id": "specialized-controversy",
   "metadata": {},
   "source": [
    "## 微分\n",
    "### 函数的导数\n",
    "`D[f,x]`=$\\frac{\\partial f}{\\partial x}$\n",
    "\n",
    "`D[f,x,y]`=$\\frac{\\partial^2 f}{\\partial x \\partial y}$\n",
    "\n",
    "`D[f,{x,n}]`=$\\frac{\\partial^n f}{\\partial x^n}$\n",
    "\n",
    "`D[f,x,NonConstants->{a1,a2,...}]`\n",
    "> NonConstants:非常量 指明其变量是依赖于x的"
   ]
  },
  {
   "cell_type": "code",
   "execution_count": 1,
   "id": "sorted-texas",
   "metadata": {},
   "outputs": [
    {
     "data": {
      "text/html": [
       "<div><img alt=\"Output\" src=\"data:image/png;base64,iVBORw0KGgoAAAANSUhEUgAAADsAAAAfCAIAAADWeiLEAAAA0HpUWHRSYXcgcHJvZmlsZSB0eXBlIGV4aWYAAHjabU9bDsMgDPvnFDtCXjhwHLpSaTfY8RcK29RplogT4wSS+vNxpNuAMCXLXlABCli1Ki2SQhOTmeoZT+i27viqJz6W3kLK3wv0pW9X3TFZys8gkvXSeCFytdWwBqlMndust+WXVsp10HuNhUqfr/+tTV2QwW4RTcgdNfKSIg1CFsqOA3cgjIxdyO7BHe7RBh8ObaNxQLpf3T1BQ9jHCjoOawu2iFHLVJvqGVlZtsjK6RnrvACYyFreYF0RgAAAAAlwSFlzAAAWJQAAFiUBSVIk8AAAADx0RVh0U29mdHdhcmUAQ3JlYXRlZCB3aXRoIHRoZSBXb2xmcmFtIExhbmd1YWdlIDogd3d3LndvbGZyYW0uY29tXKKmhQAAACF0RVh0Q3JlYXRpb24gVGltZQAyMDIxOjA0OjIwIDIwOjMwOjExODsUOQAAAc5JREFUWIXtmD1ygzAQRj8yPordZHKCzQlwRZU23VImTbrcIM26DKdIJU4Qn8DjIstdlAJh/mRnDAjHM36NzQqYB9pdyY6stbgq7i4tcDY3YwDI0yiKosdNcSIyAhsCFQJAotZaaw03DkYTxtg6TTZT+wY0dqqAE5+MyA7qbkXRT8nlctmJ5Gm0zkCi3y/doeEMMy7yXHvB1SpuOedptN4xI8swqfOE89VEhVz21t+mIWSvqNK3fTSWAMalYMvQFeEJaXeR55zuSN9YjQiXiDGTTeaf+J2raJ1WTWM1QgAREQBiEWEiEE+Xg+c6V5HmQ9TGhgE2qkKtOlHTCQSl6uFsjvjWxoZBolaFPNnmBmfh4CzcSQdHaVyJ+oXnVW6sld6uuAAA6H7LSQzk+y3d+xa0exrV9M8ifhPKXrcAwO/9hWcBAMXPDkjc5+7rY9+/zcNTEtrUUWyeS10A2TpN7GfcPqGaCDZzz74XV20k2irCBq7yThbefLS7g9+50StAonrJt9w3rCJNpbofux2LkbIv1zdSNUwU/Dn8b7Tv3Fql1QgfmgIRu9WP2Ghg3ePbip6zb39cFLmW29/ulvc/MPA3yAW5/V8RnptxeK7P+BdosfzPRQhDhQAAAABJRU5ErkJggg==\"></div>"
      ],
      "text/plain": [
       "x\n",
       "--\n",
       " x\n",
       "E"
      ]
     },
     "execution_count": 1,
     "metadata": {
      "text/html": [],
      "text/plain": []
     },
     "output_type": "execute_result"
    }
   ],
   "source": [
    "v=x E^-x"
   ]
  },
  {
   "cell_type": "code",
   "execution_count": 22,
   "id": "arbitrary-accountability",
   "metadata": {},
   "outputs": [
    {
     "data": {
      "text/html": [
       "<div><img alt=\"Output\" src=\"data:image/png;base64,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\"></div>"
      ],
      "text/plain": [
       "  -x   x   -2   x   5    x\n",
       "{E   - --, -- + --, -- - --}\n",
       "        x   x    x   x    x\n",
       "       E   E    E   E    E"
      ]
     },
     "execution_count": 22,
     "metadata": {
      "text/html": [],
      "text/plain": []
     },
     "output_type": "execute_result"
    }
   ],
   "source": [
    "{D[v,x],D[v,{x,2}],D[v,{x,5}]}"
   ]
  },
  {
   "cell_type": "markdown",
   "id": "starting-humanity",
   "metadata": {},
   "source": [
    "### 全微分\n",
    "\n",
    "`Dt[f]`=$d f$\n",
    "\n",
    "`Dt[f,x]`=$\\frac{d f}{d x}$\n",
    "\n",
    "`Dt[f,x,y]`=`Dt[Dt[f,x],y]`=$\\frac{\\partial }{\\partial y}\\frac{\\partial f}{\\partial x}=\\frac{\\partial^2 f}{\\partial x \\partial y}$"
   ]
  },
  {
   "cell_type": "markdown",
   "id": "labeled-crazy",
   "metadata": {},
   "source": [
    "## 计算积分\n",
    "### 不定积分\n",
    "`Integrate[f,x]`=$\\int f(x) d x$"
   ]
  },
  {
   "cell_type": "code",
   "execution_count": 23,
   "id": "respective-edgar",
   "metadata": {},
   "outputs": [
    {
     "data": {
      "text/html": [
       "<div><img alt=\"Output\" src=\"data:image/png;base64,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\"></div>"
      ],
      "text/plain": [
       " a x\n",
       "E    (-4 Cos[4 x] + a Sin[4 x])\n",
       "-------------------------------\n",
       "                  2\n",
       "            16 + a"
      ]
     },
     "execution_count": 23,
     "metadata": {
      "text/html": [],
      "text/plain": []
     },
     "output_type": "execute_result"
    }
   ],
   "source": [
    "Integrate[Exp[a x]Sin[4x],x]"
   ]
  },
  {
   "cell_type": "code",
   "execution_count": 24,
   "id": "cloudy-medium",
   "metadata": {},
   "outputs": [
    {
     "data": {
      "text/html": [
       "<div><img alt=\"Output\" src=\"data:image/png;base64,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\"></div>"
      ],
      "text/plain": [
       "-2 (Log[-1 + Sqrt[5] - 2 x] - Log[1 + Sqrt[5] + 2 x])\n",
       "-----------------------------------------------------\n",
       "                       Sqrt[5]"
      ]
     },
     "execution_count": 24,
     "metadata": {
      "text/html": [],
      "text/plain": []
     },
     "output_type": "execute_result"
    }
   ],
   "source": [
    "Integrate[2/(1-x-x^2),x]"
   ]
  },
  {
   "cell_type": "markdown",
   "id": "international-title",
   "metadata": {},
   "source": [
    "### 定积分\n",
    "`Integrate[f,{x,a,b}]`=$\\int_a^b f(x) d x$"
   ]
  },
  {
   "cell_type": "code",
   "execution_count": 25,
   "id": "offshore-console",
   "metadata": {},
   "outputs": [
    {
     "data": {
      "text/html": [
       "<div><img alt=\"Output\" src=\"data:image/png;base64,iVBORw0KGgoAAAANSUhEUgAAAKwAAAAfCAIAAAD1DbFUAAAA0XpUWHRSYXcgcHJvZmlsZSB0eXBlIGV4aWYAAHjabU9bDsMgDPvnFDtCXiRwHNpRaTfY8WcK29Rplhob44Qm9efjSLcBYUqWo3h1J8CqVWkQhSYmM9Wznmj7uuOrn/hYfoOVvxfel79d/fDJUn4GkUyh4wVotdWwBqlMn9s8bysvrZTroPcaC5U+v/73bBri2TkM1YQivEKXBAnyLJTDD9/dEWS/C9kO7h6BNo+R0DYaB6THNd2TK4z7WEHHx9rAisp4mqArtJ01q8oGp5yZsc4L4NVbKfuLxmkAAAAJcEhZcwAAFiUAABYlAUlSJPAAAAA8dEVYdFNvZnR3YXJlAENyZWF0ZWQgd2l0aCB0aGUgV29sZnJhbSBMYW5ndWFnZSA6IHd3dy53b2xmcmFtLmNvbVyipoUAAAAhdEVYdENyZWF0aW9uIFRpbWUAMjAyMTowMzoxNyAwOTo0OTo1M6yBGgUAAAOcSURBVGiB7Vs7cqswFL3KZCngIuMVSCuA17zqtemk0jTpUrpzAyV0blO5sbQCawWeFJb2wisAG9v8EdiZ6FQJI997dThIRxcbpWkKFr8bL48uwOLxsCKwsCKwsCKwACsCC7AisIAKEWjBCEIIIRLpRxT0OGgtGCHZ5BFCiBAWCT0zCVqUYCJ3l4Av5eERI8j1E2kg9w+DFoy4rp9IeZm8lEnguxsxax379Xp3miT0abde72tUkKZpmioeUgwAAJjykGZ/hSr9JeA0JwNTrs6zVoqHFFM+ZyUqxFPx3hD6NddfkEjAlG9jzxFsEiU+LQTzEwAAHKrDyrlcdxxvFXuPqmpOvAAAOH/+URqqQ+w5beOnghZRxEobcr4jz5A4WucS2K46zV6Lq0IJYbXGocfQXiUb5+p+ceDzbwfn9fgWkxehwmwb7Ljq83zX7FBnzZyaE3XYDoZy1RDa/BFRMMT6mylMw7C0H6cqm6sMJjZm6lsCAOA3t32sjkjmmnHI80qVysyUDNzrSed7zGVk4TEM1Gyeq1qpDX0IOe36WLUHAuj8jA5Dn4WgjpeqGPm13rUPNYYduJp1JTAG983EY2MMYpcAANDPW+vgrD4pAECyuzyIzmIJAJCsZ/E1Y7l6GhHcmCiEkBs8U8NCn44AAPRvxXkhvwXH0+WGex9htk34rvmuk2muXs1UdTvF8gXHaXXdgqHsmGYmexkdso+Gs1gC3NwFZ3VQC/a+TqSUMpF+EgBgGm7jbmeQeozjqhImRKCjzeb7/N/xCHDcbJbnC28fLRM/H9SzPsUlLOki8Ovsd2jOXty+ZCdib3BPIF8l7oJ78cGLQYtov/sKEgkyCdzkm6cjug/juKpDrcmYzRi2GK6JW3bFias1TYP36mZhCwPZRGybMRzB1U80hlpsvubwBN7fjNfEbznY5gPL9i9D0W6qtAslFAbSPMZy9QQiyG2V/NrnTlqLiJHZXmR5MS9kgEjZzGstIkYu0ihU4BMWFS5Ei2Idpry8yAtGWHTtBrVgmViWi+GuYCKurlaqGvTaGfr3CaqzY0opwOTbQVZBXSfwJn0dT3cE1bf1RnYMh3PVENq8CJQqd7O6fohTfC4BYxpyVTA512s8pTjFuMRDUUbVsPKg6ukqHnYJd/upDs2igVw1hEap/d3BE0FH5B22h7HHyJ6hn8ATWDwaVgQWVgQWVgTPBxm4xXdFDHzVV0ek/fWCNYYWdiWwAPgP1RVNMSkSbTMAAAAASUVORK5CYII=\"></div>"
      ],
      "text/plain": [
       "1 + a - Cos[a]"
      ]
     },
     "execution_count": 25,
     "metadata": {
      "text/html": [],
      "text/plain": []
     },
     "output_type": "execute_result"
    }
   ],
   "source": [
    "Integrate[1+Sin[x],{x,0,a}]"
   ]
  },
  {
   "cell_type": "markdown",
   "id": "permanent-louisiana",
   "metadata": {},
   "source": [
    "### 数值积分\n",
    "`NIntegrate[f,{x,a,b}]`=$\\int_a^b f(x) d x$\n",
    "\n",
    "`NIntegrate[f[x,y],{x,a,b},{y,c,d}]`=$\\int_a^b\\int_c^d f(x,y) d x d y$"
   ]
  },
  {
   "cell_type": "code",
   "execution_count": 26,
   "id": "legendary-communist",
   "metadata": {},
   "outputs": [
    {
     "data": {
      "text/html": [
       "<div><pre style=\"&#102;&#111;&#110;&#116;&#45;&#102;&#97;&#109;&#105;&#108;&#121;&#58;&#32;&#34;&#67;&#111;&#117;&#114;&#105;&#101;&#114;&#32;&#78;&#101;&#119;&#34;&#44;&#67;&#111;&#117;&#114;&#105;&#101;&#114;&#44;&#109;&#111;&#110;&#111;&#115;&#112;&#97;&#99;&#101;&#59;\">&#50;&#46;&#54;&#50;&#56;&#53;&#51;</pre></div>"
      ],
      "text/plain": [
       "2.62853"
      ]
     },
     "execution_count": 26,
     "metadata": {
      "text/html": [],
      "text/plain": []
     },
     "output_type": "execute_result"
    }
   ],
   "source": [
    "NIntegrate[(2+Sin[x])/(1+x),{x,2,10}]"
   ]
  },
  {
   "cell_type": "code",
   "execution_count": 32,
   "id": "saved-triangle",
   "metadata": {},
   "outputs": [
    {
     "data": {
      "text/html": [
       "<div><pre style=\"&#102;&#111;&#110;&#116;&#45;&#102;&#97;&#109;&#105;&#108;&#121;&#58;&#32;&#34;&#67;&#111;&#117;&#114;&#105;&#101;&#114;&#32;&#78;&#101;&#119;&#34;&#44;&#67;&#111;&#117;&#114;&#105;&#101;&#114;&#44;&#109;&#111;&#110;&#111;&#115;&#112;&#97;&#99;&#101;&#59;\">&#49;&#51;&#46;&#51;&#55;&#50;&#56;</pre></div>"
      ],
      "text/plain": [
       "13.3728"
      ]
     },
     "execution_count": 32,
     "metadata": {
      "text/html": [],
      "text/plain": []
     },
     "output_type": "execute_result"
    }
   ],
   "source": [
    "NIntegrate[ArcTan[1+Sqrt[3 x]],{x,0,10}]"
   ]
  },
  {
   "cell_type": "code",
   "execution_count": 36,
   "id": "fleet-cigarette",
   "metadata": {},
   "outputs": [
    {
     "data": {
      "text/html": [
       "<div><img alt=\"Output\" src=\"data:image/png;base64,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\"></div>"
      ],
      "text/plain": [
       "-Graphics-"
      ]
     },
     "execution_count": 36,
     "metadata": {
      "text/html": [],
      "text/plain": []
     },
     "output_type": "execute_result"
    }
   ],
   "source": [
    "RegionPlot[y<2 x && y > x^2,{x,0,2},{y,0,4}]"
   ]
  },
  {
   "cell_type": "code",
   "execution_count": 38,
   "id": "different-boutique",
   "metadata": {},
   "outputs": [
    {
     "data": {
      "text/html": [
       "<div><pre style=\"&#102;&#111;&#110;&#116;&#45;&#102;&#97;&#109;&#105;&#108;&#121;&#58;&#32;&#34;&#67;&#111;&#117;&#114;&#105;&#101;&#114;&#32;&#78;&#101;&#119;&#34;&#44;&#67;&#111;&#117;&#114;&#105;&#101;&#114;&#44;&#109;&#111;&#110;&#111;&#115;&#112;&#97;&#99;&#101;&#59;\">&#48;&#46;&#50;&#57;&#52;&#52;&#52;&#49;</pre></div>"
      ],
      "text/plain": [
       "0.294441"
      ]
     },
     "execution_count": 38,
     "metadata": {
      "text/html": [],
      "text/plain": []
     },
     "output_type": "execute_result"
    }
   ],
   "source": [
    "NIntegrate[Boole[y<2 x && y > x^2]*Sin[x+y],{x,0,2},{y,0,4}]"
   ]
  }
 ],
 "metadata": {
  "kernelspec": {
   "display_name": "Wolfram",
   "language": "Wolfram Language",
   "name": "wolframlanguage12.2"
  },
  "language_info": {
   "codemirror_mode": "mathematica",
   "file_extension": ".m",
   "mimetype": "application/vnd.wolfram.m",
   "name": "Wolfram Language",
   "pygments_lexer": "mathematica",
   "version": "12.0"
  }
 },
 "nbformat": 4,
 "nbformat_minor": 5
}
