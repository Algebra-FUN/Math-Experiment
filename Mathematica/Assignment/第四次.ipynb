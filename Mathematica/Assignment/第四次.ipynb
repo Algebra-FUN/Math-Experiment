{
 "cells": [
  {
   "cell_type": "markdown",
   "id": "loose-elevation",
   "metadata": {},
   "source": [
    "<center><h1>第四次</h1></center>\n",
    "<center>3018233061 樊一飞</center>"
   ]
  },
  {
   "cell_type": "markdown",
   "id": "universal-colorado",
   "metadata": {},
   "source": [
    "## 1.生成元素矩阵\n",
    "生成元素为$a_{ij}=i+j$的$m\\times n$阶矩阵"
   ]
  },
  {
   "cell_type": "code",
   "execution_count": 27,
   "id": "incorporated-investing",
   "metadata": {},
   "outputs": [
    {
     "data": {
      "text/html": [
       "<div><img alt=\"Output\" src=\"data:image/png;base64,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\"></div>"
      ],
      "text/plain": [
       "2   3   4\n",
       "\n",
       "3   4   5\n",
       "\n",
       "4   5   6\n",
       "\n",
       "5   6   7\n",
       "\n",
       "6   7   8"
      ]
     },
     "execution_count": 29,
     "metadata": {
      "text/html": [],
      "text/plain": []
     },
     "output_type": "execute_result"
    }
   ],
   "source": [
    "m=5;\n",
    "n=3;\n",
    "Table[i+j,{i,1,m},{j,1,n}]//MatrixForm"
   ]
  },
  {
   "cell_type": "markdown",
   "id": "incident-employer",
   "metadata": {},
   "source": [
    "## 2.生成如下矩阵\n",
    "（1）对角阵元素为1，2，3，4"
   ]
  },
  {
   "cell_type": "code",
   "execution_count": 4,
   "id": "adjustable-murder",
   "metadata": {},
   "outputs": [
    {
     "data": {
      "text/html": [
       "<div><img alt=\"Output\" src=\"data:image/png;base64,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\"></div>"
      ],
      "text/plain": [
       "1   0   0   0\n",
       "\n",
       "0   2   0   0\n",
       "\n",
       "0   0   3   0\n",
       "\n",
       "0   0   0   4"
      ]
     },
     "execution_count": 4,
     "metadata": {
      "text/html": [],
      "text/plain": []
     },
     "output_type": "execute_result"
    }
   ],
   "source": [
    "{1,2,3,4}//DiagonalMatrix//MatrixForm"
   ]
  },
  {
   "cell_type": "markdown",
   "id": "equal-summary",
   "metadata": {},
   "source": [
    "(2)生成二阶随机矩阵"
   ]
  },
  {
   "cell_type": "code",
   "execution_count": 2,
   "id": "republican-printing",
   "metadata": {},
   "outputs": [
    {
     "data": {
      "text/html": [
       "<div><img alt=\"Output\" src=\"data:image/png;base64,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\"></div>"
      ],
      "text/plain": [
       "0.32882    0.714639   0.223687   0.817639\n",
       "\n",
       "0.159046   0.366383   0.989162   0.292401\n",
       "\n",
       "0.136733   0.552842   0.682588   0.70033"
      ]
     },
     "execution_count": 2,
     "metadata": {
      "text/html": [],
      "text/plain": []
     },
     "output_type": "execute_result"
    }
   ],
   "source": [
    "RandomReal[{0,1},{3,4}]//MatrixForm"
   ]
  },
  {
   "cell_type": "markdown",
   "id": "romantic-conviction",
   "metadata": {},
   "source": [
    "(3) 生成一个上三角阵"
   ]
  },
  {
   "cell_type": "code",
   "execution_count": 3,
   "id": "commercial-football",
   "metadata": {},
   "outputs": [
    {
     "data": {
      "text/html": [
       "<div><img alt=\"Output\" src=\"data:image/png;base64,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\"></div>"
      ],
      "text/plain": [
       "0.378208   0.126653   0.196718\n",
       "\n",
       "0.         0.112371   0.114315\n",
       "\n",
       "0.         0.         0.902663"
      ]
     },
     "execution_count": 3,
     "metadata": {
      "text/html": [],
      "text/plain": []
     },
     "output_type": "execute_result"
    }
   ],
   "source": [
    "UpperTriangularize[RandomReal[{0,1},{3,3}]]//MatrixForm"
   ]
  },
  {
   "cell_type": "markdown",
   "id": "healthy-boost",
   "metadata": {},
   "source": [
    "## 3.计算\n",
    "已知矩阵\n",
    "$$\n",
    "A_1=\n",
    "\\begin{bmatrix}\n",
    "a&b&c\\\\\n",
    "b&c&a\\\\\n",
    "c&a&b\n",
    "\\end{bmatrix}\n",
    "$$\n",
    "求其行列式、转置、逆矩阵、迹、秩"
   ]
  },
  {
   "cell_type": "code",
   "execution_count": 6,
   "id": "valued-sitting",
   "metadata": {},
   "outputs": [
    {
     "data": {
      "text/html": [
       "<div><pre style=\"&#102;&#111;&#110;&#116;&#45;&#102;&#97;&#109;&#105;&#108;&#121;&#58;&#32;&#34;&#67;&#111;&#117;&#114;&#105;&#101;&#114;&#32;&#78;&#101;&#119;&#34;&#44;&#67;&#111;&#117;&#114;&#105;&#101;&#114;&#44;&#109;&#111;&#110;&#111;&#115;&#112;&#97;&#99;&#101;&#59;\">&#123;&#123;&#97;&#44;&#32;&#98;&#44;&#32;&#99;&#125;&#44;&#32;&#123;&#98;&#44;&#32;&#99;&#44;&#32;&#97;&#125;&#44;&#32;&#123;&#99;&#44;&#32;&#97;&#44;&#32;&#98;&#125;&#125;</pre></div>"
      ],
      "text/plain": [
       "{{a, b, c}, {b, c, a}, {c, a, b}}"
      ]
     },
     "execution_count": 6,
     "metadata": {
      "text/html": [],
      "text/plain": []
     },
     "output_type": "execute_result"
    }
   ],
   "source": [
    "A1 = {{a,b,c},{b,c,a},{c,a,b}}"
   ]
  },
  {
   "cell_type": "code",
   "execution_count": 7,
   "id": "medium-concentrate",
   "metadata": {},
   "outputs": [
    {
     "data": {
      "text/html": [
       "<div><img alt=\"Output\" src=\"data:image/png;base64,iVBORw0KGgoAAAANSUhEUgAAAPwAAAAfCAIAAABMGTccAAAAznpUWHRSYXcgcHJvZmlsZSB0eXBlIGV4aWYAAHjabU9bDsMgDPvnFDtCSIIDx6EtlXaDHX+hsFVMs0RsnAcktNfzDI8OjhQ0WUYByKFFC1cXmQYGRypXvHDuMxdXP8Rz+tWtdCfQpr+tvmEw559BxENIf8G16GyYg4SHH+u4b7Oea87roM8aE4W+X/97VzFGQjT1qExmKK5zcOmExJQMJ3bACyMOJt2dG8y8DdYrpPbGDm62VrcAcePoK0g/UaqzXpH5dsSjCHhznS+nr/MG5hVbGpG7WSYAAAAJcEhZcwAAFiUAABYlAUlSJPAAAAA8dEVYdFNvZnR3YXJlAENyZWF0ZWQgd2l0aCB0aGUgV29sZnJhbSBMYW5ndWFnZSA6IHd3dy53b2xmcmFtLmNvbVyipoUAAAAhdEVYdENyZWF0aW9uIFRpbWUAMjAyMTowNDowMiAyMTowMzozNjuSVG4AAAPDSURBVHic7Zw7cqNAEIabrT0KcqDSCYYToE0cOXU2hCLZU5BAKGVOne9wAnMClQLP3IUNhBCIh+Y9uJgvctkS/evvpjXTQzmo6xo8njXxy0aQMgm6RAWzEZWbhcvziPI0obVtaI4AUE6tB+Zj4fI8oowk1H7R1zXBiy6rhcvziDJIqJXlTR/2fQbYvYT2I3OxcHkeUUYSavu2W/jyYeHyPKKMJdRW0dMctfeZpZoimD+YA3muELHl5zKbUFvLm/Dw1ep5+9wEQVJaisyFG3mMlUkURfcxQ5QUpR8d6WA+oTZuu0dojgAwMRxFuqXZkddrRl0MN+F1dPoejwl1sJEFoJcK0HbjIjQP1uTtECa0LT5KCUYAUKXv/qRAK4OE2r/vCAYbjVS2pdmSN0rT/U2GX12nHyZUtdOzsiiSzrJ0bF3Kiqh7QLYHUtfHWDGwqMokugvs63MvTwoe559fYtqW+XcOdyMWNyNPoj9PqPpNNMYSGsmtpZGRtbOrTv4M7jYs77y6LddVmKuca4iuWvQI53lnXVrTWzbcl1W3LhAmV42m9BGsfMVmSc+XPnnnFW1pt9/d/QilJMfYQtHriW5gTd/457zq2+w+VJERfbJF/9CxUU4UKofrkynZcis6N9/kuqIbmN5stuOjOEdg8nXoPVMQv2IAgPP3AkckVbp/T6RnNyLOS9nC/n1WAIDyj4ODxzS0RVcuelb2t1NBsEkr1YtqZHL2WF2oXSWjxMd7H6MkRwDVKd1wPd2s5LycLfRSAQB6++PkySRt0X+3PzE2Y3QYjgYqk2B/UlQwg4wkDjZbBKDhxhzI6/5CXF4Yxoev+iUJ9qcqzcrD7ATJgPO6bJnBUEJFuRU9K7LsMv2y7d/j8CulTK6+I0w+jnH7Z1ZEWpq9jCQumo6hePzUl3c+A5yzbKcsL37FcDrB+ZtBPPl+I87rsWUGYwkVRn470Ox8BrsKCwcsXEyN/4zo0zC9ucKjTsl5FVua1zgaSGuLrn0jy8rsc0lr+gFlllYAgF8Xef5026xJ9Fs157lsCV92AABVmrl4XFBfdOUb7z5moyTvHBwspdPjvPN4y+1kQ3uvUu/0lLbqnl1KyXk1WzqD8s501dacXlN0lTn9+GOCCGO8oKIfVagyDJ8MJviBp+TxqFNxXtmWiSNRS4seHdEVD6cowagVgZr7jyyj6K8dAKGOSajXITTHomIXfiw+JCZO3nkNtlBKelcw56uR6EHt/++NZ2U4eZ7e43GJL3rP6vBF71kdvug9q8MXvWd1+KL3rI7/p+Wicq0njesAAAAASUVORK5CYII=\"></div>"
      ],
      "text/plain": [
       "  3    3              3\n",
       "-a  - b  + 3 a b c - c"
      ]
     },
     "execution_count": 7,
     "metadata": {
      "text/html": [],
      "text/plain": []
     },
     "output_type": "execute_result"
    }
   ],
   "source": [
    "A1//Det"
   ]
  },
  {
   "cell_type": "code",
   "execution_count": 9,
   "id": "dutch-horizon",
   "metadata": {},
   "outputs": [
    {
     "data": {
      "text/html": [
       "<div><img alt=\"Output\" src=\"data:image/png;base64,iVBORw0KGgoAAAANSUhEUgAAAHwAAABhCAIAAACbNFKsAAAAzXpUWHRSYXcgcHJvZmlsZSB0eXBlIGV4aWYAAHjabU9bDsMgDPvnFDtCSIIDx6EtlXaDHX+hsFVMs0RsnAcktNfzDI8OjhQ0WUYByKFFC1cXmQYGRypXvGD7zMXVD5giVrfSnUCb/rb6hsGcfwYRDyH9Bdeis2EOEh5+rOO+zXquOa+DPmtMFPp+/e9dxRgJ0dSjMpmhuM7BpRMSUzKc2AEvjDiYdHduMPM2WK+Q2hs7uNla3QLEjaOvIP1Eqc56RebbEY/Jnc11vpy+zhtemFq5sXhRGAAAAAlwSFlzAAAWJQAAFiUBSVIk8AAAADx0RVh0U29mdHdhcmUAQ3JlYXRlZCB3aXRoIHRoZSBXb2xmcmFtIExhbmd1YWdlIDogd3d3LndvbGZyYW0uY29tXKKmhQAAACF0RVh0Q3JlYXRpb24gVGltZQAyMDIxOjA0OjAyIDIxOjAzOjUyaqU38QAABjpJREFUeJztnT9M6lwYhw9fvoGR7brZQW8aY6JOkDLYDeQbxOWG0akdhcGoE3EixgUmI4veyeiiDlI3dZDopMONNrdN0AnGbuLEN4ACek7/nvZYfJ/RU89bnp6WU+DXE+l0OggIln9Y78B3JCzSFTkSiUSSFZ31jtAgLNJHCpDOAJDOAGvp9/f3S0tLAexK2Gm323Nzc+1223JLa+mbm5vFYtFOVV2pVORkMvJOMilXFOpvfbpSkZP9CpQL6LoiJwdehP0K0Wh0ZWVlY2PDetOOKXd3d9ls1nybHjWJUEEoa7Y6sNG7UK6VhU8FpJr3/t+qfO7d4StIJBLNZtN8Gwvpoig2Gg1b1WqSIJXLNa2/f9rbcaBgZfCQClJNo16g09Hejqcg9V+FptXKkuRA+vHxcT6fN9/GTPrFxUUul7NdDkfPincp79I/jDpqBd6UUzgveZ43H+xm1/TDw8PFxUWTDayZnMKer66RatcrE4N/WMhKCCH056/HK7t+dlRHCAnl38P9uyGbzZ6cnJhsYCb9/Pw8nU47qKYrw2+kkchkvu7g/y0RpibxDfUHzVvP2kMdIST8+s+zcoRSqdTh4aHJBkTpl5eXPM/HYjG7pRQ5MpnJV+tULVtD+1yigCiKqqq2Wi3SBkTpp6enqVTKdiFFzlQRGniTG75S+kdviJJOAUak0+nz83NSK1H6zc2NKIp2iygnXeXl37sLFE5Q++h//yCE0PRPj1W7J0z96IzOrH9mZub29pbUSpSuqirP895K68r2kb9XG2U7X0cISdkFjx1N/JxGCKF6flvxvlcI8Tx/f39PbMbOaRqNBsdxDmZJ/QnX+xS6PHCjQWvKKEjl/n2A9nYrQ+Xua3CaXu5fIh3P07s0Go1YLEZqxUtXFCWRSDipgr94C5Ik0ZSOLVGjobxXBP8O5OqoIoReXl7wTdi/7uzs2L3776PVJOF9p4XeeKlRkt4dcoIwYEUYGpKU0LTaUBX3RTiOe3x8xDbhpReLxeXlZTelgDc4jru4uMA2Ed9Io9EoqQmww9jYGKkJL/35+fnHjx++7c+3IBqNPj09YZvgmyMGgHQGgHQG4KUbhuHgoy7AISCdAXB5YQBIZwBIZwBIZwBIZwBIZwBIZwBIZwAt6SOVlPAbGOkMAOkMAOkMAOkM8EH6V01KWHcdTJIEEX5sJIri3t6ek+++Q5OUMOmbYMhl7yYO6Y70ej6Tr39KSlQzMo3fqumVZKZaR5ikxDSF3hFChCQJrZ/aDeD0KBEIU1LCAR52P7CRHo6khAP8+fU7XenhSEoQ8T1J0uNfH/ocYnJKQCjgdIYrFDnSzTX4j+/z9K+ZlPhEoEkSv6V/0aTER4JNkvgs/asmJezhV5KEsvSHM/19KOqKnMxUEUJCedWrc4QWVrtnejUzdJuo60pFlj1/otybpdSPznpd60pFTk527wvo43SOSSB8SYlh6CdJApinL6wSkhLXFC+SC7vX2KQEhbn7xMo1JklyvZv12jEWp0cJsElwd6SAHUA6A0A6A0A6A0A6A0A6A0A6A0A6A0A6A0A6A0A6A0A6A0A6A0A6A0A6A0B6l0CTJHjpHMeRHhADeAdGOgNAOgNAOgPw0qPR6Ovrq6sOw5+UoJckIT7xD/t1tdvnMoYpKYHrnWaShOd5Z89ldPVQxhFIStBMkrTbbWcj/eDgQBRFRwc2dEkJbEcUkySxWIy0hgtxnm7yoHscI5KUoJUkMQzDMAyO47CteOk8zxuG4aTKaCQlqCVJWq0WyTgiJTG6j6prtVomD4wNmgCTEoO4S5Koqjo7O0tqJc7TE4mE2bPugyZka26Yr7NAlB6Px6+urmxXGamkxAAukyRXV1cmy7gQpedyOfMVkoYZqaREH1dJEsMwVFU1WcaFKJ3juFgspqqqzUqjkZSgkiSxXpTLZKZZKpVKpZKDqWmokhIfd53gx0WSJJfLke5Fu5hJbzabDpcjobmmxOeuQ7HmRrPZtFw4J9LpdEzOg0KhMD8/n836kwIZRQqFQjwez+VyZhtZHjfHg/0bY1OXxefpY2NjqVRqf3+f4lgYYba2ttbW1iw3s/4SY3193c5i1QBCaHx83M6l2OKaDvgBfF3HAJDOAJDOAJDOgP8BQtc1bx52D1oAAAAASUVORK5CYII=\"></div>"
      ],
      "text/plain": [
       "a   b   c\n",
       "\n",
       "b   c   a\n",
       "\n",
       "c   a   b"
      ]
     },
     "execution_count": 9,
     "metadata": {
      "text/html": [],
      "text/plain": []
     },
     "output_type": "execute_result"
    }
   ],
   "source": [
    "A1//Transpose//MatrixForm"
   ]
  },
  {
   "cell_type": "code",
   "execution_count": 10,
   "id": "macro-liberty",
   "metadata": {},
   "outputs": [
    {
     "data": {
      "text/html": [
       "<div><img alt=\"Output\" src=\"data:image/png;base64,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\"></div>"
      ],
      "text/plain": [
       "         2                         2                              2\n",
       "       -a  + b c                 -b  + a c                 a b - c\n",
       "-----------------------   -----------------------   -----------------------\n",
       "  3    3              3     3    3              3     3    3              3\n",
       "-a  - b  + 3 a b c - c    -a  - b  + 3 a b c - c    -a  - b  + 3 a b c - c\n",
       "\n",
       "         2                              2                    2\n",
       "       -b  + a c                 a b - c                   -a  + b c\n",
       "-----------------------   -----------------------   -----------------------\n",
       "  3    3              3     3    3              3     3    3              3\n",
       "-a  - b  + 3 a b c - c    -a  - b  + 3 a b c - c    -a  - b  + 3 a b c - c\n",
       "\n",
       "              2                    2                         2\n",
       "       a b - c                   -a  + b c                 -b  + a c\n",
       "-----------------------   -----------------------   -----------------------\n",
       "  3    3              3     3    3              3     3    3              3\n",
       "-a  - b  + 3 a b c - c    -a  - b  + 3 a b c - c    -a  - b  + 3 a b c - c"
      ]
     },
     "execution_count": 10,
     "metadata": {
      "text/html": [],
      "text/plain": []
     },
     "output_type": "execute_result"
    }
   ],
   "source": [
    "A1//Inverse//MatrixForm"
   ]
  },
  {
   "cell_type": "code",
   "execution_count": 11,
   "id": "danish-carrier",
   "metadata": {},
   "outputs": [
    {
     "data": {
      "text/html": [
       "<div><img alt=\"Output\" src=\"data:image/png;base64,iVBORw0KGgoAAAANSUhEUgAAAGIAAAAfCAIAAACTe49GAAAAynpUWHRSYXcgcHJvZmlsZSB0eXBlIGV4aWYAAHjabU9bDsMgDPvnFDtCCMGB49CWSrvBjr+ksGlUs0RsTB4k9NfzDA8HRwqStaACZJAqlZuJQgODI9UrXgDPt7j6IZ7Tb2bln4I+/W31FYO53BrRnJB8gukks2A2Sjz82MZ9m/ncSlkbfdaYqPT9+t+7JGVkRBWLwqSKaroEk0bITFlxYgcsMeJgkt24Q9XKoJ6Rmhc6uOua3QOSGYevkPzE1Izlisx3p/Dm8dK+zhtXDFq52uZw9gAAAAlwSFlzAAAWJQAAFiUBSVIk8AAAADx0RVh0U29mdHdhcmUAQ3JlYXRlZCB3aXRoIHRoZSBXb2xmcmFtIExhbmd1YWdlIDogd3d3LndvbGZyYW0uY29tXKKmhQAAACF0RVh0Q3JlYXRpb24gVGltZQAyMDIxOjA0OjAyIDIxOjA0OjA4atASEwAAAiNJREFUaIHtmT9y4yAUhx+ZHMXawpMTwAnsbVLtER5l3PgUalAZd2ndG04QncDjYuEubKF/YEUEaQclmeFrPJaFf0+f8BOSibUWMp/x8NUF/Ayypiiypiiypiiypii+gybFCSGEVearC5nmO2j6AWRNUWRNUWRNUQyajKoqzhjpYYxXauW2alTF2ZC/arwxijNHgJdvGyRODKZC28Q02VRIQUfxKFOndzWMs52jHzRRFELqwYnuzM2sVOKCEUNdKPX/xM9Pt9bq7vxQHAxoLQXinaZQ/akL7TXdzdwl8Qs0dZJCv5tgCy+2H87ERKB8f9m4G3bPCABw/Zu0Q5nLuQYAKt78dA9Hk1F+CyekONQpC/Sh2+LjD+qbTpmrbzUA0D+/pyUBPLavipP9aXGUMWZ6w2YTKiBEsaUAn5+pROkujSbFG0cU5dvrrv9eU7GYCWWqsrz1765XgGtZPvUbtsfXwHQO0Z7oqWmWON3D6ZWjHtY2t3Va+LiDLomfn96mhBc+gRZuVHlesTeNUOWhBgB83iWN2fx6AgCoD6Wa3ukBoL+i1edLu+w0quKs2J9WtXS7DC3FKM72JwCg4pjWEsDu2Myn09677TBGVZx3T3fciXcHRUSAFddN4wLk3FuARcvLyUX4aBVutUTa70opCqm7A5iXq7W7lo8dIpBSp9KugNksSB9GejV4JRCb/6eLID9IiSJriiJriiJriiJriiJriuIfSKoSDdT2hvEAAAAASUVORK5CYII=\"></div>"
      ],
      "text/plain": [
       "a + b + c"
      ]
     },
     "execution_count": 11,
     "metadata": {
      "text/html": [],
      "text/plain": []
     },
     "output_type": "execute_result"
    }
   ],
   "source": [
    "A1//Tr"
   ]
  },
  {
   "cell_type": "code",
   "execution_count": 12,
   "id": "athletic-precipitation",
   "metadata": {},
   "outputs": [
    {
     "data": {
      "text/html": [
       "<div><pre style=\"&#102;&#111;&#110;&#116;&#45;&#102;&#97;&#109;&#105;&#108;&#121;&#58;&#32;&#34;&#67;&#111;&#117;&#114;&#105;&#101;&#114;&#32;&#78;&#101;&#119;&#34;&#44;&#67;&#111;&#117;&#114;&#105;&#101;&#114;&#44;&#109;&#111;&#110;&#111;&#115;&#112;&#97;&#99;&#101;&#59;\">&#51;</pre></div>"
      ],
      "text/plain": [
       "3"
      ]
     },
     "execution_count": 12,
     "metadata": {
      "text/html": [],
      "text/plain": []
     },
     "output_type": "execute_result"
    }
   ],
   "source": [
    "A1//MatrixRank"
   ]
  },
  {
   "cell_type": "markdown",
   "id": "noted-christmas",
   "metadata": {},
   "source": [
    "## 4.求下列实非对称矩阵的全部特征值和特征向量"
   ]
  },
  {
   "cell_type": "code",
   "execution_count": 33,
   "id": "express-sharing",
   "metadata": {},
   "outputs": [
    {
     "data": {
      "text/html": [
       "<style>\n",
       "\t\t\t\t\t\t\t\t\t\t\t\t\t.grid-container {\n",
       "\t\t\t\t\t\t\t\t\t\t\t\t\t\tdisplay: inline-grid;\n",
       "\t\t\t\t\t\t\t\t\t\t\t\t\t\tgrid-template-columns: auto;\n",
       "\t\t\t\t\t\t\t\t\t\t\t\t\t}\n",
       "\t\t\t\t\t\t\t\t\t\t\t\t</style>\n",
       "\n",
       "\t\t\t\t\t\t\t\t\t\t\t\t<div><div class=\"grid-container\"><div class=\"grid-item\"><pre style=\"&#102;&#111;&#110;&#116;&#45;&#102;&#97;&#109;&#105;&#108;&#121;&#58;&#32;&#34;&#67;&#111;&#117;&#114;&#105;&#101;&#114;&#32;&#78;&#101;&#119;&#34;&#44;&#67;&#111;&#117;&#114;&#105;&#101;&#114;&#44;&#109;&#111;&#110;&#111;&#115;&#112;&#97;&#99;&#101;&#59;\">&#123;&#123;&#49;&#44;&#32;&#52;&#44;&#32;&#50;&#125;&#44;&#32;&#123;&#48;&#44;&#32;&#49;&#44;&#32;&#45;&#49;&#125;&#44;&#32;&#123;&#48;&#44;&#32;&#50;&#44;&#32;&#52;&#125;&#125;</pre></div><div class=\"grid-item\"><pre style=\"&#102;&#111;&#110;&#116;&#45;&#102;&#97;&#109;&#105;&#108;&#121;&#58;&#32;&#34;&#67;&#111;&#117;&#114;&#105;&#101;&#114;&#32;&#78;&#101;&#119;&#34;&#44;&#67;&#111;&#117;&#114;&#105;&#101;&#114;&#44;&#109;&#111;&#110;&#111;&#115;&#112;&#97;&#99;&#101;&#59;\">&#123;&#123;&#49;&#44;&#32;&#50;&#44;&#32;&#50;&#125;&#44;&#32;&#123;&#49;&#44;&#32;&#45;&#49;&#44;&#32;&#49;&#125;&#44;&#32;&#123;&#52;&#44;&#32;&#45;&#49;&#50;&#44;&#32;&#49;&#125;&#125;</pre></div><div class=\"grid-item\"><pre style=\"&#102;&#111;&#110;&#116;&#45;&#102;&#97;&#109;&#105;&#108;&#121;&#58;&#32;&#34;&#67;&#111;&#117;&#114;&#105;&#101;&#114;&#32;&#78;&#101;&#119;&#34;&#44;&#67;&#111;&#117;&#114;&#105;&#101;&#114;&#44;&#109;&#111;&#110;&#111;&#115;&#112;&#97;&#99;&#101;&#59;\">&#123;&#123;&#50;&#44;&#32;&#49;&#44;&#32;&#49;&#125;&#44;&#32;&#123;&#48;&#44;&#32;&#50;&#44;&#32;&#49;&#125;&#44;&#32;&#123;&#48;&#44;&#32;&#50;&#44;&#32;&#52;&#125;&#125;</pre></div></div></div>"
      ],
      "text/plain": [
       "{{1, 4, 2}, {0, 1, -1}, {0, 2, 4}}\n",
       "{{1, 2, 2}, {1, -1, 1}, {4, -12, 1}}\n",
       "{{2, 1, 1}, {0, 2, 1}, {0, 2, 4}}"
      ]
     },
     "execution_count": 33,
     "metadata": {
      "text/html": [],
      "text/plain": []
     },
     "output_type": "execute_result"
    }
   ],
   "source": [
    "B1={{1,4,2},{0,1,-1},{0,2,4}}\n",
    "B2={{1,2,2},{1,-1,1},{4,-12,1}}\n",
    "B3={{2,1,1},{0,2,1},{0,2,4}}"
   ]
  },
  {
   "cell_type": "code",
   "execution_count": 37,
   "id": "confirmed-allah",
   "metadata": {},
   "outputs": [
    {
     "data": {
      "text/html": [
       "<div><pre style=\"&#102;&#111;&#110;&#116;&#45;&#102;&#97;&#109;&#105;&#108;&#121;&#58;&#32;&#34;&#67;&#111;&#117;&#114;&#105;&#101;&#114;&#32;&#78;&#101;&#119;&#34;&#44;&#67;&#111;&#117;&#114;&#105;&#101;&#114;&#44;&#109;&#111;&#110;&#111;&#115;&#112;&#97;&#99;&#101;&#59;\">&#123;&#123;&#51;&#44;&#32;&#50;&#44;&#32;&#49;&#125;&#44;&#32;&#123;&#123;&#48;&#44;&#32;&#45;&#49;&#44;&#32;&#50;&#125;&#44;&#32;&#123;&#45;&#50;&#44;&#32;&#45;&#49;&#44;&#32;&#49;&#125;&#44;&#32;&#123;&#49;&#44;&#32;&#48;&#44;&#32;&#48;&#125;&#125;&#125;</pre></div>"
      ],
      "text/plain": [
       "{{3, 2, 1}, {{0, -1, 2}, {-2, -1, 1}, {1, 0, 0}}}"
      ]
     },
     "execution_count": 37,
     "metadata": {
      "text/html": [],
      "text/plain": []
     },
     "output_type": "execute_result"
    }
   ],
   "source": [
    "Eigensystem[B1]"
   ]
  },
  {
   "cell_type": "code",
   "execution_count": 38,
   "id": "becoming-promise",
   "metadata": {},
   "outputs": [
    {
     "data": {
      "text/html": [
       "<div><img alt=\"Output\" src=\"data:image/png;base64,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\"></div>"
      ],
      "text/plain": [
       "{{I, -I, 1}, {{-4 - 2 I, -1 - I, 4}, {-4 + 2 I, -1 + I, 4}, {-3, -1, 1}}}"
      ]
     },
     "execution_count": 38,
     "metadata": {
      "text/html": [],
      "text/plain": []
     },
     "output_type": "execute_result"
    }
   ],
   "source": [
    "Eigensystem[B2]"
   ]
  },
  {
   "cell_type": "code",
   "execution_count": 39,
   "id": "competitive-prospect",
   "metadata": {},
   "outputs": [
    {
     "data": {
      "text/html": [
       "<div><img alt=\"Output\" src=\"data:image/png;base64,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\"></div>"
      ],
      "text/plain": [
       "                                  1  -1 + Sqrt[3]                  1  -1 - Sqrt[3]\n",
       "{{3 + Sqrt[3], 2, 3 - Sqrt[3]}, {{-, ------------, 1}, {1, 0, 0}, {-, ------------, 1}}}\n",
       "                                  2       2                        2       2"
      ]
     },
     "execution_count": 39,
     "metadata": {
      "text/html": [],
      "text/plain": []
     },
     "output_type": "execute_result"
    }
   ],
   "source": [
    "Eigensystem[B3]"
   ]
  },
  {
   "cell_type": "markdown",
   "id": "residential-inspector",
   "metadata": {},
   "source": [
    "## 5.\t求下列矩阵的伪逆阵G"
   ]
  },
  {
   "cell_type": "code",
   "execution_count": 40,
   "id": "announced-teddy",
   "metadata": {},
   "outputs": [
    {
     "data": {
      "text/html": [
       "<style>\n",
       "\t\t\t\t\t\t\t\t\t\t\t\t\t.grid-container {\n",
       "\t\t\t\t\t\t\t\t\t\t\t\t\t\tdisplay: inline-grid;\n",
       "\t\t\t\t\t\t\t\t\t\t\t\t\t\tgrid-template-columns: auto;\n",
       "\t\t\t\t\t\t\t\t\t\t\t\t\t}\n",
       "\t\t\t\t\t\t\t\t\t\t\t\t</style>\n",
       "\n",
       "\t\t\t\t\t\t\t\t\t\t\t\t<div><div class=\"grid-container\"><div class=\"grid-item\"><pre style=\"&#102;&#111;&#110;&#116;&#45;&#102;&#97;&#109;&#105;&#108;&#121;&#58;&#32;&#34;&#67;&#111;&#117;&#114;&#105;&#101;&#114;&#32;&#78;&#101;&#119;&#34;&#44;&#67;&#111;&#117;&#114;&#105;&#101;&#114;&#44;&#109;&#111;&#110;&#111;&#115;&#112;&#97;&#99;&#101;&#59;\">&#123;&#123;&#49;&#44;&#32;&#48;&#44;&#32;&#49;&#125;&#44;&#32;&#123;&#52;&#44;&#32;&#53;&#44;&#32;&#45;&#49;&#125;&#44;&#32;&#123;&#51;&#44;&#32;&#49;&#44;&#32;&#48;&#125;&#125;</pre></div><div class=\"grid-item\"><pre style=\"&#102;&#111;&#110;&#116;&#45;&#102;&#97;&#109;&#105;&#108;&#121;&#58;&#32;&#34;&#67;&#111;&#117;&#114;&#105;&#101;&#114;&#32;&#78;&#101;&#119;&#34;&#44;&#67;&#111;&#117;&#114;&#105;&#101;&#114;&#44;&#109;&#111;&#110;&#111;&#115;&#112;&#97;&#99;&#101;&#59;\">&#123;&#123;&#49;&#44;&#32;&#48;&#44;&#32;&#49;&#125;&#44;&#32;&#123;&#52;&#44;&#32;&#53;&#44;&#32;&#45;&#49;&#125;&#125;</pre></div><div class=\"grid-item\"><pre style=\"&#102;&#111;&#110;&#116;&#45;&#102;&#97;&#109;&#105;&#108;&#121;&#58;&#32;&#34;&#67;&#111;&#117;&#114;&#105;&#101;&#114;&#32;&#78;&#101;&#119;&#34;&#44;&#67;&#111;&#117;&#114;&#105;&#101;&#114;&#44;&#109;&#111;&#110;&#111;&#115;&#112;&#97;&#99;&#101;&#59;\">&#123;&#123;&#49;&#44;&#32;&#50;&#125;&#44;&#32;&#123;&#50;&#44;&#32;&#52;&#125;&#44;&#32;&#123;&#51;&#44;&#32;&#54;&#125;&#125;</pre></div></div></div>"
      ],
      "text/plain": [
       "{{1, 0, 1}, {4, 5, -1}, {3, 1, 0}}\n",
       "{{1, 0, 1}, {4, 5, -1}}\n",
       "{{1, 2}, {2, 4}, {3, 6}}"
      ]
     },
     "execution_count": 40,
     "metadata": {
      "text/html": [],
      "text/plain": []
     },
     "output_type": "execute_result"
    }
   ],
   "source": [
    "C1={{1,0,1},{4,5,-1},{3,1,0}}\n",
    "C2={{1,0,1},{4,5,-1}}\n",
    "C3={{1,2},{2,4},{3,6}}"
   ]
  },
  {
   "cell_type": "code",
   "execution_count": 46,
   "id": "characteristic-topic",
   "metadata": {},
   "outputs": [
    {
     "data": {
      "text/html": [
       "<div><img alt=\"Output\" src=\"data:image/png;base64,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\"></div>"
      ],
      "text/plain": [
       "  1       1     1\n",
       "-(--)   -(--)   -\n",
       "  10      10    2\n",
       "\n",
       "3       3         1\n",
       "--      --      -(-)\n",
       "10      10        2\n",
       "\n",
       "11      1         1\n",
       "--      --      -(-)\n",
       "10      10        2"
      ]
     },
     "execution_count": 46,
     "metadata": {
      "text/html": [],
      "text/plain": []
     },
     "output_type": "execute_result"
    }
   ],
   "source": [
    "PseudoInverse[C1]//MatrixForm"
   ]
  },
  {
   "cell_type": "code",
   "execution_count": 47,
   "id": "excessive-option",
   "metadata": {},
   "outputs": [
    {
     "data": {
      "text/html": [
       "<div><img alt=\"Output\" src=\"data:image/png;base64,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\"></div>"
      ],
      "text/plain": [
       "2       1\n",
       "-       --\n",
       "5       15\n",
       "\n",
       "  1     2\n",
       "-(-)    --\n",
       "  5     15\n",
       "\n",
       "3         1\n",
       "-       -(--)\n",
       "5         15"
      ]
     },
     "execution_count": 47,
     "metadata": {
      "text/html": [],
      "text/plain": []
     },
     "output_type": "execute_result"
    }
   ],
   "source": [
    "PseudoInverse[C2]//MatrixForm"
   ]
  },
  {
   "cell_type": "code",
   "execution_count": 48,
   "id": "serious-colombia",
   "metadata": {},
   "outputs": [
    {
     "data": {
      "text/html": [
       "<div><img alt=\"Output\" src=\"data:image/png;base64,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\"></div>"
      ],
      "text/plain": [
       "1    1    3\n",
       "--   --   --\n",
       "70   35   70\n",
       "\n",
       "1    2    3\n",
       "--   --   --\n",
       "35   35   35"
      ]
     },
     "execution_count": 48,
     "metadata": {
      "text/html": [],
      "text/plain": []
     },
     "output_type": "execute_result"
    }
   ],
   "source": [
    "PseudoInverse[C3]//MatrixForm"
   ]
  },
  {
   "cell_type": "markdown",
   "id": "agricultural-johnston",
   "metadata": {},
   "source": [
    "## 6.\t将数值矩阵进行奇异值分解"
   ]
  },
  {
   "cell_type": "code",
   "execution_count": 49,
   "id": "ethical-invalid",
   "metadata": {},
   "outputs": [
    {
     "data": {
      "text/html": [
       "<div><pre style=\"&#102;&#111;&#110;&#116;&#45;&#102;&#97;&#109;&#105;&#108;&#121;&#58;&#32;&#34;&#67;&#111;&#117;&#114;&#105;&#101;&#114;&#32;&#78;&#101;&#119;&#34;&#44;&#67;&#111;&#117;&#114;&#105;&#101;&#114;&#44;&#109;&#111;&#110;&#111;&#115;&#112;&#97;&#99;&#101;&#59;\">&#123;&#123;&#48;&#44;&#32;&#50;&#44;&#32;&#48;&#125;&#44;&#32;&#123;&#49;&#44;&#32;&#48;&#44;&#32;&#48;&#125;&#44;&#32;&#123;&#48;&#44;&#32;&#48;&#44;&#32;&#51;&#125;&#125;</pre></div>"
      ],
      "text/plain": [
       "{{0, 2, 0}, {1, 0, 0}, {0, 0, 3}}"
      ]
     },
     "execution_count": 49,
     "metadata": {
      "text/html": [],
      "text/plain": []
     },
     "output_type": "execute_result"
    }
   ],
   "source": [
    "D1={{0,2,0},{1,0,0},{0,0,3}}"
   ]
  },
  {
   "cell_type": "code",
   "execution_count": 52,
   "id": "hawaiian-rough",
   "metadata": {},
   "outputs": [
    {
     "data": {
      "text/html": [
       "<div><pre style=\"&#102;&#111;&#110;&#116;&#45;&#102;&#97;&#109;&#105;&#108;&#121;&#58;&#32;&#34;&#67;&#111;&#117;&#114;&#105;&#101;&#114;&#32;&#78;&#101;&#119;&#34;&#44;&#67;&#111;&#117;&#114;&#105;&#101;&#114;&#44;&#109;&#111;&#110;&#111;&#115;&#112;&#97;&#99;&#101;&#59;\">&#123;&#123;&#123;&#48;&#44;&#32;&#49;&#44;&#32;&#48;&#125;&#44;&#32;&#123;&#48;&#44;&#32;&#48;&#44;&#32;&#49;&#125;&#44;&#32;&#123;&#49;&#44;&#32;&#48;&#44;&#32;&#48;&#125;&#125;&#44;&#32;&#123;&#123;&#51;&#44;&#32;&#48;&#44;&#32;&#48;&#125;&#44;&#32;&#123;&#48;&#44;&#32;&#50;&#44;&#32;&#48;&#125;&#44;&#32;&#123;&#48;&#44;&#32;&#48;&#44;&#32;&#49;&#125;&#125;&#44;&#32;&#10;&#32;&#10;&#62;&#32;&#32;&#32;&#123;&#123;&#48;&#44;&#32;&#48;&#44;&#32;&#49;&#125;&#44;&#32;&#123;&#48;&#44;&#32;&#49;&#44;&#32;&#48;&#125;&#44;&#32;&#123;&#49;&#44;&#32;&#48;&#44;&#32;&#48;&#125;&#125;&#125;</pre></div>"
      ],
      "text/plain": [
       "{{{0, 1, 0}, {0, 0, 1}, {1, 0, 0}}, {{3, 0, 0}, {0, 2, 0}, {0, 0, 1}}, \n",
       " \n",
       ">   {{0, 0, 1}, {0, 1, 0}, {1, 0, 0}}}"
      ]
     },
     "execution_count": 52,
     "metadata": {
      "text/html": [],
      "text/plain": []
     },
     "output_type": "execute_result"
    }
   ],
   "source": [
    "SingularValueDecomposition[D1]"
   ]
  },
  {
   "cell_type": "markdown",
   "id": "municipal-arrival",
   "metadata": {},
   "source": [
    "## 7.\t将下面数值矩阵进行QR分解"
   ]
  },
  {
   "cell_type": "code",
   "execution_count": 53,
   "id": "affiliated-cholesterol",
   "metadata": {},
   "outputs": [
    {
     "data": {
      "text/html": [
       "<style>\n",
       "\t\t\t\t\t\t\t\t\t\t\t\t\t.grid-container {\n",
       "\t\t\t\t\t\t\t\t\t\t\t\t\t\tdisplay: inline-grid;\n",
       "\t\t\t\t\t\t\t\t\t\t\t\t\t\tgrid-template-columns: auto;\n",
       "\t\t\t\t\t\t\t\t\t\t\t\t\t}\n",
       "\t\t\t\t\t\t\t\t\t\t\t\t</style>\n",
       "\n",
       "\t\t\t\t\t\t\t\t\t\t\t\t<div><div class=\"grid-container\"><div class=\"grid-item\"><pre style=\"&#102;&#111;&#110;&#116;&#45;&#102;&#97;&#109;&#105;&#108;&#121;&#58;&#32;&#34;&#67;&#111;&#117;&#114;&#105;&#101;&#114;&#32;&#78;&#101;&#119;&#34;&#44;&#67;&#111;&#117;&#114;&#105;&#101;&#114;&#44;&#109;&#111;&#110;&#111;&#115;&#112;&#97;&#99;&#101;&#59;\">&#123;&#123;&#53;&#44;&#32;&#45;&#50;&#44;&#32;&#48;&#125;&#44;&#32;&#123;&#45;&#50;&#44;&#32;&#54;&#44;&#32;&#50;&#125;&#44;&#32;&#123;&#48;&#44;&#32;&#50;&#44;&#32;&#55;&#125;&#125;</pre></div><div class=\"grid-item\"><pre style=\"&#102;&#111;&#110;&#116;&#45;&#102;&#97;&#109;&#105;&#108;&#121;&#58;&#32;&#34;&#67;&#111;&#117;&#114;&#105;&#101;&#114;&#32;&#78;&#101;&#119;&#34;&#44;&#67;&#111;&#117;&#114;&#105;&#101;&#114;&#44;&#109;&#111;&#110;&#111;&#115;&#112;&#97;&#99;&#101;&#59;\">&#123;&#123;&#49;&#44;&#32;&#51;&#44;&#32;&#53;&#125;&#44;&#32;&#123;&#50;&#44;&#32;&#52;&#44;&#32;&#54;&#125;&#125;</pre></div></div></div>"
      ],
      "text/plain": [
       "{{5, -2, 0}, {-2, 6, 2}, {0, 2, 7}}\n",
       "{{1, 3, 5}, {2, 4, 6}}"
      ]
     },
     "execution_count": 53,
     "metadata": {
      "text/html": [],
      "text/plain": []
     },
     "output_type": "execute_result"
    }
   ],
   "source": [
    "D1 = {{5,-2,0},{-2,6,2},{0,2,7}}\n",
    "D2={{1,3,5},{2,4,6}}"
   ]
  },
  {
   "cell_type": "code",
   "execution_count": 55,
   "id": "rough-artist",
   "metadata": {},
   "outputs": [
    {
     "data": {
      "text/html": [
       "<div><img alt=\"Output\" src=\"data:image/png;base64,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\"></div>"
      ],
      "text/plain": [
       "                                                         2\n",
       "                                                 19 Sqrt[--]\n",
       "      1             2       3           -23              39      -43\n",
       "{{{--------, 2 Sqrt[--], --------}, {----------, -----------, ----------}, \n",
       "   Sqrt[26]         13   Sqrt[26]    7 Sqrt[78]       7       7 Sqrt[78]\n",
       " \n",
       "         11          1         -5\n",
       ">    {---------, ---------, ---------}}, \n",
       "      7 Sqrt[3]  7 Sqrt[3]  7 Sqrt[3]\n",
       " \n",
       "                        2        3              2        1\n",
       ">   {{Sqrt[26], 10 Sqrt[--] + --------, -2 Sqrt[--] + --------}, \n",
       "                        13    Sqrt[26]          13    Sqrt[26]\n",
       " \n",
       "                              2\n",
       "                     -19 Sqrt[--]\n",
       "                3             39        23                 10\n",
       ">    {0, 7 Sqrt[--], ------------ - ----------}, {0, 0, ---------}}}\n",
       "                26        7         7 Sqrt[78]          7 Sqrt[3]"
      ]
     },
     "execution_count": 55,
     "metadata": {
      "text/html": [],
      "text/plain": []
     },
     "output_type": "execute_result"
    }
   ],
   "source": [
    "QRDecomposition[C1]"
   ]
  },
  {
   "cell_type": "code",
   "execution_count": 56,
   "id": "informed-bahamas",
   "metadata": {},
   "outputs": [
    {
     "data": {
      "text/html": [
       "<div><img alt=\"Output\" src=\"data:image/png;base64,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\"></div>"
      ],
      "text/plain": [
       "      1         4           -4        1\n",
       "{{{--------, --------}, {--------, --------}}, \n",
       "   Sqrt[17]  Sqrt[17]    Sqrt[17]  Sqrt[17]\n",
       " \n",
       "                   20        -3             5         -5\n",
       ">   {{Sqrt[17], --------, --------}, {0, --------, --------}}}\n",
       "                Sqrt[17]  Sqrt[17]       Sqrt[17]  Sqrt[17]"
      ]
     },
     "execution_count": 56,
     "metadata": {
      "text/html": [],
      "text/plain": []
     },
     "output_type": "execute_result"
    }
   ],
   "source": [
    "QRDecomposition[C2]"
   ]
  },
  {
   "cell_type": "markdown",
   "id": "internal-technician",
   "metadata": {},
   "source": [
    "## 8.\t将数值矩阵E进行Schur分解、Jordan分解与LU分解"
   ]
  },
  {
   "cell_type": "code",
   "execution_count": 59,
   "id": "bottom-wildlife",
   "metadata": {},
   "outputs": [
    {
     "data": {
      "text/html": [
       "<div><pre style=\"&#102;&#111;&#110;&#116;&#45;&#102;&#97;&#109;&#105;&#108;&#121;&#58;&#32;&#34;&#67;&#111;&#117;&#114;&#105;&#101;&#114;&#32;&#78;&#101;&#119;&#34;&#44;&#67;&#111;&#117;&#114;&#105;&#101;&#114;&#44;&#109;&#111;&#110;&#111;&#115;&#112;&#97;&#99;&#101;&#59;\">&#123;&#123;&#53;&#46;&#49;&#44;&#32;&#45;&#50;&#44;&#32;&#48;&#125;&#44;&#32;&#123;&#45;&#50;&#44;&#32;&#54;&#44;&#32;&#50;&#125;&#44;&#32;&#123;&#48;&#44;&#32;&#50;&#44;&#32;&#55;&#125;&#125;</pre></div>"
      ],
      "text/plain": [
       "{{5.1, -2, 0}, {-2, 6, 2}, {0, 2, 7}}"
      ]
     },
     "execution_count": 59,
     "metadata": {
      "text/html": [],
      "text/plain": []
     },
     "output_type": "execute_result"
    }
   ],
   "source": [
    "EM={{5.1,-2,0},{-2,6,2},{0,2,7}}"
   ]
  },
  {
   "cell_type": "code",
   "execution_count": 61,
   "id": "initial-kitchen",
   "metadata": {},
   "outputs": [
    {
     "data": {
      "text/html": [
       "<div><pre style=\"&#102;&#111;&#110;&#116;&#45;&#102;&#97;&#109;&#105;&#108;&#121;&#58;&#32;&#34;&#67;&#111;&#117;&#114;&#105;&#101;&#114;&#32;&#78;&#101;&#119;&#34;&#44;&#67;&#111;&#117;&#114;&#105;&#101;&#114;&#44;&#109;&#111;&#110;&#111;&#115;&#112;&#97;&#99;&#101;&#59;\">&#123;&#123;&#123;&#48;&#46;&#54;&#53;&#53;&#53;&#49;&#50;&#44;&#32;&#45;&#48;&#46;&#54;&#55;&#51;&#56;&#55;&#55;&#44;&#32;&#45;&#48;&#46;&#51;&#52;&#48;&#56;&#55;&#51;&#125;&#44;&#32;&#123;&#48;&#46;&#54;&#55;&#51;&#57;&#54;&#50;&#44;&#32;&#48;&#46;&#51;&#49;&#56;&#51;&#56;&#52;&#44;&#32;&#48;&#46;&#54;&#54;&#54;&#54;&#51;&#56;&#125;&#44;&#32;&#10;&#32;&#10;&#62;&#32;&#32;&#32;&#32;&#123;&#45;&#48;&#46;&#51;&#52;&#48;&#55;&#48;&#52;&#44;&#32;&#45;&#48;&#46;&#54;&#54;&#54;&#55;&#50;&#52;&#44;&#32;&#48;&#46;&#54;&#54;&#50;&#56;&#55;&#50;&#125;&#125;&#44;&#32;&#10;&#32;&#10;&#32;&#32;&#32;&#32;&#32;&#32;&#32;&#32;&#32;&#32;&#32;&#32;&#32;&#32;&#32;&#32;&#32;&#32;&#32;&#32;&#32;&#32;&#32;&#32;&#32;&#32;&#45;&#49;&#55;&#32;&#32;&#32;&#32;&#32;&#32;&#32;&#32;&#32;&#32;&#32;&#32;&#45;&#49;&#54;&#32;&#32;&#32;&#32;&#32;&#32;&#32;&#32;&#32;&#32;&#32;&#32;&#32;&#32;&#32;&#32;&#32;&#32;&#32;&#32;&#32;&#32;&#32;&#32;&#32;&#32;&#32;&#45;&#49;&#54;&#10;&#62;&#32;&#32;&#32;&#123;&#123;&#51;&#46;&#48;&#52;&#51;&#55;&#49;&#44;&#32;&#45;&#49;&#46;&#51;&#56;&#55;&#55;&#56;&#32;&#49;&#48;&#32;&#32;&#32;&#44;&#32;&#51;&#46;&#48;&#50;&#57;&#57;&#57;&#32;&#49;&#48;&#32;&#32;&#32;&#125;&#44;&#32;&#123;&#48;&#46;&#44;&#32;&#54;&#46;&#48;&#52;&#52;&#57;&#51;&#44;&#32;&#45;&#57;&#46;&#56;&#56;&#56;&#49;&#32;&#49;&#48;&#32;&#32;&#32;&#125;&#44;&#32;&#10;&#32;&#10;&#62;&#32;&#32;&#32;&#32;&#123;&#48;&#46;&#44;&#32;&#48;&#46;&#44;&#32;&#57;&#46;&#48;&#49;&#49;&#51;&#54;&#125;&#125;&#125;</pre></div>"
      ],
      "text/plain": [
       "{{{0.655512, -0.673877, -0.340873}, {0.673962, 0.318384, 0.666638}, \n",
       " \n",
       ">    {-0.340704, -0.666724, 0.662872}}, \n",
       " \n",
       "                          -17            -16                           -16\n",
       ">   {{3.04371, -1.38778 10   , 3.02999 10   }, {0., 6.04493, -9.8881 10   }, \n",
       " \n",
       ">    {0., 0., 9.01136}}}"
      ]
     },
     "execution_count": 61,
     "metadata": {
      "text/html": [],
      "text/plain": []
     },
     "output_type": "execute_result"
    }
   ],
   "source": [
    "SchurDecomposition[EM]"
   ]
  },
  {
   "cell_type": "code",
   "execution_count": 62,
   "id": "typical-therapist",
   "metadata": {},
   "outputs": [
    {
     "data": {
      "text/html": [
       "<div><pre style=\"&#102;&#111;&#110;&#116;&#45;&#102;&#97;&#109;&#105;&#108;&#121;&#58;&#32;&#34;&#67;&#111;&#117;&#114;&#105;&#101;&#114;&#32;&#78;&#101;&#119;&#34;&#44;&#67;&#111;&#117;&#114;&#105;&#101;&#114;&#44;&#109;&#111;&#110;&#111;&#115;&#112;&#97;&#99;&#101;&#59;\">&#123;&#123;&#123;&#45;&#48;&#46;&#51;&#52;&#48;&#56;&#55;&#51;&#44;&#32;&#48;&#46;&#54;&#55;&#51;&#56;&#55;&#55;&#44;&#32;&#48;&#46;&#54;&#53;&#53;&#53;&#49;&#50;&#125;&#44;&#32;&#123;&#48;&#46;&#54;&#54;&#54;&#54;&#51;&#56;&#44;&#32;&#45;&#48;&#46;&#51;&#49;&#56;&#51;&#56;&#52;&#44;&#32;&#48;&#46;&#54;&#55;&#51;&#57;&#54;&#50;&#125;&#44;&#32;&#10;&#32;&#10;&#62;&#32;&#32;&#32;&#32;&#123;&#48;&#46;&#54;&#54;&#50;&#56;&#55;&#50;&#44;&#32;&#48;&#46;&#54;&#54;&#54;&#55;&#50;&#52;&#44;&#32;&#45;&#48;&#46;&#51;&#52;&#48;&#55;&#48;&#52;&#125;&#125;&#44;&#32;&#10;&#32;&#10;&#62;&#32;&#32;&#32;&#123;&#123;&#57;&#46;&#48;&#49;&#49;&#51;&#54;&#44;&#32;&#48;&#44;&#32;&#48;&#125;&#44;&#32;&#123;&#48;&#44;&#32;&#54;&#46;&#48;&#52;&#52;&#57;&#51;&#44;&#32;&#48;&#125;&#44;&#32;&#123;&#48;&#44;&#32;&#48;&#44;&#32;&#51;&#46;&#48;&#52;&#51;&#55;&#49;&#125;&#125;&#125;</pre></div>"
      ],
      "text/plain": [
       "{{{-0.340873, 0.673877, 0.655512}, {0.666638, -0.318384, 0.673962}, \n",
       " \n",
       ">    {0.662872, 0.666724, -0.340704}}, \n",
       " \n",
       ">   {{9.01136, 0, 0}, {0, 6.04493, 0}, {0, 0, 3.04371}}}"
      ]
     },
     "execution_count": 62,
     "metadata": {
      "text/html": [],
      "text/plain": []
     },
     "output_type": "execute_result"
    }
   ],
   "source": [
    "JordanDecomposition[EM]"
   ]
  },
  {
   "cell_type": "code",
   "execution_count": 63,
   "id": "restricted-arcade",
   "metadata": {},
   "outputs": [
    {
     "data": {
      "text/html": [
       "<div><pre style=\"&#102;&#111;&#110;&#116;&#45;&#102;&#97;&#109;&#105;&#108;&#121;&#58;&#32;&#34;&#67;&#111;&#117;&#114;&#105;&#101;&#114;&#32;&#78;&#101;&#119;&#34;&#44;&#67;&#111;&#117;&#114;&#105;&#101;&#114;&#44;&#109;&#111;&#110;&#111;&#115;&#112;&#97;&#99;&#101;&#59;\">&#123;&#123;&#123;&#53;&#46;&#49;&#44;&#32;&#45;&#50;&#46;&#44;&#32;&#48;&#46;&#125;&#44;&#32;&#123;&#45;&#48;&#46;&#51;&#57;&#50;&#49;&#53;&#55;&#44;&#32;&#53;&#46;&#50;&#49;&#53;&#54;&#57;&#44;&#32;&#50;&#46;&#125;&#44;&#32;&#123;&#48;&#46;&#44;&#32;&#48;&#46;&#51;&#56;&#51;&#52;&#53;&#57;&#44;&#32;&#54;&#46;&#50;&#51;&#51;&#48;&#56;&#125;&#125;&#44;&#32;&#123;&#49;&#44;&#32;&#50;&#44;&#32;&#51;&#125;&#44;&#32;&#51;&#46;&#54;&#49;&#50;&#55;&#57;&#125;</pre></div>"
      ],
      "text/plain": [
       "{{{5.1, -2., 0.}, {-0.392157, 5.21569, 2.}, {0., 0.383459, 6.23308}}, {1, 2, 3}, 3.61279}"
      ]
     },
     "execution_count": 63,
     "metadata": {
      "text/html": [],
      "text/plain": []
     },
     "output_type": "execute_result"
    }
   ],
   "source": [
    "LUDecomposition[EM]"
   ]
  },
  {
   "cell_type": "markdown",
   "id": "ongoing-kitty",
   "metadata": {},
   "source": [
    "## 9.求解线性方程\n",
    "用两种内置函数来求解线性方程\n",
    "$$\n",
    "\\begin{cases}\n",
    "x_1+2x_2+4x_3=1\\\\\n",
    "x_1+3x_2+4x_4=2\\\\\n",
    "3x_1+4x_2+7x_3=5\n",
    "\\end{cases}\n",
    "$$\n",
    "试论述下两种内置函数的优劣"
   ]
  },
  {
   "cell_type": "code",
   "execution_count": 71,
   "id": "impaired-milton",
   "metadata": {},
   "outputs": [
    {
     "data": {
      "text/html": [
       "<style>\n",
       "\t\t\t\t\t\t\t\t\t\t\t\t\t.grid-container {\n",
       "\t\t\t\t\t\t\t\t\t\t\t\t\t\tdisplay: inline-grid;\n",
       "\t\t\t\t\t\t\t\t\t\t\t\t\t\tgrid-template-columns: auto;\n",
       "\t\t\t\t\t\t\t\t\t\t\t\t\t}\n",
       "\t\t\t\t\t\t\t\t\t\t\t\t</style>\n",
       "\n",
       "\t\t\t\t\t\t\t\t\t\t\t\t<div><div class=\"grid-container\"><div class=\"grid-item\"><pre style=\"&#102;&#111;&#110;&#116;&#45;&#102;&#97;&#109;&#105;&#108;&#121;&#58;&#32;&#34;&#67;&#111;&#117;&#114;&#105;&#101;&#114;&#32;&#78;&#101;&#119;&#34;&#44;&#67;&#111;&#117;&#114;&#105;&#101;&#114;&#44;&#109;&#111;&#110;&#111;&#115;&#112;&#97;&#99;&#101;&#59;\">&#123;&#123;&#49;&#44;&#32;&#50;&#44;&#32;&#52;&#125;&#44;&#32;&#123;&#49;&#44;&#32;&#51;&#44;&#32;&#52;&#125;&#44;&#32;&#123;&#51;&#44;&#32;&#52;&#44;&#32;&#55;&#125;&#125;</pre></div><div class=\"grid-item\"><pre style=\"&#102;&#111;&#110;&#116;&#45;&#102;&#97;&#109;&#105;&#108;&#121;&#58;&#32;&#34;&#67;&#111;&#117;&#114;&#105;&#101;&#114;&#32;&#78;&#101;&#119;&#34;&#44;&#67;&#111;&#117;&#114;&#105;&#101;&#114;&#44;&#109;&#111;&#110;&#111;&#115;&#112;&#97;&#99;&#101;&#59;\">&#123;&#49;&#44;&#32;&#50;&#44;&#32;&#53;&#125;</pre></div></div></div>"
      ],
      "text/plain": [
       "{{1, 2, 4}, {1, 3, 4}, {3, 4, 7}}\n",
       "{1, 2, 5}"
      ]
     },
     "execution_count": 71,
     "metadata": {
      "text/html": [],
      "text/plain": []
     },
     "output_type": "execute_result"
    }
   ],
   "source": [
    "A = {{1,2,4},{1,3,4},{3,4,7}}\n",
    "b = {1,2,5}"
   ]
  },
  {
   "cell_type": "code",
   "execution_count": 67,
   "id": "macro-laundry",
   "metadata": {},
   "outputs": [
    {
     "data": {
      "text/html": [
       "<div><pre style=\"&#102;&#111;&#110;&#116;&#45;&#102;&#97;&#109;&#105;&#108;&#121;&#58;&#32;&#34;&#67;&#111;&#117;&#114;&#105;&#101;&#114;&#32;&#78;&#101;&#119;&#34;&#44;&#67;&#111;&#117;&#114;&#105;&#101;&#114;&#44;&#109;&#111;&#110;&#111;&#115;&#112;&#97;&#99;&#101;&#59;\">&#45;&#53;</pre></div>"
      ],
      "text/plain": [
       "-5"
      ]
     },
     "execution_count": 67,
     "metadata": {
      "text/html": [],
      "text/plain": []
     },
     "output_type": "execute_result"
    }
   ],
   "source": [
    "Det[A]"
   ]
  },
  {
   "cell_type": "code",
   "execution_count": 73,
   "id": "considerable-terrain",
   "metadata": {},
   "outputs": [
    {
     "data": {
      "text/html": [
       "<div><img alt=\"Output\" src=\"data:image/png;base64,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\"></div>"
      ],
      "text/plain": [
       " 11       4\n",
       "{--, 1, -(-)}\n",
       " 5        5"
      ]
     },
     "execution_count": 73,
     "metadata": {
      "text/html": [],
      "text/plain": []
     },
     "output_type": "execute_result"
    }
   ],
   "source": [
    "LinearSolve[A,b]"
   ]
  },
  {
   "cell_type": "code",
   "execution_count": 74,
   "id": "damaged-evening",
   "metadata": {},
   "outputs": [
    {
     "data": {
      "text/html": [
       "<div><img alt=\"Output\" src=\"data:image/png;base64,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\"></div>"
      ],
      "text/plain": [
       "        11                   4\n",
       "{{x1 -> --, x2 -> 1, x3 -> -(-)}}\n",
       "        5                    5"
      ]
     },
     "execution_count": 74,
     "metadata": {
      "text/html": [],
      "text/plain": []
     },
     "output_type": "execute_result"
    }
   ],
   "source": [
    "Solve[Dot[A,{x1,x2,x3}]==b,{x1,x2,x3}]"
   ]
  },
  {
   "cell_type": "markdown",
   "id": "sexual-welsh",
   "metadata": {},
   "source": [
    "> 优劣性：毫无疑问`LinearSolve`简单方便"
   ]
  },
  {
   "cell_type": "markdown",
   "id": "unlimited-kennedy",
   "metadata": {},
   "source": [
    "## 10.\t求解线性方程\n",
    "$$\n",
    "\\begin{cases}\n",
    "x_1+2x_2-x_3=1\\\\\n",
    "x_1+x_2+2x_3=9\\\\\n",
    "2x_1+4x_2-2x_3=2\n",
    "\\end{cases}\n",
    "$$"
   ]
  },
  {
   "cell_type": "code",
   "execution_count": 4,
   "id": "together-toilet",
   "metadata": {},
   "outputs": [
    {
     "data": {
      "text/html": [
       "<style>\n",
       "\t\t\t\t\t\t\t\t\t\t\t\t\t.grid-container {\n",
       "\t\t\t\t\t\t\t\t\t\t\t\t\t\tdisplay: inline-grid;\n",
       "\t\t\t\t\t\t\t\t\t\t\t\t\t\tgrid-template-columns: auto;\n",
       "\t\t\t\t\t\t\t\t\t\t\t\t\t}\n",
       "\t\t\t\t\t\t\t\t\t\t\t\t</style>\n",
       "\n",
       "\t\t\t\t\t\t\t\t\t\t\t\t<div><div class=\"grid-container\"><div class=\"grid-item\"><pre style=\"&#102;&#111;&#110;&#116;&#45;&#102;&#97;&#109;&#105;&#108;&#121;&#58;&#32;&#34;&#67;&#111;&#117;&#114;&#105;&#101;&#114;&#32;&#78;&#101;&#119;&#34;&#44;&#67;&#111;&#117;&#114;&#105;&#101;&#114;&#44;&#109;&#111;&#110;&#111;&#115;&#112;&#97;&#99;&#101;&#59;\">&#123;&#123;&#49;&#44;&#32;&#50;&#44;&#32;&#45;&#49;&#125;&#44;&#32;&#123;&#49;&#44;&#32;&#49;&#44;&#32;&#50;&#125;&#44;&#32;&#123;&#50;&#44;&#32;&#52;&#44;&#32;&#45;&#50;&#125;&#125;</pre></div><div class=\"grid-item\"><pre style=\"&#102;&#111;&#110;&#116;&#45;&#102;&#97;&#109;&#105;&#108;&#121;&#58;&#32;&#34;&#67;&#111;&#117;&#114;&#105;&#101;&#114;&#32;&#78;&#101;&#119;&#34;&#44;&#67;&#111;&#117;&#114;&#105;&#101;&#114;&#44;&#109;&#111;&#110;&#111;&#115;&#112;&#97;&#99;&#101;&#59;\">&#123;&#49;&#44;&#32;&#57;&#44;&#32;&#50;&#125;</pre></div></div></div>"
      ],
      "text/plain": [
       "{{1, 2, -1}, {1, 1, 2}, {2, 4, -2}}\n",
       "{1, 9, 2}"
      ]
     },
     "execution_count": 4,
     "metadata": {
      "text/html": [],
      "text/plain": []
     },
     "output_type": "execute_result"
    }
   ],
   "source": [
    "A = {{1,2,-1},{1,1,2},{2,4,-2}}\n",
    "b = {1,9,2}"
   ]
  },
  {
   "cell_type": "code",
   "execution_count": 6,
   "id": "metallic-stability",
   "metadata": {},
   "outputs": [
    {
     "data": {
      "text/html": [
       "<div><pre style=\"&#102;&#111;&#110;&#116;&#45;&#102;&#97;&#109;&#105;&#108;&#121;&#58;&#32;&#34;&#67;&#111;&#117;&#114;&#105;&#101;&#114;&#32;&#78;&#101;&#119;&#34;&#44;&#67;&#111;&#117;&#114;&#105;&#101;&#114;&#44;&#109;&#111;&#110;&#111;&#115;&#112;&#97;&#99;&#101;&#59;\">&#48;</pre></div>"
      ],
      "text/plain": [
       "0"
      ]
     },
     "execution_count": 6,
     "metadata": {
      "text/html": [],
      "text/plain": []
     },
     "output_type": "execute_result"
    }
   ],
   "source": [
    "Det[A]"
   ]
  },
  {
   "cell_type": "markdown",
   "id": "steady-appraisal",
   "metadata": {},
   "source": [
    "> 可以看到 A 是 奇异矩阵"
   ]
  },
  {
   "cell_type": "code",
   "execution_count": 7,
   "id": "intelligent-officer",
   "metadata": {},
   "outputs": [
    {
     "data": {
      "text/html": [
       "<div><img alt=\"Output\" src=\"data:image/png;base64,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\"></div>"
      ],
      "text/plain": [
       "1    2    -1   1\n",
       "\n",
       "1    1    2    9\n",
       "\n",
       "2    4    -2   2"
      ]
     },
     "execution_count": 8,
     "metadata": {
      "text/html": [],
      "text/plain": []
     },
     "output_type": "execute_result"
    }
   ],
   "source": [
    "Ab = Join[A,{b}//Transpose,2];\n",
    "Ab//MatrixForm"
   ]
  },
  {
   "cell_type": "code",
   "execution_count": 9,
   "id": "legitimate-lawsuit",
   "metadata": {},
   "outputs": [
    {
     "data": {
      "text/html": [
       "<div><img alt=\"Output\" src=\"data:image/png;base64,iVBORw0KGgoAAAANSUhEUgAAADgAAAAfCAIAAAA9TZnHAAAAz3pUWHRSYXcgcHJvZmlsZSB0eXBlIGV4aWYAAHjabU9bDsMgDPvnFDtCXiRwHLpSaTfY8WcK29RplogTxwmQ+vNxpNuAMCXLUby6E2DVqjQkhSYmM9UzntB3j6964mPpDVL+Nrwvfbvq4ZOl/CwiWTeNG5CrrYG1SGXq3Ga9Lb+0Uq6L3k9dqPR5+t/aNMSzcxiiCUV4RV4SUpBnoRx++N0dRvZdyO7g7hEY8xgObWNwQHpc3T25QtjHF3Qc1gY2RNQYZa1nHkvZ0C2nZ3znBVxQWsJEzRCJAAAACXBIWXMAABYlAAAWJQFJUiTwAAAAPHRFWHRTb2Z0d2FyZQBDcmVhdGVkIHdpdGggdGhlIFdvbGZyYW0gTGFuZ3VhZ2UgOiB3d3cud29sZnJhbS5jb21coqaFAAAAIXRFWHRDcmVhdGlvbiBUaW1lADIwMjE6MDQ6MjAgMTk6Mjc6MjDfsSRVAAABuElEQVRYhe2XP26DMBTGP6oexXSoegL7BLhLT2GPcICM3bKYMd6ydupS+wT4BFGH2HdxBwhCEOUPIUqR+BYU++XTj8d7z5DEGDEHPT0a4FItoFNrAZ1acwK1Mjkraf8B6EwUe/KKAoAw/Y0HazYZvRo0lCxJElYGAMGWkjVVzJi0oRtYl34dOPj/cB0IVjLWdkXfb3xGQ8lSXmjX/HRO83R8z1nJUq6daxec0zztNPFIUFekaeFAhfExxray9ecwURcolIxrB1DV2MXojaAAND+k/oYapcpXm4wAAEi+VRSA+/XXG9l14Wq7vLEDSLapjADgvn7CLaBU+Sonw/Xd/uqU2m8NQKwGdtmHQHvvzyMgAeDtpWdL8irmY5zCfgcAmif6eMBuH5CR2YynsRmdXMLETXZi//EZJS9vwPnivjdobwxYmRauF5K+UgCuWJ8cwvcDrXsWmjcnTLAlS/iRhiH5qolksuycRiHYUjJ5mMz9w//cS8kVLy1GDKmoUqK++m5o43pEh8B7Pvps440SLQEVxscqf389wkTyynsjKO3sUSqU8dtmvCZx+a6fVgvo1FpAp9ZsQP8ACOWunOWruNwAAAAASUVORK5CYII=\"></div>"
      ],
      "text/plain": [
       "True"
      ]
     },
     "execution_count": 9,
     "metadata": {
      "text/html": [],
      "text/plain": []
     },
     "output_type": "execute_result"
    }
   ],
   "source": [
    "MatrixRank[A] == MatrixRank[Ab]"
   ]
  },
  {
   "cell_type": "markdown",
   "id": "incredible-annual",
   "metadata": {},
   "source": [
    "> 有解"
   ]
  },
  {
   "cell_type": "code",
   "execution_count": 10,
   "id": "asian-individual",
   "metadata": {},
   "outputs": [
    {
     "data": {
      "text/html": [
       "<div><pre style=\"&#102;&#111;&#110;&#116;&#45;&#102;&#97;&#109;&#105;&#108;&#121;&#58;&#32;&#34;&#67;&#111;&#117;&#114;&#105;&#101;&#114;&#32;&#78;&#101;&#119;&#34;&#44;&#67;&#111;&#117;&#114;&#105;&#101;&#114;&#44;&#109;&#111;&#110;&#111;&#115;&#112;&#97;&#99;&#101;&#59;\">&#123;&#49;&#55;&#44;&#32;&#45;&#56;&#44;&#32;&#48;&#125;</pre></div>"
      ],
      "text/plain": [
       "{17, -8, 0}"
      ]
     },
     "execution_count": 10,
     "metadata": {
      "text/html": [],
      "text/plain": []
     },
     "output_type": "execute_result"
    }
   ],
   "source": [
    "x0 = LinearSolve[A,b]"
   ]
  },
  {
   "cell_type": "code",
   "execution_count": 13,
   "id": "printable-plastic",
   "metadata": {},
   "outputs": [
    {
     "data": {
      "text/html": [
       "<div><pre style=\"&#102;&#111;&#110;&#116;&#45;&#102;&#97;&#109;&#105;&#108;&#121;&#58;&#32;&#34;&#67;&#111;&#117;&#114;&#105;&#101;&#114;&#32;&#78;&#101;&#119;&#34;&#44;&#67;&#111;&#117;&#114;&#105;&#101;&#114;&#44;&#109;&#111;&#110;&#111;&#115;&#112;&#97;&#99;&#101;&#59;\">&#123;&#45;&#53;&#44;&#32;&#51;&#44;&#32;&#49;&#125;</pre></div>"
      ],
      "text/plain": [
       "{-5, 3, 1}"
      ]
     },
     "execution_count": 13,
     "metadata": {
      "text/html": [],
      "text/plain": []
     },
     "output_type": "execute_result"
    }
   ],
   "source": [
    "vec = NullSpace[A][[1]]"
   ]
  },
  {
   "cell_type": "code",
   "execution_count": 14,
   "id": "reduced-genre",
   "metadata": {},
   "outputs": [
    {
     "data": {
      "text/html": [
       "<div><img alt=\"Output\" src=\"data:image/png;base64,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\"></div>"
      ],
      "text/plain": [
       "17 - 5 c\n",
       "\n",
       "-8 + 3 c\n",
       "\n",
       "c"
      ]
     },
     "execution_count": 15,
     "metadata": {
      "text/html": [],
      "text/plain": []
     },
     "output_type": "execute_result"
    }
   ],
   "source": [
    "x = x0 + c*vec;\n",
    "x//MatrixForm"
   ]
  },
  {
   "cell_type": "markdown",
   "id": "later-danger",
   "metadata": {},
   "source": [
    "## 11.\t求解线性方程"
   ]
  },
  {
   "cell_type": "code",
   "execution_count": 89,
   "id": "after-tiffany",
   "metadata": {},
   "outputs": [
    {
     "data": {
      "text/html": [
       "<style>\n",
       "\t\t\t\t\t\t\t\t\t\t\t\t\t.grid-container {\n",
       "\t\t\t\t\t\t\t\t\t\t\t\t\t\tdisplay: inline-grid;\n",
       "\t\t\t\t\t\t\t\t\t\t\t\t\t\tgrid-template-columns: auto;\n",
       "\t\t\t\t\t\t\t\t\t\t\t\t\t}\n",
       "\t\t\t\t\t\t\t\t\t\t\t\t</style>\n",
       "\n",
       "\t\t\t\t\t\t\t\t\t\t\t\t<div><div class=\"grid-container\"><div class=\"grid-item\"><pre style=\"&#102;&#111;&#110;&#116;&#45;&#102;&#97;&#109;&#105;&#108;&#121;&#58;&#32;&#34;&#67;&#111;&#117;&#114;&#105;&#101;&#114;&#32;&#78;&#101;&#119;&#34;&#44;&#67;&#111;&#117;&#114;&#105;&#101;&#114;&#44;&#109;&#111;&#110;&#111;&#115;&#112;&#97;&#99;&#101;&#59;\">&#123;&#123;&#49;&#44;&#32;&#50;&#44;&#32;&#49;&#125;&#44;&#32;&#123;&#50;&#44;&#32;&#52;&#44;&#32;&#54;&#125;&#44;&#32;&#123;&#51;&#44;&#32;&#54;&#44;&#32;&#57;&#125;&#125;</pre></div><div class=\"grid-item\"><pre style=\"&#102;&#111;&#110;&#116;&#45;&#102;&#97;&#109;&#105;&#108;&#121;&#58;&#32;&#34;&#67;&#111;&#117;&#114;&#105;&#101;&#114;&#32;&#78;&#101;&#119;&#34;&#44;&#67;&#111;&#117;&#114;&#105;&#101;&#114;&#44;&#109;&#111;&#110;&#111;&#115;&#112;&#97;&#99;&#101;&#59;\">&#123;&#54;&#44;&#32;&#49;&#50;&#44;&#32;&#49;&#56;&#125;</pre></div></div></div>"
      ],
      "text/plain": [
       "{{1, 2, 1}, {2, 4, 6}, {3, 6, 9}}\n",
       "{6, 12, 18}"
      ]
     },
     "execution_count": 89,
     "metadata": {
      "text/html": [],
      "text/plain": []
     },
     "output_type": "execute_result"
    }
   ],
   "source": [
    "A={{1,2,1},{2,4,6},{3,6,9}}\n",
    "b={6,12,18}"
   ]
  },
  {
   "cell_type": "code",
   "execution_count": 91,
   "id": "anticipated-karen",
   "metadata": {},
   "outputs": [
    {
     "data": {
      "text/html": [
       "<div><pre style=\"&#102;&#111;&#110;&#116;&#45;&#102;&#97;&#109;&#105;&#108;&#121;&#58;&#32;&#34;&#67;&#111;&#117;&#114;&#105;&#101;&#114;&#32;&#78;&#101;&#119;&#34;&#44;&#67;&#111;&#117;&#114;&#105;&#101;&#114;&#44;&#109;&#111;&#110;&#111;&#115;&#112;&#97;&#99;&#101;&#59;\">&#48;</pre></div>"
      ],
      "text/plain": [
       "0"
      ]
     },
     "execution_count": 91,
     "metadata": {
      "text/html": [],
      "text/plain": []
     },
     "output_type": "execute_result"
    }
   ],
   "source": [
    "Det[A]"
   ]
  },
  {
   "cell_type": "markdown",
   "id": "liberal-store",
   "metadata": {},
   "source": [
    "> 可见 A 是 奇异矩阵"
   ]
  },
  {
   "cell_type": "code",
   "execution_count": 97,
   "id": "artificial-bronze",
   "metadata": {},
   "outputs": [
    {
     "data": {
      "text/html": [
       "<div><pre style=\"&#102;&#111;&#110;&#116;&#45;&#102;&#97;&#109;&#105;&#108;&#121;&#58;&#32;&#34;&#67;&#111;&#117;&#114;&#105;&#101;&#114;&#32;&#78;&#101;&#119;&#34;&#44;&#67;&#111;&#117;&#114;&#105;&#101;&#114;&#44;&#109;&#111;&#110;&#111;&#115;&#112;&#97;&#99;&#101;&#59;\">&#123;&#54;&#44;&#32;&#48;&#44;&#32;&#48;&#125;</pre></div>"
      ],
      "text/plain": [
       "{6, 0, 0}"
      ]
     },
     "execution_count": 97,
     "metadata": {
      "text/html": [],
      "text/plain": []
     },
     "output_type": "execute_result"
    }
   ],
   "source": [
    "x0 = LinearSolve[A,b]"
   ]
  },
  {
   "cell_type": "code",
   "execution_count": 99,
   "id": "behavioral-serum",
   "metadata": {},
   "outputs": [
    {
     "data": {
      "text/html": [
       "<div><pre style=\"&#102;&#111;&#110;&#116;&#45;&#102;&#97;&#109;&#105;&#108;&#121;&#58;&#32;&#34;&#67;&#111;&#117;&#114;&#105;&#101;&#114;&#32;&#78;&#101;&#119;&#34;&#44;&#67;&#111;&#117;&#114;&#105;&#101;&#114;&#44;&#109;&#111;&#110;&#111;&#115;&#112;&#97;&#99;&#101;&#59;\">&#123;&#45;&#50;&#44;&#32;&#49;&#44;&#32;&#48;&#125;</pre></div>"
      ],
      "text/plain": [
       "{-2, 1, 0}"
      ]
     },
     "execution_count": 99,
     "metadata": {
      "text/html": [],
      "text/plain": []
     },
     "output_type": "execute_result"
    }
   ],
   "source": [
    "vec = NullSpace[A][[1]]"
   ]
  },
  {
   "cell_type": "code",
   "execution_count": 100,
   "id": "brilliant-picking",
   "metadata": {},
   "outputs": [
    {
     "data": {
      "text/html": [
       "<div><img alt=\"Output\" src=\"data:image/png;base64,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\"></div>"
      ],
      "text/plain": [
       "6 - 2 c\n",
       "\n",
       "c\n",
       "\n",
       "0"
      ]
     },
     "execution_count": 101,
     "metadata": {
      "text/html": [],
      "text/plain": []
     },
     "output_type": "execute_result"
    }
   ],
   "source": [
    "x = x0+c*vec;\n",
    "x//MatrixForm"
   ]
  },
  {
   "cell_type": "markdown",
   "id": "structural-skating",
   "metadata": {},
   "source": [
    "## 12.\t求解线性方程 "
   ]
  },
  {
   "cell_type": "code",
   "execution_count": 162,
   "id": "amino-velvet",
   "metadata": {},
   "outputs": [
    {
     "data": {
      "text/html": [
       "<style>\n",
       "\t\t\t\t\t\t\t\t\t\t\t\t\t.grid-container {\n",
       "\t\t\t\t\t\t\t\t\t\t\t\t\t\tdisplay: inline-grid;\n",
       "\t\t\t\t\t\t\t\t\t\t\t\t\t\tgrid-template-columns: auto;\n",
       "\t\t\t\t\t\t\t\t\t\t\t\t\t}\n",
       "\t\t\t\t\t\t\t\t\t\t\t\t</style>\n",
       "\n",
       "\t\t\t\t\t\t\t\t\t\t\t\t<div><div class=\"grid-container\"><div class=\"grid-item\"><pre style=\"&#102;&#111;&#110;&#116;&#45;&#102;&#97;&#109;&#105;&#108;&#121;&#58;&#32;&#34;&#67;&#111;&#117;&#114;&#105;&#101;&#114;&#32;&#78;&#101;&#119;&#34;&#44;&#67;&#111;&#117;&#114;&#105;&#101;&#114;&#44;&#109;&#111;&#110;&#111;&#115;&#112;&#97;&#99;&#101;&#59;\">&#123;&#123;&#49;&#44;&#32;&#50;&#44;&#32;&#51;&#125;&#44;&#32;&#123;&#50;&#44;&#32;&#51;&#44;&#32;&#52;&#125;&#44;&#32;&#123;&#51;&#44;&#32;&#53;&#44;&#32;&#55;&#125;&#125;</pre></div><div class=\"grid-item\"><pre style=\"&#102;&#111;&#110;&#116;&#45;&#102;&#97;&#109;&#105;&#108;&#121;&#58;&#32;&#34;&#67;&#111;&#117;&#114;&#105;&#101;&#114;&#32;&#78;&#101;&#119;&#34;&#44;&#67;&#111;&#117;&#114;&#105;&#101;&#114;&#44;&#109;&#111;&#110;&#111;&#115;&#112;&#97;&#99;&#101;&#59;\">&#123;&#54;&#44;&#32;&#57;&#44;&#32;&#49;&#52;&#125;</pre></div></div></div>"
      ],
      "text/plain": [
       "{{1, 2, 3}, {2, 3, 4}, {3, 5, 7}}\n",
       "{6, 9, 14}"
      ]
     },
     "execution_count": 162,
     "metadata": {
      "text/html": [],
      "text/plain": []
     },
     "output_type": "execute_result"
    }
   ],
   "source": [
    "A={{1,2,3},{2,3,4},{3,5,7}}\n",
    "b={6,9,14}"
   ]
  },
  {
   "cell_type": "code",
   "execution_count": 164,
   "id": "static-commission",
   "metadata": {},
   "outputs": [
    {
     "data": {
      "text/html": [
       "<div><pre style=\"&#102;&#111;&#110;&#116;&#45;&#102;&#97;&#109;&#105;&#108;&#121;&#58;&#32;&#34;&#67;&#111;&#117;&#114;&#105;&#101;&#114;&#32;&#78;&#101;&#119;&#34;&#44;&#67;&#111;&#117;&#114;&#105;&#101;&#114;&#44;&#109;&#111;&#110;&#111;&#115;&#112;&#97;&#99;&#101;&#59;\">&#48;</pre></div>"
      ],
      "text/plain": [
       "0"
      ]
     },
     "execution_count": 164,
     "metadata": {
      "text/html": [],
      "text/plain": []
     },
     "output_type": "execute_result"
    }
   ],
   "source": [
    "Det[A]"
   ]
  },
  {
   "cell_type": "code",
   "execution_count": 185,
   "id": "intelligent-entertainment",
   "metadata": {},
   "outputs": [
    {
     "data": {
      "text/html": [
       "<div><img alt=\"Output\" src=\"data:image/png;base64,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\"></div>"
      ],
      "text/plain": [
       "1    2    3    6\n",
       "\n",
       "2    3    4    9\n",
       "\n",
       "3    5    7    14"
      ]
     },
     "execution_count": 186,
     "metadata": {
      "text/html": [],
      "text/plain": []
     },
     "output_type": "execute_result"
    }
   ],
   "source": [
    "Ab = Join[A,{b}//Transpose,2];\n",
    "Ab//MatrixForm"
   ]
  },
  {
   "cell_type": "code",
   "execution_count": 188,
   "id": "patient-criterion",
   "metadata": {},
   "outputs": [
    {
     "data": {
      "text/html": [
       "<div><pre style=\"&#102;&#111;&#110;&#116;&#45;&#102;&#97;&#109;&#105;&#108;&#121;&#58;&#32;&#34;&#67;&#111;&#117;&#114;&#105;&#101;&#114;&#32;&#78;&#101;&#119;&#34;&#44;&#67;&#111;&#117;&#114;&#105;&#101;&#114;&#44;&#109;&#111;&#110;&#111;&#115;&#112;&#97;&#99;&#101;&#59;\">&#123;&#123;&#49;&#44;&#32;&#48;&#44;&#32;&#45;&#49;&#125;&#44;&#32;&#123;&#48;&#44;&#32;&#49;&#44;&#32;&#50;&#125;&#44;&#32;&#123;&#48;&#44;&#32;&#48;&#44;&#32;&#48;&#125;&#125;</pre></div>"
      ],
      "text/plain": [
       "{{1, 0, -1}, {0, 1, 2}, {0, 0, 0}}"
      ]
     },
     "execution_count": 188,
     "metadata": {
      "text/html": [],
      "text/plain": []
     },
     "output_type": "execute_result"
    }
   ],
   "source": [
    "RowReduce[A]"
   ]
  },
  {
   "cell_type": "code",
   "execution_count": 189,
   "id": "brief-broad",
   "metadata": {},
   "outputs": [
    {
     "data": {
      "text/html": [
       "<div><pre style=\"&#102;&#111;&#110;&#116;&#45;&#102;&#97;&#109;&#105;&#108;&#121;&#58;&#32;&#34;&#67;&#111;&#117;&#114;&#105;&#101;&#114;&#32;&#78;&#101;&#119;&#34;&#44;&#67;&#111;&#117;&#114;&#105;&#101;&#114;&#44;&#109;&#111;&#110;&#111;&#115;&#112;&#97;&#99;&#101;&#59;\">&#123;&#123;&#49;&#44;&#32;&#48;&#44;&#32;&#45;&#49;&#44;&#32;&#48;&#125;&#44;&#32;&#123;&#48;&#44;&#32;&#49;&#44;&#32;&#50;&#44;&#32;&#48;&#125;&#44;&#32;&#123;&#48;&#44;&#32;&#48;&#44;&#32;&#48;&#44;&#32;&#49;&#125;&#125;</pre></div>"
      ],
      "text/plain": [
       "{{1, 0, -1, 0}, {0, 1, 2, 0}, {0, 0, 0, 1}}"
      ]
     },
     "execution_count": 189,
     "metadata": {
      "text/html": [],
      "text/plain": []
     },
     "output_type": "execute_result"
    }
   ],
   "source": [
    "RowReduce[Ab]"
   ]
  },
  {
   "cell_type": "code",
   "execution_count": 182,
   "id": "cardiac-complex",
   "metadata": {},
   "outputs": [
    {
     "data": {
      "text/html": [
       "<div><img alt=\"Output\" src=\"data:image/png;base64,iVBORw0KGgoAAAANSUhEUgAAAEYAAAAfCAIAAADVzSzsAAAA0XpUWHRSYXcgcHJvZmlsZSB0eXBlIGV4aWYAAHjabU/bDcMgDPxnio7gFzaMQxoidYOO3yPQVql6Evb5/MBO/fk40m1AmJLlKF7dCbBqVRpIoYnpmeppT5ivHF/1xMfSG6T8TXhf+nbVYw2S8jOIZBIdP4CrrYY1SGXq3Ga8rXpppVwHvc9YqPRZ/W9sGuLZOQzWhCK8gpcECudZKIcffndHIfsuZHf47hFo8xgV2kbjgPS4VvfkCmEfJ+h4rA1eYVUZrYyoKdY4dZYNtpx8nPMCWhZauibyNCoAAAAJcEhZcwAAFiUAABYlAUlSJPAAAAA8dEVYdFNvZnR3YXJlAENyZWF0ZWQgd2l0aCB0aGUgV29sZnJhbSBMYW5ndWFnZSA6IHd3dy53b2xmcmFtLmNvbVyipoUAAAAhdEVYdENyZWF0aW9uIFRpbWUAMjAyMTowMzozMSAxMDo0NzowMdNndJQAAAIcSURBVFiF7VgxlqQgEC33LDrBvjkBnECjOQWE9gEm7GwSCCWbdKJJBk4gJ9i3wcJd2ADtlha0dezZ7Xn+UIuiflX9As2cc/C98ONfB7A9dkr3gJ3SPeCWlBTNQmBub7hdj46S5ThLgqovCGQ73LJKZeN6SHLDfS4QUkLMuDGa8uvi2QD7eAAAAKs4p3ggPowpV59WvlWBV4ypsnGnVo0Mh699bxmGAFKNFyIpi6nFftGERcIrkRFLNG25pkqIMCbNOTrj49GHl7WjUdFKAABi8uTVGMnGwVuOK6EDS+M5iup0RARVihK4onJ9kiNJvaZK3e7J1bNugucbjYfiZzIlVyB/eAQAEMcZRap3AQDkuc4vXpRPBAD0bwMAK7TknDOSERTjsLJKQZcgRIK2jhrF4f0vr5KiWVEdhNaLV04gr1sjfZq0FoeqKLIM03X3p6WUOiEDItIsSeA88rJpW+eMZN1Y0OJQxC5jacm1db6cku9mQOy1KS8behvkZV037SlJ4nguVSe5X3+mi7fJeLDq5W3TPgSAvH4eHVV+CM0dFgspdZNNv310s8kqTnFRiU8xUhRTzoO7glX0KAAAHh/O3dDTFFV4XbFWcXqWXqCF+YkXFw0ihACEbT4jr+FW6QvJWDdpt73HpY03GE3eDyJMmrZ5WugnQNn4Y2EQbO939BGQ160xMmb82h1Xmdv/4/3/2CndA3ZK94BvSOkv+E0BF0rbHMYAAAAASUVORK5CYII=\"></div>"
      ],
      "text/plain": [
       "False"
      ]
     },
     "execution_count": 182,
     "metadata": {
      "text/html": [],
      "text/plain": []
     },
     "output_type": "execute_result"
    }
   ],
   "source": [
    "MatrixRank[A] == MatrixRank[Ab]"
   ]
  },
  {
   "cell_type": "markdown",
   "id": "derived-opportunity",
   "metadata": {},
   "source": [
    "> 此题无解"
   ]
  },
  {
   "cell_type": "markdown",
   "id": "annual-departure",
   "metadata": {},
   "source": [
    "## 13.\t求解线性方程"
   ]
  },
  {
   "cell_type": "code",
   "execution_count": 155,
   "id": "nervous-aggregate",
   "metadata": {},
   "outputs": [
    {
     "data": {
      "text/html": [
       "<style>\n",
       "\t\t\t\t\t\t\t\t\t\t\t\t\t.grid-container {\n",
       "\t\t\t\t\t\t\t\t\t\t\t\t\t\tdisplay: inline-grid;\n",
       "\t\t\t\t\t\t\t\t\t\t\t\t\t\tgrid-template-columns: auto;\n",
       "\t\t\t\t\t\t\t\t\t\t\t\t\t}\n",
       "\t\t\t\t\t\t\t\t\t\t\t\t</style>\n",
       "\n",
       "\t\t\t\t\t\t\t\t\t\t\t\t<div><div class=\"grid-container\"><div class=\"grid-item\"><pre style=\"&#102;&#111;&#110;&#116;&#45;&#102;&#97;&#109;&#105;&#108;&#121;&#58;&#32;&#34;&#67;&#111;&#117;&#114;&#105;&#101;&#114;&#32;&#78;&#101;&#119;&#34;&#44;&#67;&#111;&#117;&#114;&#105;&#101;&#114;&#44;&#109;&#111;&#110;&#111;&#115;&#112;&#97;&#99;&#101;&#59;\">&#123;&#123;&#49;&#44;&#32;&#50;&#125;&#44;&#32;&#123;&#50;&#44;&#32;&#45;&#49;&#125;&#44;&#32;&#123;&#45;&#49;&#44;&#32;&#49;&#125;&#125;</pre></div><div class=\"grid-item\"><pre style=\"&#102;&#111;&#110;&#116;&#45;&#102;&#97;&#109;&#105;&#108;&#121;&#58;&#32;&#34;&#67;&#111;&#117;&#114;&#105;&#101;&#114;&#32;&#78;&#101;&#119;&#34;&#44;&#67;&#111;&#117;&#114;&#105;&#101;&#114;&#44;&#109;&#111;&#110;&#111;&#115;&#112;&#97;&#99;&#101;&#59;\">&#123;&#49;&#44;&#32;&#50;&#44;&#32;&#51;&#125;</pre></div></div></div>"
      ],
      "text/plain": [
       "{{1, 2}, {2, -1}, {-1, 1}}\n",
       "{1, 2, 3}"
      ]
     },
     "execution_count": 155,
     "metadata": {
      "text/html": [],
      "text/plain": []
     },
     "output_type": "execute_result"
    }
   ],
   "source": [
    "A={{1,2},{2,-1},{-1,1}}\n",
    "b={1,2,3}"
   ]
  },
  {
   "cell_type": "code",
   "execution_count": 157,
   "id": "acute-cleaner",
   "metadata": {},
   "outputs": [
    {
     "data": {
      "text/html": [
       "<div><img alt=\"Output\" src=\"data:image/png;base64,iVBORw0KGgoAAAANSUhEUgAAAMYAAABfCAIAAAA8kC+BAAAA0HpUWHRSYXcgcHJvZmlsZSB0eXBlIGV4aWYAAHjabU9tbsUgDPvPKXaEfOHAcWgflXaDHX9JYZs6PUskjnECKfPr8yofCWEqVr2hAxSwbl1GkEYLKzP1O944se/4qZd6bX2EVP8uMLd+PHXfg6T9G0SyiOYLwdV2wx6ksnQeqz62X0Zrz0E/a2x0+v3629rUBRXsFtGE3NGDtxI0EqpQdVw4gTAyXkJ2Rp5wjzZ4OnRkY0KmP92zQEN45Qqah3VE1oiqHK0cVfIVTY5g7fbkOt+ktFrrDnmdWAAAAAlwSFlzAAAWJQAAFiUBSVIk8AAAADx0RVh0U29mdHdhcmUAQ3JlYXRlZCB3aXRoIHRoZSBXb2xmcmFtIExhbmd1YWdlIDogd3d3LndvbGZyYW0uY29tXKKmhQAAACF0RVh0Q3JlYXRpb24gVGltZQAyMDIxOjAzOjMxIDEwOjMwOjM0p9c3cQAAB9FJREFUeJztnTFs2kwUx8+fvoEtjIyuBC2qOnirRRaYEugQpqgbTEaZoEOVDpGSSJWqKAOwFS80U0mXkuGDdEqW0HYKlaoUFQ/eypZ0Mp38DaQJEN8Z7PPZR95vanKH7z3n37uHfe+eYJomAgB6/OO3AcCiAZICKMNKUlp1WbhluaoxGndG/ppXaM/fygUMXWAiqXZBiJWetMxr+hVUigVGVVp1WRByaKuSmL+VC1i7wEJS7aaKEpWX6b8/R5+tJ1Dnw39B0FS7EPuw3jfPirH5W7mAvQszSerLly9uxog9TqDORf/2F/2LDkJPHkbdXJQS6Zp5VsQaQm7lAlouDIfDbrc7S097STWbzcPDQzfWRItbClIz1xFUuyBkVKS0amnbDwLBIRQKbWxsDAYD2572ktrb29vc3HRnT7p2HUEJgpBRlZZpgqD4Y3Nzc2Njw7abjaSazaYsy5FIxJ0x7YJwE6C3FDXD97en+0o2m0UI2S5/NpKiMUVp1eWMipTW9cyUrpn9SgKpGRAVf2xvb+/u7pL7kCTVaDQkSXI9RfUvOgglHo9944g+fOLukoBPSJI0GAx0XSf0IUnq6OhobW3NtRnprIJQp7R/Mylp1dcqQkoWwikeWVlZaTQapB4mBsMwIpGIYRi4DnPRn3zOlqj0qVyWAi3F4qbc2Edu5QLaLvz48UOWZUIHwcTsRGg0GkdHR+/fvyfpEbiXPHjw4OTkRBRFy1bswvfp06eVlRWvjAJ4JpvNNptNXCtWUt1uV5Ikb0wC+ObRo0dfv37FtVpLajgc6roOkgIskSSp1+vhWq0lpet6OBx2Np7glNPTU2cjOiaVSjkzdWdnh7GpztjZ2cG5kEqlHF9WFEWCpKzD8+Pj4729vZOTE8ejAhTRNMKmjWjUj/fagiBcXl5azjv/Wn6g1+s5nqUAymjV/f0LfPPjlzUfNkuIoogLjawldXV1BZIKCtFirea3DVZcXV1Z/t46lvrz5w9ICiAgiuJwOLRsspbUYDBYWlry0iSAe3B7pyBDBqAMSAqgDEgKoAw2lnK9TQq4p2BfyIRCIcamAIuBNwtfuzDx8H8qDXSqVRD83InOkalOsHDAwk2qeCOpdG1sS5ZlcvHUHjD/EmY4MtUJE+6ZpjnakpdYf+bdA3cG4Xm0uKUEJbnYBo5MdYhWfa16qyjMCxm6aD+/ByW52A6OTHVEe7/UQUrL05eC3s9SWjVX6owfiYAQQqhTigUvOuHIVEeMpqhp/6hjuSM9mUzW63Wbfe1kxhMYSJvnR/18zRDgyFRXtBSEkNKy7zgDBIV4JqkxRn8KvC80XXUJR6bOS7+SoPj/gaAQFk/Po8WDSgKpTQ4WDY5MnZNRFLXFYGsVmxcy/YvOZL7xONrP7wjfyhqOTJ0DRlHUiHmnNQeQVouAxSccmToP9Ndr1gvf5MGcQgZNnP4z0To6z8W/c8E4MtUxjA8MsE5nSKVSuVwun8+zMQLgDoJCYHMLQBmQFEAZkBRAGZAUQBmQFEAZkBRAGZAUQBmQFEAZkBRAGZAUQBmQFEAZkBRAGS8lhatUSU6d44BrBwJneDCqm3okKWKlSvvUuUDTLmRUv224Q4Cqm3oiqXkqVfKWOqdVX6tIaVnWPPCNQFU39SSPL10zZ9/uxVXqnFbNlTpK6yyNCn6bMs5cN9xr/A7PrVPnAsq1oPhKYWcOi2xjC7TqcqzUGf07Uenzsfm2vV/qJCoHICgyPs1S0eLZTXy+/iHm95eUWWgXMmqicsCH+v3E74WPl9Q5ENTM+C8pm9S5YNBuqpOHI2RufubqAQgL/JdUu5BR2aTBuuDOMU0t5W9KH4dZWN7i7Sl4oxBczUw8bCanzgFOIN5wxnjzjS9dM01skYpo8cwsejIsQ9I1TLVVfyDecMb4v/ABCwZICqCMtaRCoRCu6AwAkLGOpSKRCK7ojC2Oy1GWy+XglL598eJFt9t18EH2Z0m8e/fu4ODAskmSpHK5zNIY5EV4vr297eyDuCLxbnBcbzOXy62trTkY0QsvyCSTSdygvlTAoy+pZDJJ/ZoOcVFvMzjzpS2iKLLXMQGfXhuzIaj1Nhcb6/A8HA7//v2bsSkAX+BWVWtJLS0t4SrXAgBCSNf1+SQVDofhIQJAZj5JiaLo+CECcB8gVGwESQFzMwqKQFIANXRdJzy2wMZSkUhE13WPbAK4ptfrxeNxXCv2tXE8Hnf2RgKhRSnFyY0XrEuDfvv27enTp9hm3PH79Xo9n887P75/PJ94qh7O7Y5IjuDLC2+Nk2X58+fPuFbsLJXNZk9PT2lomrd8Ymt48sLT0qC6rg8GA1mWcR2wkgqHw/F4nIqquMonxsKPF94WtTo+Pn7+/DmpB2F+q9frr169cjtL3q0DN32eAA/17fjxgm7dvbusrq4SVj0TV+JxxOXlpSRJhmE4GXkxSnHy54W3RSh//folyzK5D0lSpmmWy+VyuezSjsUoxcmFF15PUfl8/uPHj+Q+NpIyDMP5RHVLv5Ig3O5A/DFmIPheeGvD+fn56uqqbTebdIZQKJTL5d6+fUvuZsdilOIMuhdelwbd3d198+aNfT9b0RmGcX5+7kbdi1GKM/BeeD5NkqPyG+wl5YD+1PF+k35OtQZ2xePLC7tQjx3WVUMBwDGQGgpQBiQFUAYkBVAGJAVQ5n/HAMHcDt3muQAAAABJRU5ErkJggg==\"></div>"
      ],
      "text/plain": [
       "8       11        1\n",
       "--      --      -(-)\n",
       "35      35        7\n",
       "\n",
       "13        4     1\n",
       "--      -(--)   -\n",
       "35        35    7"
      ]
     },
     "execution_count": 158,
     "metadata": {
      "text/html": [],
      "text/plain": []
     },
     "output_type": "execute_result"
    }
   ],
   "source": [
    "A' = PseudoInverse[A];\n",
    "A' // MatrixForm"
   ]
  },
  {
   "cell_type": "code",
   "execution_count": 159,
   "id": "lined-vermont",
   "metadata": {},
   "outputs": [
    {
     "data": {
      "text/html": [
       "<div><img alt=\"Output\" src=\"data:image/png;base64,iVBORw0KGgoAAAANSUhEUgAAAGMAAAA/CAIAAAB7FeFOAAAAz3pUWHRSYXcgcHJvZmlsZSB0eXBlIGV4aWYAAHjabU9bDsIwDPvvKThCHq3THqdjncQNOD7JWhBDWFrseE62pPF8HOkWEKaUi1U0gBy55SbdRaWJyUztrCeg6x1f/aTH8rtb5WtgLH+7+obJUn8WkUyh8QXXmtfAWqQyfe6z31Zeeq3XRe8zFhp9fv1vn9UEBWzZaxYyQ3Ndk0snFKFiOHAHPMjYhfLdecDMx2CR0B6DARl2TY8EdWOPEzQe1u6sXlXZR9m70LNCNlf1zMQ5L1s1WrtohZJqAAAACXBIWXMAABYlAAAWJQFJUiTwAAAAPHRFWHRTb2Z0d2FyZQBDcmVhdGVkIHdpdGggdGhlIFdvbGZyYW0gTGFuZ3VhZ2UgOiB3d3cud29sZnJhbS5jb21coqaFAAAAIXRFWHRDcmVhdGlvbiBUaW1lADIwMjE6MDM6MzEgMTA6MzA6MzZJ2VZdAAADtElEQVR4nO2bvXKjMBDHl5t7gDyEfYUnT7Bq3DpprkpLJ0rTpHOZLo0onSppU6WJeAKoU2RcRCryJlxh7Hg4AQIkBAy/MuMsy1+rD3ZXXpZlMKPBL9cOjIZZKV2MKCVlHBBCvBOEBFEsTVhuSRycXYmM+ZF1RjBUWkYmuhtvA6c2nDASU9dIuTh7JASnCABp6JsbUH3i4OYJABDV49ceQ4oXyOOMcjvmy8njifLcg4HF1GCQ0cMTAFC+3xi3bUkpcUgBAFdLO+bVyMgPU0s6gY3Zly9Tfa/ohQlvfPZpKSXqn3a53wAAMt7vxvffwqiplMar5VTNPhkFxPM8QvzHpptYGt74QX87X9t5J6NHnxDPIySoP/+VjxEibRUYQvDTCaufCajcaJvNPsEpYvVOrVZKMOy6w5+3605WNCiRpPk6xWmlt2qlav5J98F9RFXZF0IRjfepfmvlOiW/Pjtv8PLrEwDg+s+im50eWa7w86t0ubJ18pTvr/2cqBbbpCrWzjHd+YxlXikpZRyQZZgCAN1txxNSNfzubCEOvJsnxd+R8hc7h2U3dFeqCCJe3+3ut5vJRNOR7kpt9lm2N+CJYRbbJNuaNDitXIJNZqV0mZXSZVZKl1kpXWaldJmV0mVWShelUuKQjikH0A8qpUwkXcbI4vYOXt/L0i5eVuwKkhHxD7tE5+P2+fn5+/u79mfr9Xq9Xteba8XHx8fb21vtz66ursIwrP1ZHJCH1UuiyoBcxJSUcRQQ4h92k8oBNGKzf9kd/GMHSjG4LpOjCNCyyjAlBKMIgKyQKC7m0TWKFJOGUyypVSoqDoL1qtWpZDCE8amqOShrMyZKM7pcFp9da1X53srzVHWRwizL1U8VqreHqqk+HTk/oy+2SaGnYaA4VwouwmrQHwaulZIyDvwwBQBAdj/kY5z52owuMsqLggAAgEwoT8bDwXVMASJlXGQDlwm6KyWjnzZ0NWUd4XmZPEn2XUuD7X1ogvOYGg1dlSproMjObUF3t7bnVT8+WIupU8Ozyx4Ooz7YUip+PDa7/HW48Zv1wY5S+WA6PSGZ9sGKUqfBdDnzjPtgQakpBhTYUGq8AVVTklJuroJhy6bfU17OZaqppQ81L13Wuc9pK63yBIqzS5CtfRCc1khbfm9GcIrHrzLONasQ4wsowTlnTKvUUnfD6GhK776Q8etPLWh6CYRRxrnWNSODt9Z6u//hxgdjSo1v5jXElFKjXcq1MaPU5AMqy7L/Ozhm1MyZPF1mpXT5B5bOrBs4ZdgXAAAAAElFTkSuQmCC\"></div>"
      ],
      "text/plain": [
       " 3  4\n",
       "{-, -}\n",
       " 7  7"
      ]
     },
     "execution_count": 159,
     "metadata": {
      "text/html": [],
      "text/plain": []
     },
     "output_type": "execute_result"
    }
   ],
   "source": [
    "X = A'.b"
   ]
  },
  {
   "cell_type": "markdown",
   "id": "unlikely-annotation",
   "metadata": {},
   "source": [
    "## 14.\t求解方程组AX=b"
   ]
  },
  {
   "cell_type": "code",
   "execution_count": 150,
   "id": "oriental-yeast",
   "metadata": {},
   "outputs": [
    {
     "data": {
      "text/html": [
       "<style>\n",
       "\t\t\t\t\t\t\t\t\t\t\t\t\t.grid-container {\n",
       "\t\t\t\t\t\t\t\t\t\t\t\t\t\tdisplay: inline-grid;\n",
       "\t\t\t\t\t\t\t\t\t\t\t\t\t\tgrid-template-columns: auto;\n",
       "\t\t\t\t\t\t\t\t\t\t\t\t\t}\n",
       "\t\t\t\t\t\t\t\t\t\t\t\t</style>\n",
       "\n",
       "\t\t\t\t\t\t\t\t\t\t\t\t<div><div class=\"grid-container\"><div class=\"grid-item\"><pre style=\"&#102;&#111;&#110;&#116;&#45;&#102;&#97;&#109;&#105;&#108;&#121;&#58;&#32;&#34;&#67;&#111;&#117;&#114;&#105;&#101;&#114;&#32;&#78;&#101;&#119;&#34;&#44;&#67;&#111;&#117;&#114;&#105;&#101;&#114;&#44;&#109;&#111;&#110;&#111;&#115;&#112;&#97;&#99;&#101;&#59;\">&#123;&#123;&#49;&#44;&#32;&#49;&#44;&#32;&#49;&#125;&#44;&#32;&#123;&#45;&#49;&#44;&#32;&#49;&#44;&#32;&#49;&#125;&#44;&#32;&#123;&#49;&#44;&#32;&#45;&#49;&#44;&#32;&#49;&#125;&#44;&#32;&#123;&#49;&#44;&#32;&#49;&#44;&#32;&#45;&#49;&#125;&#125;</pre></div><div class=\"grid-item\"><pre style=\"&#102;&#111;&#110;&#116;&#45;&#102;&#97;&#109;&#105;&#108;&#121;&#58;&#32;&#34;&#67;&#111;&#117;&#114;&#105;&#101;&#114;&#32;&#78;&#101;&#119;&#34;&#44;&#67;&#111;&#117;&#114;&#105;&#101;&#114;&#44;&#109;&#111;&#110;&#111;&#115;&#112;&#97;&#99;&#101;&#59;\">&#123;&#49;&#44;&#32;&#49;&#44;&#32;&#49;&#44;&#32;&#49;&#125;</pre></div></div></div>"
      ],
      "text/plain": [
       "{{1, 1, 1}, {-1, 1, 1}, {1, -1, 1}, {1, 1, -1}}\n",
       "{1, 1, 1, 1}"
      ]
     },
     "execution_count": 150,
     "metadata": {
      "text/html": [],
      "text/plain": []
     },
     "output_type": "execute_result"
    }
   ],
   "source": [
    "A = {{1,1,1},{-1,1,1},{1,-1,1},{1,1,-1}}\n",
    "b={1,1,1,1}"
   ]
  },
  {
   "cell_type": "code",
   "execution_count": 152,
   "id": "norman-works",
   "metadata": {},
   "outputs": [
    {
     "data": {
      "text/html": [
       "<div><img alt=\"Output\" src=\"data:image/png;base64,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\"></div>"
      ],
      "text/plain": [
       "1        1    1      1\n",
       "-      -(-)   -      -\n",
       "4        4    4      4\n",
       "\n",
       "1      1        1    1\n",
       "-      -      -(-)   -\n",
       "4      4        4    4\n",
       "\n",
       "1      1      1        1\n",
       "-      -      -      -(-)\n",
       "4      4      4        4"
      ]
     },
     "execution_count": 153,
     "metadata": {
      "text/html": [],
      "text/plain": []
     },
     "output_type": "execute_result"
    }
   ],
   "source": [
    "A' = PseudoInverse[A];\n",
    "A' // MatrixForm"
   ]
  },
  {
   "cell_type": "code",
   "execution_count": 154,
   "id": "weighted-seven",
   "metadata": {},
   "outputs": [
    {
     "data": {
      "text/html": [
       "<div><img alt=\"Output\" src=\"data:image/png;base64,iVBORw0KGgoAAAANSUhEUgAAAJAAAAA/CAIAAACAbtbUAAAAz3pUWHRSYXcgcHJvZmlsZSB0eXBlIGV4aWYAAHjabU9bDsMgDPvnFDtCHpDAcehKpd1gx59TmKZui0TsGCeQNJ6PI90ihCnl4tWaGSFyy006SKUZE5namc9o6wr1RU96LL1DKp8LG0vfrrrbRKlfg0gm0XgBXPNqWINUps591tvyS6/1Oui9Bv18/W+d1cWKsWfkLORuDbwmUIAVoeJ22N0MRrZdKN+Bw9zRZh4O7dEYIcOv7pFMIeyxgsZh7UBFVmW0MqrgkVmbbGD19MQ6L1tEWryjlPrzAAAACXBIWXMAABYlAAAWJQFJUiTwAAAAPHRFWHRTb2Z0d2FyZQBDcmVhdGVkIHdpdGggdGhlIFdvbGZyYW0gTGFuZ3VhZ2UgOiB3d3cud29sZnJhbS5jb21coqaFAAAAIXRFWHRDcmVhdGlvbiBUaW1lADIwMjE6MDM6MzEgMTA6MzA6MTnrUClOAAAD2klEQVR4nO2crVbzMBjHn7znvQAuAdEhdnYFiZkdGBS2qFRuBjeBeB0mlUUxi5ohvYJNIzgTJII7ySvYF6NfW9N8QH6KA133O/k3NH2SBimlIOAPf2wLBI4jBOYZWgOTeUIQQgiRVOo8r28OXWpoCkzmaUJQ7/Jxqed8vjoY0FBtEZxRDAAAmHJGP39iovV5fXMwpNE6MMHw2lAopbiVxnLBwZTG37Y9NLq6oaubu2wctT2T3w6mNFoHBtE4yzSIeO8AZjTCsN4zGgUmbQ6QfwXNW7gqMJkmBCFESPxg9ZnmxyPTh5gQhAhJ8rqGLruHyZTEz4PpTGV2b+S/gmicLcYAADJPYjKfLrJR6bHFgck0ngymquJzgS6IRtkCEpTk5U1f/C9RrJb0OqRlhdE1fZznpX8uDEy+v+F+rzOlQCW9Pn57L72VhWG9Z4TAfKOkKNa8BLauoJVhpKTngoM2jerWDz3MM3TUEhdqrMHEdwdDGqGHeUYIzDNCYJ4RAvOMEJhnhMA8IwTmGSEwzygMTKyWg4swcekkRYGF2RWrRFc38PxSNr+C1OHrRjIl8apylnrL09PTx8dH7WHD4XA4HNaf7iReX1/n83ntYWdnZ5PJpCMHALi/v29y2O3t7fn5ee1heUL+9WeLogWOez1MyjxNCIlX01lYG2CXUTabrmJCkjT/tp5qV7jnFG/XGQesIxjFAJjxr78+nA8TnGJMDw4KmIZTjFlh1ymYwBTMaGSbWT+bl4kLDntwCqUihTPOVR/QzfolDwAAc1/qoMNXnXKLwuew6nU7eun1d9Pqxr7UQYcd1U9V1isd0Xixf4H/WoemWA8M9i5wi+UVFxwaYTswKfMkniwBADC7s/P454JDY9ovwjkVmZLeZPviNmai8MH+5zscie0eBhhTxoWy2lIuODSmaOh41ELS9Uc4xbuhFrZSMHHBQYNGdevrCKxkwavRp1AXHDRpdB3YZnsDysT6I2I7RjbVXC44aNPovodxSg+P3lxpBgsm9h00aXS/tn6UfduaIroYAIDBuoELDkY0rI8SA8fRUWDy/Q0A7NYNXHDQr9FNYPLleQkAYPNFaRccutA4/rZXy2ZkZGE/NaccTtSontwq3s2tRWLbJxEH5iMtT26dplHT9mXb73F6SmTCgQvbBYeTNQSnNfmW75coOMWfVTbOmxVXtooWL2wXHI7XEJxzxhotgqrb4PLzVMXrQdoodoILDqdoCM4o41w06Rbtt5BVar1CzvJNwwUHAxoaAnOhpVxwMKOha8/fcgw0oQsOpjRCacozvr8MEXCa0MM8IwTmGf8BcJnfOcdTQMUAAAAASUVORK5CYII=\"></div>"
      ],
      "text/plain": [
       " 1  1  1\n",
       "{-, -, -}\n",
       " 2  2  2"
      ]
     },
     "execution_count": 154,
     "metadata": {
      "text/html": [],
      "text/plain": []
     },
     "output_type": "execute_result"
    }
   ],
   "source": [
    "X = A'.b"
   ]
  },
  {
   "cell_type": "markdown",
   "id": "expired-generation",
   "metadata": {},
   "source": [
    "## 15.\t已知向量a=(1, 2, 3), b=(4, 3, -1)，求两个向量的2范数、数量积和向量积"
   ]
  },
  {
   "cell_type": "code",
   "execution_count": 123,
   "id": "golden-coordinator",
   "metadata": {},
   "outputs": [
    {
     "data": {
      "text/html": [
       "<style>\n",
       "\t\t\t\t\t\t\t\t\t\t\t\t\t.grid-container {\n",
       "\t\t\t\t\t\t\t\t\t\t\t\t\t\tdisplay: inline-grid;\n",
       "\t\t\t\t\t\t\t\t\t\t\t\t\t\tgrid-template-columns: auto;\n",
       "\t\t\t\t\t\t\t\t\t\t\t\t\t}\n",
       "\t\t\t\t\t\t\t\t\t\t\t\t</style>\n",
       "\n",
       "\t\t\t\t\t\t\t\t\t\t\t\t<div><div class=\"grid-container\"><div class=\"grid-item\"><pre style=\"&#102;&#111;&#110;&#116;&#45;&#102;&#97;&#109;&#105;&#108;&#121;&#58;&#32;&#34;&#67;&#111;&#117;&#114;&#105;&#101;&#114;&#32;&#78;&#101;&#119;&#34;&#44;&#67;&#111;&#117;&#114;&#105;&#101;&#114;&#44;&#109;&#111;&#110;&#111;&#115;&#112;&#97;&#99;&#101;&#59;\">&#123;&#49;&#44;&#32;&#50;&#44;&#32;&#51;&#125;</pre></div><div class=\"grid-item\"><pre style=\"&#102;&#111;&#110;&#116;&#45;&#102;&#97;&#109;&#105;&#108;&#121;&#58;&#32;&#34;&#67;&#111;&#117;&#114;&#105;&#101;&#114;&#32;&#78;&#101;&#119;&#34;&#44;&#67;&#111;&#117;&#114;&#105;&#101;&#114;&#44;&#109;&#111;&#110;&#111;&#115;&#112;&#97;&#99;&#101;&#59;\">&#123;&#52;&#44;&#32;&#51;&#44;&#32;&#49;&#125;</pre></div></div></div>"
      ],
      "text/plain": [
       "{1, 2, 3}\n",
       "{4, 3, 1}"
      ]
     },
     "execution_count": 123,
     "metadata": {
      "text/html": [],
      "text/plain": []
     },
     "output_type": "execute_result"
    }
   ],
   "source": [
    "a = {1,2,3}\n",
    "b={4,3,1}"
   ]
  },
  {
   "cell_type": "code",
   "execution_count": 125,
   "id": "handed-driving",
   "metadata": {},
   "outputs": [
    {
     "data": {
      "text/html": [
       "<div><img alt=\"Output\" src=\"data:image/png;base64,iVBORw0KGgoAAAANSUhEUgAAADcAAAAfCAIAAADMRsJKAAAA0npUWHRSYXcgcHJvZmlsZSB0eXBlIGV4aWYAAHjabU9bbgQhDPvnFHuEPMCB4zC7jNQb9PhrBtpqqrVEnBgnkDS+v870mDCVlEtUNECI3HKzzqTKwmKVdsULHvtO73rSc+udUvm7wNj6cdcDi63+GyS2X5ovMPe8G/Ygt6VrX/Wx/dZrvQ/6WWOjye/XP9bZw1CgkRmzSQQa85qYklBMSuDEE6BR8TLJT/JABNsQ0+F9Nk7YiLt7JDiF11zB51HvZGd0V7Yqq84YV2x2sK6XZ67zBlpfWsCzelA4AAAACXBIWXMAABYlAAAWJQFJUiTwAAAAPHRFWHRTb2Z0d2FyZQBDcmVhdGVkIHdpdGggdGhlIFdvbGZyYW0gTGFuZ3VhZ2UgOiB3d3cud29sZnJhbS5jb21coqaFAAAAIXRFWHRDcmVhdGlvbiBUaW1lADIwMjE6MDM6MzEgMTA6MTc6MTkMR0KXAAACW0lEQVRYhdWYIbCiQBjHl5sXNhqNOqM3RpoOBrGpFyS9eiSIUm4cozOvmJDkYJGrlyhPKwQZTNJwRoLRuHGbF/TNQx7isig390+wfHz85uPb3e9bcKKV7/vgaeJ5Pvwt5nQ60TkyDAMhpCjKY/li9Y36Tdu2eZ5/HEmS6Ck9z2NZ9oEoCaKkPBwOpVLpoSRJoqS0LKvVaj0WJUGUlJvNJrffDagpPc9rNBoxD4KV3GQYhmGaWkDgZyUzFyXa01AihCCEEMIInyY3mWpv7hA7Wsm9OZEhDeWXpAxWmtys9pS5w0nLqUTo5sLIcdxTKKMrZfD+pswdwEnL/Vrvfk/FKC1/v943pqF0XfcqKSs/XiVpul/r3Qqpi0B7OzPqXRLzl7SICCGM8XVSVga6nsZHoP1UnA9GkkkWE0vTNMvlsud5sS+4rptxY7xiJNMV5W63a7fbo9GI5/nxeHyLMtN6TsEYodR1vd/v+74/m81c140NZ7Yig4oxkpeqqp4vIISiKGqatlgswgYYY4xxoVDIlTFhjg8GA9M0j8djeDA6u1PpwshNf6VkTKAsFouiKE4mk/CgZVn1ep0GEYDg/Y8DAACOUmXCqirXw/IqBSUAYDgcGoYRDqdt2/SxzKAkyq/hRAhRl5WVwTq2f9pPOQAA4Kb7831czt7Ze8LhzLM4j+gOZTictyvfQGt+5tmlzAmlH1kRl4ESfIQTY5xnOxYVSestCIKqqrVajbp5zygiyu12CyEUBOHZNLdEVLmxLNvpdPJsxyIiPds47+n/ao7Tn8DkKfqzjTz1f1D+Beg4nDKpcKHsAAAAAElFTkSuQmCC\"></div>"
      ],
      "text/plain": [
       "Sqrt[14]"
      ]
     },
     "execution_count": 125,
     "metadata": {
      "text/html": [],
      "text/plain": []
     },
     "output_type": "execute_result"
    }
   ],
   "source": [
    "Norm[a,2]"
   ]
  },
  {
   "cell_type": "code",
   "execution_count": 126,
   "id": "nominated-value",
   "metadata": {},
   "outputs": [
    {
     "data": {
      "text/html": [
       "<div><img alt=\"Output\" src=\"data:image/png;base64,iVBORw0KGgoAAAANSUhEUgAAADcAAAAfCAIAAADMRsJKAAAA0npUWHRSYXcgcHJvZmlsZSB0eXBlIGV4aWYAAHjabU9bbgQhDPvnFHuEPMCB4zC7jNQb9PhrBtpqqrVEnBgnkDS+v870mDCVlEtUNECI3HKzzqTKwmKVdsULHvtO73rSc+udUvm7wNj6cdcDi63+GyS2X5ovMPe8G/Ygt6VrX/Wx/dZrvQ/6WWOjye/XP9bZw1CgkRmzSQQa85qYklBMSuDEE6BR8TLJT/JABNsQ0+F9Nk7YiLt7JDiF11zB51HvZGd0V7Yqq84YjObFDtb18sx13loxWr09UXHrAAAACXBIWXMAABYlAAAWJQFJUiTwAAAAPHRFWHRTb2Z0d2FyZQBDcmVhdGVkIHdpdGggdGhlIFdvbGZyYW0gTGFuZ3VhZ2UgOiB3d3cud29sZnJhbS5jb21coqaFAAAAIXRFWHRDcmVhdGlvbiBUaW1lADIwMjE6MDM6MzEgMTA6MTc6MjUu3F1/AAACuklEQVRYhdWYLYziQBTH356qRCIhYQm5IOogg2Bw3J2pOo0a5I2E5BKCRLVr14A+A+aKBMQRUEVsdsmWBBwSXHFzAuiW0pl+XCG5v3y8N/PjzZvX1wKLqre3N7iZMMbOvR4YY9EW6vV6+/2eUhovn6c+RY6cTCYY4/hIRIpOuVgsZFmOEUWgiJSbzSaVSsVKIlJEyvF4XC6X40URKCLlfD6/23EDAERrQ8Vi0bKsS5upE4TsdREiuilawjR1jSBHBNG5vlEod7udq58xU0NeKUCcnU2NXPvHTNnv91utlsOgkxOTZp7SZ55MXnvb/wgRTTeF+f4XSkrpaDS6MOmEaK79zjAuzJMZud1jp/QqSg+dM3zBczSGY2Qs9B3f7/eHw0GSpLCBAAAwHDwDAPn5IxMqzINyMBik0+nFYuEZMJvNgj0YV+8vAACQz2ZcNvT5MRSji3K5XFYqlWaziTFut9s8ykD9fPX71xQAgChfPozm6xQA8lkYPtVLpQdbpfrTcCVazXn8lFJVVRljlmUlk0nDMK5LBGO82+0C1qSrADn9Crx8L8S9PY1Go1aruYyWZRWLRT9EG8bdhTg9yNRP3ZPLyaXcbreJRGK73TqNo9GIUipG9E6jk9Kjffv0J+4dTyaTtVqt0+k4jePxuFAoCE5tWH/8+gwAiOh/ru9xJpsHAHh5v6rBzLfvCACmr6b3uoK0XKcTY7xer3n+dha5zzp+Mk+xnEifrk4pdR6xLMt8RE4xBoIRQ/pROtNpGMb1fQqDyNjHBUKaPTH5X54AT0g7naqqdrtdwc5cXbDzvEWDnj/lMZ2WZSmK4l2U4SgZY8fJ8vwrQkQTj6LBpg1FUVRVzeVyQZxvoUCUhmFIkqQoyq1peAo0E8myXK1W7/k65lLQbxvHEemub2QORf8Cc09F/7ZxT/0flH8Bd6aFcIqp6XQAAAAASUVORK5CYII=\"></div>"
      ],
      "text/plain": [
       "Sqrt[26]"
      ]
     },
     "execution_count": 126,
     "metadata": {
      "text/html": [],
      "text/plain": []
     },
     "output_type": "execute_result"
    }
   ],
   "source": [
    "Norm[b,2]"
   ]
  },
  {
   "cell_type": "code",
   "execution_count": 128,
   "id": "brave-blame",
   "metadata": {},
   "outputs": [
    {
     "data": {
      "text/html": [
       "<div><pre style=\"&#102;&#111;&#110;&#116;&#45;&#102;&#97;&#109;&#105;&#108;&#121;&#58;&#32;&#34;&#67;&#111;&#117;&#114;&#105;&#101;&#114;&#32;&#78;&#101;&#119;&#34;&#44;&#67;&#111;&#117;&#114;&#105;&#101;&#114;&#44;&#109;&#111;&#110;&#111;&#115;&#112;&#97;&#99;&#101;&#59;\">&#49;&#51;</pre></div>"
      ],
      "text/plain": [
       "13"
      ]
     },
     "execution_count": 128,
     "metadata": {
      "text/html": [],
      "text/plain": []
     },
     "output_type": "execute_result"
    }
   ],
   "source": [
    "a.b"
   ]
  },
  {
   "cell_type": "code",
   "execution_count": 131,
   "id": "alien-poison",
   "metadata": {},
   "outputs": [
    {
     "data": {
      "text/html": [
       "<div><img alt=\"Output\" src=\"data:image/png;base64,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\"></div>"
      ],
      "text/plain": [
       "-7\n",
       "\n",
       "11\n",
       "\n",
       "-5"
      ]
     },
     "execution_count": 131,
     "metadata": {
      "text/html": [],
      "text/plain": []
     },
     "output_type": "execute_result"
    }
   ],
   "source": [
    "Cross[a,b] // MatrixForm"
   ]
  },
  {
   "cell_type": "markdown",
   "id": "powered-smile",
   "metadata": {},
   "source": [
    "## 16.\t对矩阵C按照下面要求取块\n",
    "$$\n",
    "C=\n",
    "\\begin{bmatrix}\n",
    "1&2&3&4&5\\\\\n",
    "-1&2&3&-4&5\\\\\n",
    "1&2&-3&4&5\\\\\n",
    "1&2&3&4&-5\\\\\n",
    "\\end{bmatrix}\n",
    "$$"
   ]
  },
  {
   "cell_type": "code",
   "execution_count": 33,
   "id": "strange-niger",
   "metadata": {},
   "outputs": [
    {
     "data": {
      "text/html": [
       "<div><pre style=\"&#102;&#111;&#110;&#116;&#45;&#102;&#97;&#109;&#105;&#108;&#121;&#58;&#32;&#34;&#67;&#111;&#117;&#114;&#105;&#101;&#114;&#32;&#78;&#101;&#119;&#34;&#44;&#67;&#111;&#117;&#114;&#105;&#101;&#114;&#44;&#109;&#111;&#110;&#111;&#115;&#112;&#97;&#99;&#101;&#59;\">&#123;&#123;&#49;&#44;&#32;&#50;&#44;&#32;&#51;&#44;&#32;&#52;&#44;&#32;&#53;&#125;&#44;&#32;&#123;&#45;&#49;&#44;&#32;&#50;&#44;&#32;&#51;&#44;&#32;&#45;&#52;&#44;&#32;&#53;&#125;&#44;&#32;&#123;&#49;&#44;&#32;&#50;&#44;&#32;&#45;&#51;&#44;&#32;&#52;&#44;&#32;&#53;&#125;&#44;&#32;&#123;&#49;&#44;&#32;&#50;&#44;&#32;&#51;&#44;&#32;&#52;&#44;&#32;&#45;&#53;&#125;&#125;</pre></div>"
      ],
      "text/plain": [
       "{{1, 2, 3, 4, 5}, {-1, 2, 3, -4, 5}, {1, 2, -3, 4, 5}, {1, 2, 3, 4, -5}}"
      ]
     },
     "execution_count": 33,
     "metadata": {
      "text/html": [],
      "text/plain": []
     },
     "output_type": "execute_result"
    }
   ],
   "source": [
    "MC = {{1,2,3,4,5},{-1,2,3,-4,5},{1,2,-3,4,5},{1,2,3,4,-5}}"
   ]
  },
  {
   "cell_type": "markdown",
   "id": "binary-diploma",
   "metadata": {},
   "source": [
    "1）\t取出第二行第三列的元素"
   ]
  },
  {
   "cell_type": "code",
   "execution_count": 135,
   "id": "fatty-caribbean",
   "metadata": {},
   "outputs": [
    {
     "data": {
      "text/html": [
       "<div><pre style=\"&#102;&#111;&#110;&#116;&#45;&#102;&#97;&#109;&#105;&#108;&#121;&#58;&#32;&#34;&#67;&#111;&#117;&#114;&#105;&#101;&#114;&#32;&#78;&#101;&#119;&#34;&#44;&#67;&#111;&#117;&#114;&#105;&#101;&#114;&#44;&#109;&#111;&#110;&#111;&#115;&#112;&#97;&#99;&#101;&#59;\">&#51;</pre></div>"
      ],
      "text/plain": [
       "3"
      ]
     },
     "execution_count": 135,
     "metadata": {
      "text/html": [],
      "text/plain": []
     },
     "output_type": "execute_result"
    }
   ],
   "source": [
    "MC[[2,3]]"
   ]
  },
  {
   "cell_type": "markdown",
   "id": "numerous-astrology",
   "metadata": {},
   "source": [
    "2）\t取出第三行元素"
   ]
  },
  {
   "cell_type": "code",
   "execution_count": 136,
   "id": "bigger-peace",
   "metadata": {},
   "outputs": [
    {
     "data": {
      "text/html": [
       "<div><pre style=\"&#102;&#111;&#110;&#116;&#45;&#102;&#97;&#109;&#105;&#108;&#121;&#58;&#32;&#34;&#67;&#111;&#117;&#114;&#105;&#101;&#114;&#32;&#78;&#101;&#119;&#34;&#44;&#67;&#111;&#117;&#114;&#105;&#101;&#114;&#44;&#109;&#111;&#110;&#111;&#115;&#112;&#97;&#99;&#101;&#59;\">&#123;&#49;&#44;&#32;&#50;&#44;&#32;&#45;&#51;&#44;&#32;&#52;&#44;&#32;&#53;&#125;</pre></div>"
      ],
      "text/plain": [
       "{1, 2, -3, 4, 5}"
      ]
     },
     "execution_count": 136,
     "metadata": {
      "text/html": [],
      "text/plain": []
     },
     "output_type": "execute_result"
    }
   ],
   "source": [
    "MC[[3]]"
   ]
  },
  {
   "cell_type": "markdown",
   "id": "forbidden-cornwall",
   "metadata": {},
   "source": [
    "3）\t取出第四列元素"
   ]
  },
  {
   "cell_type": "code",
   "execution_count": 138,
   "id": "equal-folder",
   "metadata": {},
   "outputs": [
    {
     "data": {
      "text/html": [
       "<div><pre style=\"&#102;&#111;&#110;&#116;&#45;&#102;&#97;&#109;&#105;&#108;&#121;&#58;&#32;&#34;&#67;&#111;&#117;&#114;&#105;&#101;&#114;&#32;&#78;&#101;&#119;&#34;&#44;&#67;&#111;&#117;&#114;&#105;&#101;&#114;&#44;&#109;&#111;&#110;&#111;&#115;&#112;&#97;&#99;&#101;&#59;\">&#123;&#52;&#44;&#32;&#45;&#52;&#44;&#32;&#52;&#44;&#32;&#52;&#125;</pre></div>"
      ],
      "text/plain": [
       "{4, -4, 4, 4}"
      ]
     },
     "execution_count": 138,
     "metadata": {
      "text/html": [],
      "text/plain": []
     },
     "output_type": "execute_result"
    }
   ],
   "source": [
    "Transpose[MC][[4]]"
   ]
  },
  {
   "cell_type": "markdown",
   "id": "narrow-courage",
   "metadata": {},
   "source": [
    "4）\t取出由2、4行和1，3，5列组成的子阵"
   ]
  },
  {
   "cell_type": "code",
   "execution_count": 140,
   "id": "physical-farmer",
   "metadata": {},
   "outputs": [
    {
     "data": {
      "text/html": [
       "<div><img alt=\"Output\" src=\"data:image/png;base64,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\"></div>"
      ],
      "text/plain": [
       "-1   3    5\n",
       "\n",
       "1    3    -5"
      ]
     },
     "execution_count": 140,
     "metadata": {
      "text/html": [],
      "text/plain": []
     },
     "output_type": "execute_result"
    }
   ],
   "source": [
    "MC[[{2,4},{1,3,5}]] // MatrixForm"
   ]
  },
  {
   "cell_type": "markdown",
   "id": "dress-statistics",
   "metadata": {},
   "source": [
    "5）\t取出1到3行，2到4列组成的子阵"
   ]
  },
  {
   "cell_type": "code",
   "execution_count": 209,
   "id": "million-pricing",
   "metadata": {},
   "outputs": [
    {
     "data": {
      "text/html": [
       "<div><img alt=\"Output\" src=\"data:image/png;base64,iVBORw0KGgoAAAANSUhEUgAAAKAAAABhCAIAAADeGT1rAAAA0HpUWHRSYXcgcHJvZmlsZSB0eXBlIGV4aWYAAHjabU9BjgMhDLvzin0CScCB5zAdKvUH+/w1Q1bVVLVEbEwSkjR/X8/0s6CSU6ne0IFMlF66DoqWNzZL7le8MOKJ95ufEEIGrfp+wAz/uPuOzdo+GmXdwtYP1FaiIBqZbl9ilCPydbR2b/S/RqC/R/96L+aKCvHCWDS7o1O3RElC1VwdTzwAJgpOzeVBnnBnGXxl2FiFCzr9nj0TjMa5VrB1xAbZGM2EpRKOMyqHOajb5ax1/gBR91q2JEEqZAAAAAlwSFlzAAAWJQAAFiUBSVIk8AAAADx0RVh0U29mdHdhcmUAQ3JlYXRlZCB3aXRoIHRoZSBXb2xmcmFtIExhbmd1YWdlIDogd3d3LndvbGZyYW0uY29tXKKmhQAAACF0RVh0Q3JlYXRpb24gVGltZQAyMDIxOjAzOjMxIDExOjA3OjI3W8UeVwAAB1pJREFUeJztnT9s2kocx4+nNzCyha0MUKEqUtmCjqHeGljC9JItTPaIM1RtpUpRpS5Vh8KIl7Zj39JkeHY3lAGXTs1Qtai2RDrFG9mSTn4DxgngO2Nyf9zrfaYIn/j94q/vd3e2v1zG930gEZe/eCcgoYsUWHDICuxaWq2WmVGraZZL9PuRcV1Lq81H7jIKvSqWFibXZZqZTwqnA6O+H6omsRDJIgPYcWiHXhVT5ZUWKYGD/wCqHSdI3wn/KdoSOx0VqqYTnjbHMVWYJolnJwfCNAr85cuXZrMZ/02mqi5mPuta9DvxEkFoDpGXCORVzSAnEgJfXl5WKpXLy8vYlvFj8PPnzw8PD2ObgXqv1y7Of1S8uwkAAODrj3SNhyxxuy8MAIBq9uoEvzWbzbbb7adPn8a2jBH49PQUAFCpVMjkxQ7nmw0AgPdKfNNwu/u6TVxeAAAArVZrOBx6nhfTDt/BFUUZj8frFhJOJXo2BHMfgRfGCYIlesqHDx90Xce3wQnc7/f39vbWj89U35vzVAAA7Ji851dL0wDiAvu+Xy6Xz8/PMQ1wJfr9+/c7OzuJa0eApZV0GwAAO4+Il6d4bL2xr7FdcM5DsTjfpNlsHh0d4VpgxC8UCpPJZK0LK1ya8pjGOo45C8+rSkdO4mn04H6/rygKpgFS4H6/v729vVbQcAXMdRAMVyfsQyOUpCGw7/v5fB5TpZEC67r++vXrNeKF6vJeg04T4XCRoe6sLULoBLVarTdv3qCOIsfg4XCoKMpKid7A0jINY6rugO7gE4v74ysAAGzeLca1/M25f//+58+fkYdRyudyuVVulNxkdoMwFfePKNXD20ApJcuyqtUq6mi0wOPxuFAoJAqTHnWd63vR/JO5CSWBx+NxLpdDHY0WGH9RRBA77FA80wsr4BCocl8Kz0OvqAAAUOU2egw+OzvL5/N4yVILhFDtmI4/6NVFH35nFAqFs7OzyEN/R37qeV4ul0sQodge+O3kiRGh3vP9HqfYiaB6kjzPK5fLy58jZ9HZbJZWLhLSYMpttMA/f/7c2Niglo+EMNlsFlWi5Ut3giMFFhwpsOBEC3xxcZFsFi1JK1JgwZElWnCkwIIjBRYcKbDgSIEFRwosOFJgwZECC44UWHCkw58/dM3/kS/yKIqCedU2GunwXw8S5n+MXqR6cOBEWnb420ZDswgFQbIZ6fC39X2e7qSVsLTpe+RwtXfl1yDpFYFEOvyTQ8r8z6AHS4d/cuiY/xcQdRadEoc/Bkb+UqoCB/Yg1v4g19JqDQMA2Hm3WFNSAyN5Ue9Fk8H9718bAADUJgMb2sz2FgA75rt2al98ZyYvzR78hzv8MTCUl5rAbrc27U+qOWBTJuu9cOIYOPxtQy8x/tnAVWAqL50S7V53XoeHSbhYrLcH/l0t0zBs/ZXVppuD62KuoWJx4eoO5GVX1sgLbGml0APOc45Tb6rAMMDXHy6gOBa73VevvqEP33s0v3acTUtsvZTRl5uHH6umT+iyJCzwH+fwL7Z76Ta+kRyDg9UJAPzVDftKylbCxfYg8n7T4p0scqePmMCWVmsYNiBZXdbEdV1Lq01nAeqz1K6EGUFIYLf7wrCnfxqNTAQUHzhcP22bUiqVGoY9dfhzLyTcoXmjgxMQws1/nj1K720OphASWDr8bwe98yfqwwZJgBRYcKTAgiMFFhwpsOBIgQVHCiw4UmDBkQILjhRYcKTAgiMFFhwpsOBIgQVHCiw4UmDBiRYYswcAFl4Of1xKKTH/07XxoyHXg91uLVNqGLYdfmLbRqNUo2//xia1X2oY9nxSeoO54yHweXNADIc/hjSY/+nb+DFEvqbbarUODw+TuczT5fDHwNr8T8rGjyGxwz+bzf769SvZlSId/pEwsfED9C450QJvbGzEbw7/u8LS/M/ISuh5HmpnHWQPJhGXk8MfA1vzPzOn6NXVVbIevO4yaR6mDn8MN6wPpYZhw47psPA9MjQCX1xcIPfGihyZP336VC6Xbzfwp2Ib8LlMroFL80HiREzlKE2yJpMJSkcftfvoZDLJ5/O3CBr++Fy6JtAz8z/1Cy9ypk5J4O/fv2P2Ao62rky3XMEM3VhoOfyTeekRrViY/9na+EejUaVSQR1FepOq1erp6en29nbSeLQc/gm99Dgom/8Z2/hHo1HkvqNTkAJvbW2dnJwkFZiiw5+gl56N+Z8VJycnjx8/Rh5G1e7xeJx0npXOjdWXoXdHiX3cyWSCGYB9zG9VFgqFXC43Go1WvI7S4/DHIJ75/+PHj/gqi3vYsLOzc3R0tFIcng5/DOKb/4+Pj3d3dzENcAK3Wq3j42PSKfEEQqh2TMcf9ISw/3ueNxwOFUXBtMn4vo85fHBw8ODBg2azSTg1CQkODg62trb29vZwjfBj+Pn5ebVaJTcnkBBjRWliHvjn8/mHDx++ffuW4HUnIcLLly9xq6MZ8W90PHny5OrqikRKEpLcuXNnlaEzZgyW/O7I12YFRwosOFJgwZECC87/1bJ6BpwWJz0AAAAASUVORK5CYII=\"></div>"
      ],
      "text/plain": [
       "2    3    4\n",
       "\n",
       "2    3    -4\n",
       "\n",
       "2    -3   4"
      ]
     },
     "execution_count": 209,
     "metadata": {
      "text/html": [],
      "text/plain": []
     },
     "output_type": "execute_result"
    }
   ],
   "source": [
    "MC[[Range[1,3],Range[2,4]]] // MatrixForm"
   ]
  },
  {
   "cell_type": "code",
   "execution_count": null,
   "id": "classical-employee",
   "metadata": {},
   "outputs": [],
   "source": []
  }
 ],
 "metadata": {
  "kernelspec": {
   "display_name": "Wolfram",
   "language": "Wolfram Language",
   "name": "wolframlanguage12.2"
  },
  "language_info": {
   "codemirror_mode": "mathematica",
   "file_extension": ".m",
   "mimetype": "application/vnd.wolfram.m",
   "name": "Wolfram Language",
   "pygments_lexer": "mathematica",
   "version": "12.0"
  }
 },
 "nbformat": 4,
 "nbformat_minor": 5
}
