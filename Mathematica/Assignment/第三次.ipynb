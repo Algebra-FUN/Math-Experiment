{
 "cells": [
  {
   "cell_type": "markdown",
   "id": "psychological-infection",
   "metadata": {},
   "source": [
    "<center><h1>第三次</h1></center>\n",
    "<center>3018233061 樊一飞</center>"
   ]
  },
  {
   "cell_type": "markdown",
   "id": "economic-scope",
   "metadata": {},
   "source": [
    "## 1.求下列级数的和"
   ]
  },
  {
   "cell_type": "code",
   "execution_count": 1,
   "id": "chicken-beauty",
   "metadata": {},
   "outputs": [
    {
     "data": {
      "text/html": [
       "<div><img alt=\"Output\" src=\"data:image/png;base64,iVBORw0KGgoAAAANSUhEUgAAACQAAABDCAIAAAB7kzAtAAAA0HpUWHRSYXcgcHJvZmlsZSB0eXBlIGV4aWYAAHjabVBbDgMhCPz3FD0CAg56HLfrJr1Bj19caZttOokwDC81jefjSLcJzpS0WEUDyKFNG3cnlRaWz9ROe4I1cvmqJ5XQu0vlm8AIfbvqhhhYfwYRLyJzg3OJjRaDhJee+4q3qOde63XQ+xmBRp+r/41VjFGQTd0qkxma85qcukNhKoYDd8ALM3YmvbsfMPM22KyQPhsneNi1eiSIC/t8gsyTpbsXtyy+z3k7leq2CHgLTvNr0wsTs1qXxfiHrwAAAAlwSFlzAAAWJQAAFiUBSVIk8AAAADx0RVh0U29mdHdhcmUAQ3JlYXRlZCB3aXRoIHRoZSBXb2xmcmFtIExhbmd1YWdlIDogd3d3LndvbGZyYW0uY29tXKKmhQAAACF0RVh0Q3JlYXRpb24gVGltZQAyMDIxOjAzOjI0IDA5OjA4OjU24wLyLQAAAfJJREFUWIXtmDtywyAQhteZHEV24fEJ0Ak8blK5lSvU2kW6lOnSoNZHSOUmcAPVLjQuDHchhWTFeoAWQ1zxdwjBNwu7C+xMaw3P0svTSGFgqkhnrdJCWX7VfpKMAGGyaXEKcNfsyxc2wjbT/mPPyosc7wgMk5cSgCznhu6Qi8gpAADlpv5wsJpkQQWDSUamSIFgOFIIGJo0CmtGT6qevtmpngyRZrVMMtIZ1m+7yhZn6ucbtpukE0WrRWIeMCUbrD+3ulbmePWEidORvq0t8ICwgR3ehsGrqUN87WErfezAw8TpSD90n+W3ioZlVMVnxd7Xg+/V1XYOT2skujgdj0rTd7T6MMmIOfdIRnB5CQMz2tSKU58cMtPx3hhhERZhEdZX5/A8HA7n8znU1FmW7Xa7+y8xEUdYhEXY02BKiSJP07/KWC5chuOvmJLR4Wvb6YKMhbXPekIZlw/eiXGwBuX3rEDC6vqDLwoHm6p/oYXwRnWtwFbXwwsBk5cSAFYLEEWe3peD80I4PkQnbbeXl5w20iGou04vOSUAUO4za737MctG/MM5IKYtSxYrgNFCQbLZErDUnwdCLON8aZqydh0HIaw3VX8RVeGuUBnk5pCE8dv2NP7h5o7IRGzyf8pdUhj+iJGcUdIiCaHMCaR1rIME0i8E1fe70LZUfgAAAABJRU5ErkJggg==\"></div>"
      ],
      "text/plain": [
       "  2\n",
       "Pi\n",
       "---\n",
       " 6"
      ]
     },
     "execution_count": 1,
     "metadata": {
      "text/html": [],
      "text/plain": []
     },
     "output_type": "execute_result"
    }
   ],
   "source": [
    "Sum[1/n^2,{n,1,Infinity}]"
   ]
  },
  {
   "cell_type": "code",
   "execution_count": 4,
   "id": "manufactured-imperial",
   "metadata": {},
   "outputs": [
    {
     "ename": "Power::infy",
     "evalue": "                    1\nInfinite expression - encountered.\n                    0",
     "output_type": "error",
     "traceback": [
      "\u001b[0;31m                                 1\nPower::infy: Infinite expression - encountered.\n                                 0\u001b[0m"
     ]
    },
    {
     "data": {
      "text/html": [
       "<div><img alt=\"Output\" src=\"data:image/png;base64,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\"></div>"
      ],
      "text/plain": [
       "       1\n",
       "Sum[--------, {n, 1, Infinity}]\n",
       "    n Log[n]"
      ]
     },
     "execution_count": 4,
     "metadata": {
      "text/html": [],
      "text/plain": []
     },
     "output_type": "execute_result"
    }
   ],
   "source": [
    "Sum[1/(n Log[n]),{n,1,Infinity}]"
   ]
  },
  {
   "cell_type": "code",
   "execution_count": 5,
   "id": "alive-research",
   "metadata": {},
   "outputs": [
    {
     "data": {
      "text/html": [
       "<div><img alt=\"Output\" src=\"data:image/png;base64,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\"></div>"
      ],
      "text/plain": [
       "       2\n",
       "  2 + x\n",
       "----------\n",
       "       2 2\n",
       "(-2 + x )"
      ]
     },
     "execution_count": 5,
     "metadata": {
      "text/html": [],
      "text/plain": []
     },
     "output_type": "execute_result"
    }
   ],
   "source": [
    "Sum[(2n-1)/2^n x^(2(n-1)),{n,1,Infinity}]"
   ]
  },
  {
   "cell_type": "code",
   "execution_count": 7,
   "id": "matched-restaurant",
   "metadata": {},
   "outputs": [
    {
     "data": {
      "text/html": [
       "<div><img alt=\"Output\" src=\"data:image/png;base64,iVBORw0KGgoAAAANSUhEUgAAAH4AAABGCAIAAACFaLcfAAAAznpUWHRSYXcgcHJvZmlsZSB0eXBlIGV4aWYAAHjabU9tDkIhDPvPKTzCvtjgODzFxBt4fMsDNRibsJWuYyz15+OeLgPClCxH8epOgFWr0kAKTczMVM94Ivqq8a4n86U3SPlb8NXAx67H8kv5eYhkEh0TwNX2ySpT5zbvx/JLK2V/6L3GQqXP1//eTUM8O4chmlCEV/CSQJE8C+Xwu1/dYWS/CdkVuXsE2jyGQ9toHJAeu7snVwi3sYKOw9qQFVEU88ArOJ961iIHlHJ6xjovZvxazHjQJoIAAAAJcEhZcwAAFiUAABYlAUlSJPAAAAA8dEVYdFNvZnR3YXJlAENyZWF0ZWQgd2l0aCB0aGUgV29sZnJhbSBMYW5ndWFnZSA6IHd3dy53b2xmcmFtLmNvbVyipoUAAAAhdEVYdENyZWF0aW9uIFRpbWUAMjAyMTowMzoyNCAwOToxMTo1OETSuRAAAAPdSURBVHic7ZwxdqMwEECHfXsUs0VeTgCNW3ubrdJuJ8rQpEu5nRtRmirbpkoTcQJzgrw0UpGbaAsHYicQBixpiHd+CX5IfMQgwYwjay0wFHyj7sD/C6snY37qTZWlURRFUVoY6r54ZU7qTVVkaRSvy5q6J0GYiXpTFVkar/OyToSSgro7QZiHevP4Jy9rSITSu+3qB3V3wjAP9YufV0JIvduuFuEbN8X+2RJlFXqPE+z8UPuAk0gdqEEtk70MoTq2+urHGapX4lghho/ymy2jD4VmHgGHnMX1bn/By3VWAYApfuc1AAi1Xflqk9U3rLat/CKL8xogkdqfeFZ/SCs/LwEgkX+vvT70v/s4qDGfrEMXCw8n9KHFww34Flc3MinzGgBA3PoV70W9KTab5/7dFzdb1yd13OLTE8DTZnM5vsUmwgMAlOvsl/UZb85xcjllhmNtO6dJpH7tgMfZjbU8w2lp5zS314uDJ66XtdQeVg8AANV+TtNOJt/ke3x/6vOWwtMuaboZFXvGB5zuANNsPfPVrEv1Wis95uedbxGstb7lR5a/zRLBsZ4MVk8GqyeD1ZPB6slg9WSwejJYPRmsngxWT8bRp5K7u7uXlxeinpw5y+VyuVwebuFRTwa/PiODRz0ZrJ4MVk8GqyeD1ZPB6slg9WSwese0lSiDRZCs3iWmSOP7qyZzRIk6j/vt82rWI6ZI4xyk3nVm2/Ko9039rLt3jFJviqJymoFoqix9C41pmrk9vCtMNe289XMNkFzEPbvxiWpaJi6znnty/Zy24Qwlxif/7dMG+08HrV7LxKWVJodeyCY/ss1q95zWPg0lkrE5t0OnglWvhOukTyXE+wP6L5icjpYJul+v5zHwc5z6Me2eQphi5f7c4k+yjtGjD+fdItUrEWgkhqoTn1YeruVg0EF7tzj1wcxPDDjBysMHb37V+Z8mPdcLoX7u5qfWrR3VkuDaRox7PMPqA8f5CdFmasngm3yJDXQuZxvD6t3PbTr49Pk2xGT1xxEC+wx1NQ5RJcuXPwYqfk8rDzdN/d6IPyX4iuXh73BRLX5aeXiVxesSABKhul8zDbb4ZcrD3zF4X5xwOw/TBvhTmghYHu4y4KAes55ivRInBPij40w5wvGcBinfpQzc5NLDsHfl3U7r4EfVqBmWSxcI9T5mlwMlyuMuSLjycKejELOa9eDeqfpg5eFu73/cB8Iqix4CP/5niGsLuCsUZF01b5xPN5AfCFc3Eu4fZ/n1LhDVJr90vOhCXyQl5vntLgg+Ztj4z+Kr7S08nPn/mvdRPd67HvKch0MI5+GQwerJ+Aewch8rE3je4AAAAABJRU5ErkJggg==\"></div>"
      ],
      "text/plain": [
       " -1 + x\n",
       "---------\n",
       "        2\n",
       "(-2 + x)"
      ]
     },
     "execution_count": 7,
     "metadata": {
      "text/html": [],
      "text/plain": []
     },
     "output_type": "execute_result"
    }
   ],
   "source": [
    "Sum[n(x-1)^n,{n,1,Infinity}]"
   ]
  },
  {
   "cell_type": "markdown",
   "id": "adaptive-therapist",
   "metadata": {},
   "source": [
    "## 2.求下列函数展开成x0点的幂级数"
   ]
  },
  {
   "cell_type": "code",
   "execution_count": 8,
   "id": "passing-wrong",
   "metadata": {},
   "outputs": [
    {
     "data": {
      "text/html": [
       "<div><img alt=\"Output\" src=\"data:image/png;base64,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\"></div>"
      ],
      "text/plain": [
       "             2       3       4       5       6       7\n",
       "1 + 4 x + 9 x  + 16 x  + 25 x  + 36 x  + 49 x  + O[x]"
      ]
     },
     "execution_count": 8,
     "metadata": {
      "text/html": [],
      "text/plain": []
     },
     "output_type": "execute_result"
    }
   ],
   "source": [
    "Series[(1+x)/(1-x)^3,{x,0,6}]"
   ]
  },
  {
   "cell_type": "code",
   "execution_count": 9,
   "id": "optimum-chile",
   "metadata": {},
   "outputs": [
    {
     "data": {
      "text/html": [
       "<div><img alt=\"Output\" src=\"data:image/png;base64,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\"></div>"
      ],
      "text/plain": [
       "          3    5\n",
       "Pi       x    x        6\n",
       "-- + x - -- + -- + O[x]\n",
       "4        3    5"
      ]
     },
     "execution_count": 9,
     "metadata": {
      "text/html": [],
      "text/plain": []
     },
     "output_type": "execute_result"
    }
   ],
   "source": [
    "Series[ArcTan[(1+x)/(1-x)],{x,0,5}]"
   ]
  },
  {
   "cell_type": "code",
   "execution_count": 10,
   "id": "distant-material",
   "metadata": {},
   "outputs": [
    {
     "data": {
      "text/html": [
       "<div><img alt=\"Output\" src=\"data:image/png;base64,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\"></div>"
      ],
      "text/plain": [
       "           -2            9\n",
       "Log[(1 + x)  ] + O[1 + x]"
      ]
     },
     "execution_count": 10,
     "metadata": {
      "text/html": [],
      "text/plain": []
     },
     "output_type": "execute_result"
    }
   ],
   "source": [
    "Series[Log[1/(1+2x+x^2)],{x,-1,8}]"
   ]
  },
  {
   "cell_type": "markdown",
   "id": "several-correlation",
   "metadata": {},
   "source": [
    "## 3.Fourier级数 展开"
   ]
  },
  {
   "cell_type": "code",
   "execution_count": 32,
   "id": "choice-praise",
   "metadata": {},
   "outputs": [
    {
     "data": {
      "text/html": [
       "<div><img alt=\"Output\" src=\"data:image/png;base64,iVBORw0KGgoAAAANSUhEUgAABecAAADbCAIAAABoeb3jAAAA0HpUWHRSYXcgcHJvZmlsZSB0eXBlIGV4aWYAAHjabU9BDsMgDLvzij0hJODAc+hKpf1gz58pVFOnWSI2xglK6O/XER4DGiWk7AUVECLVVLVRFJmYHKWe9UR3ycu9+WHfpoiNVv4+oC9/u/uOyVp+BolOYeMHakurYQ0ynX5s876tvLZS7oOuNRbqJeL/ezJXZERPrEnFHZW6BEoSskp2HHgCDEbsKulJ7nBnG3wkrI3GAe1+T/cAo7GPFWycaI1srGr8j7pSm+GsVTc65cyMdT7tt1szzluvqAAAAAlwSFlzAAAWJQAAFiUBSVIk8AAAADx0RVh0U29mdHdhcmUAQ3JlYXRlZCB3aXRoIHRoZSBXb2xmcmFtIExhbmd1YWdlIDogd3d3LndvbGZyYW0uY29tXKKmhQAAACF0RVh0Q3JlYXRpb24gVGltZQAyMDIxOjAzOjI0IDA5OjM2OjM5gphF2QAAIABJREFUeJzs3T1sGtn+P/4Pf11p6ZZu6UIkyCLLUuguC8VlqxhSeLZJvBXeZvBWkCLKrhTJGynSV1YKQ5VA47jaOI1xESap4l9h4luZSJbjDSOZVGErs5W5Ff9i8DMP83BmzpmZ96u5dx0ePjBvZs6cOXNOYDAYEAAAAAAAAAAACOb/410AAAAAAAAAAACMgF4bAIAJVFVRFFXlXQb4ByIHbCFR4CTkDdhCogCI0GsDAEJQlUI6EAgEAumKYEfm9rNcLveszbsMYErcvBEi5zaqUkhraQoEAoF0uqCIlikkymMEjxzy5k7iHhaRKAAi9NoAAGeqUimkA7Fcrcm7EvAD5A0YUitamM7T1GzWcrF0QeFYFHgZIgfM4bAI4AbotQEAG+3u7o7/R1WpFNKxXKnWTMmNsuxcVUbEHjYajYcx/U/o9XqHh4f2FQQT9Pv98V++K/JGJiLX6XS63a59BflZt9sd/90qhVipSZSSy+32YDAYDAbthkxE1KzlRDqJNpyoVqvV7/ftKwgmmPjluyJyhvNGU5oKYIk/m2GdTse2egD4QK8NANhld3e3UqmM/Wf1zdNSrUkpudHeqWZvOViYEdFoNpuNRvU/IRgM/vzzzzjn4aJcLo/ttXFH3shE5Hq93q+//mpfQX428YvNVhuyXG7vVIunmyuarbbLKSKiWl2Uc2gTidre3n7x4oV9BcE43W73119/DQaDY/7dFZEznDciWllZabVaNhXkZ/V6fWNjY+w/u+OwaKYZhmMieA96bQDALg8ePFhdXR37z9G797T2Z9ZY805wwWDw0aNHv//+O+9CfKfb7W5tbUmSNPqfPZo3IkokEuFwGOc8zNXr9UgkEg6Hxz4iW60Wr8QpemuWiIj2Pws2N4QBS0tL7969Q9ez81ZWVh49ejTpER6N3PLy8pMnT3hX4UGVSmVSojx6WAwGg3fu3CmXy7wLAWDpX7wLAABvqtfryWRy0gkPRYvVqnMFGaFWCs8OLv1lRnpY1N2sWVhYqFQq3W534scHxqad8IibN7IcueXl5QcPHvz555/sK/OxlZWVzc1N3lWYZCVRwWCwUCi8ePGiVCrZUhyM0u12d3d3J13qEJjFPVgikSCiVqul/R9gol6vz8/P+7MZtrS09MMPPywtLY0fuQbgMhhrAwC2mH7NUGR3JUmSJGlmv7Y/I0kztP/6s7EXePTo0crKij3FwQjaCc/YgTbisxa5cDgcDofr9bpt9fmOjn7nkdTP+0RENHuL88Vra4mSJGljYwPzJTnp119/ff78ufHniRE5ywfN5eXlX375xZ7i/Kjf7z958mRpaYl3IWZZS1QwGMzn87jTE7wEvTYAwN729nY8HnfvSJNoNJvNZrPZW7M0eyubvTtj+BUkSarX67jFwDEvXrwoFAq8qzDPeuQKhUJV1KumbrSyslIsFg0/TX3zuklEJEtZ5iUZYj1R+Xz+5cuX7CuDUbrd7uHhoZmRJmJEznretDs9MS0xK1q/s3tHmlhP1NLS0vr6ug2lAfCBXhsAYG9jY+POnTu8q+Bsbm4OYx8cM2lGG3+Ix+PdbrfX6/EuxAu09UcikYjB5w2X+KFU+SHnThsGJEna2triXYVf1Ov1+/fvG3+epyI3Pz+PyLGytbVlKlHeEQwG4/E4+gHBM9BrAwDsvX371uen0IQGqIMODw9DoVAoFOJdCGfoKGTl1atXxvud1Uo6VyMikhs7VyeMdSNtsCQW0HXGxsbG3NycwSd5LXKSJL169Yp3FV7Q7/d3d3czmQzvQjhDMwy8BL02AMCYdnuUe8flspLJZLa3t3GTlANevXrl84uKmvn5+UmLvIJuW1tbCwsLRp6hno95aFfdP+hhaH5+HmfRDuh2u51OJ5lMGnmSByOnzc+FwRHW1et1452AHoQrGeAl6LUBAMa2trbm5+d5V8FfMBhMJpNv377lXYj3bW1toYVKRMlkstVqoaPQok6n0+124/G4/qcohViuRkQpj4x5ODU3N/fu3TveVXjf27dvjQ6L8Grk7ty5g4Omde/evUMzjIhCoVA4HG61WrwLAWAAvTYupCqVQkXlXQU4x21bfHd3F4t3auLx+H//+1/eVRjnqsj1+/1Op2N8ChJvikQih4eHvKu4xlWJMrr8sFIInJ0/e2TMw6l4PO7KEx5X5Y2IPn78+O9//1v/4z0cuUQi8fHjR95VXOO2RLVaLRwTNYlEwpWjt9wWOXAAem3c6PPr2kGbdxHgIJdtcZMLYXjR7du3RTiFVivpwJm0nnaAmyJ3eHhoaFiEtznQQjUeJ3JXolqtlv5EKYXzmUU8dv5MRMFgMBwOc96JKYXARZ7bg5HBjkJvR86J6WO9nijtSgYOi5rvv//+r7/+4l2FZpg8fYdNN0UOnPEv3gWAcdHieps8NB4WpnHVFu92u8FgEJPaaEQY+KBW0rHX99qDnSiRdo02lqb25DH1rorc4eEhLiqe+e677758+WLf65uJE7ksUV++fNE58EEppHO1JhHJjYH3zp814XCY8xlgtjoYnC1pr1bSMY/twYjo8PBQm/t5Ks9HLhKJdLvdfr9vYyvC64nqdDqYm/9MJBIRZEJipaB1t+rjqsiBMzDWxpWiU37HWm/uxc7c638BN5m2xUmcjd7tdnU3Fy5dsx8ezZqlmNGr+ALTGqB8a4gWdwbn7dHsw3KKmq/fTPtqXbST0d1C9X7eyP6OQnNxIrclSlc/oFp5Wmtq/7eWC4xQUGyt0xkidD1fEC0+llnswUicyPX7/W63i8hptOFdDh43WSVKlDiR/j0YkR8Oi6FQSIiF8NTK0xrJjYas+xkuihw4ZADu0SinzsmNSQ9tl1NElCq3tSfKF/4D3MPAFh+IstE3NzczmYy+x2oVj8UtsleOqqnU5TKnbolLiOj4+NiuUo3TvvRxn8GNO5nFxcXl5WUdDxQ1bwOWkdvc3EwkEjaWetnkOA3cmahIJLK3tzf9cVMCZXRXwRS7RJVKpVKpZGOpBrXLqQn1u/Ggube3FwqFdD1U2MgxPWgmEon379/bVOl1zBIlRpwGg8Hq6qokSfoeK+phkV2ijo6OiP/Z7lnKGvK0b9WNkQNncM8xGNUuy+X2oCFP3WU1ZDrfReB37F66t/hAiI2+tramu7ngC0R0dHTEu4pzOqLhsp2MJEmrq6tc3lpA79+/j0Qijr2dvi3vskSFQiGhfrN8LS8vLy4u8q7iVLucmh4Mlx00Hf7Nii+TyWxubjr0ZmwTJUCcBqL9Znk7Pj4m3hfPLvQMTu+1GT7DVZEDZ/j2DilVVRRF9fQYsmy1IVMtFwjkauSxlSFt4YlICLDR+/0+bqi+KBKJCLQSs3ZftfyYTTQEyBsR9Xo9RO5MKBRyLm9s40QCJYrL+4rJ0USNc3YbR6zUTJXXGQZDgMjhoHmd7b9BmxIlQJyI6H//+x8SdUb7Krju1ZVnpWaq/NCWeajEiBw4Y2qvjVqpKExPZFWlkD6/iTKdLrB9eb3az3K53LNpk3OrCuNPP/ndRrD0gtmqNsTQrn2FEROChEiwxH2jG5nXxi/svkVf765juFqs3GA3iSX3vBHOeS4LhUIOTQlhQ5xIgERpPRRI1BkHEjV9DxYt7pxebGzfex1jOn8L98jhoHlFMBi0vaPQtkRxjxMRdbvdb7/9lte7C8juRE3egymFXI1tX/NlIkQOnDGl10at5A9uZZkFTa2kA7Fcrdk8+0uzWcvF0sJOnxbN3qrnnZrVSW2PYKnfRinkailZTjVLjn2IMcYGCZFgTYSNjuaCs/TtOtRKWjvHZrrwiAh5wzkPB/bEiQRIlNZDgUQ5yFjjJ1pcL6eoVmfWSOAeObjC2dmIGScKcRKQzYmauAezu88GkfOTiSt/q5X869nHO6zeSynESk2ilFxef1iMRolIVQqxXI2atVxBcngJw9jDRkOKxaY+LivNPs1X7jox5iyaZdc/RsNGdarcrhZpZj9WcuhDjCllTJAQCcYE2ujgHB27DrWSjpWarM+xkTefsidOhET5lNHGT/ugSal70w/WeiBywDBRiJMvTdqDKfUaEZVigdLFv5ZigRKlylOWm9cDkfOVSWNtlGclusdwuFW22pDlcnunWjxdzCyarQ5nL2d42USfaDSbzepYGZKyD+9R6ZmoIz/GUiv5UnM43UC0uF5ONUsxXuNXxgcJkWBKpI0OArHpHBt58yfbumyQKNBDKeRqrOZSQuSAYaIQJ7gmW70yn+z5bMQMulcQOb8ZO09xu5xyZAnB4eJuIk973ZCFKK/dKMuyLMupVEqWU6lUSpZlWR5V2LDf4+LmG37NHBaFNB4kRGJI/xYfCLTRl5aW9C3D7BeRSMTJRUyvu7KA5tDIALtzJ8P9GxaK3aucGojTwJWJEmOZWIGsra1lMhmOBVxdmnhCINx50Py///u/hYUFR99SbIuLi7a2ImxJlDBxGgwGc3Nzz58/d/pdBSZSI2HaGlLujBw4IzAYDEb25iiFQI7YX0sb/UY1YjNQbBq1Unh2cOkvM9LD4vShuWolnad1K/WpSuVN/eBAe0vpLtt7oYRmIkiIhKv98ssvN27c+OOPP3gXIoqbN29qpz2mnu3ZnDBk7Rv2mk6nc/PmzXFH9mmQN4tfoAe9fPlyfX39/fv3pp6NRE33xx9/fPnyZW1tjXchorDWikDk6Mcff8zn84uLi7wLEYWFRgLiBAIZd4eUUq+RLDkwrYj6eZ+IiGZvOfFDuCtJkiRJM/u1/RlJmqH915/1PC161/wtMapSSQcC+aevX9dqtX2amaH603wgXfDJlFEmgoRI8KQUWK7NwYsnPoXQOWHFE1vKG3yRN7fwxO8CiQKHeSFynvjtE3nhg3ghTnq4f0v5yJjZiJV6jeSGE502b143iciZHiKKRofzltRp9lY2G/v89LXOJ969l3r9WSXDfaxKIZajRrv9OR97XW4PtKEZxeJDpZKPpcmBsSScmQgSImHwBcGTkBNwEvIGbCFR4DBEDhhCnEBAo8faqJ/3HTlpHi4h5II15qO3Zpuv3xjtX1UKuf1yuxp7ky/NNi7+xKPZ4k5j1vtrtBkPEiLh8UiALsgJOAl5A7aQKHAYIgcMIU4gpNFjbdoHzdQMm1UVx1Mr6VyNiEhuuKDPMjaTah60iQwUqlae1uTHg6haed2UH1/rg8hKcu7pG7Uo/mc3z2CQEAnvR+JMvV5vtVpTH5ZIJCRJcqAeTafTefnypf7H2zN9D3JiC50ba3FxMRKJ2FvKBdvb29vb2zofHIlEbJiqAHkzQ/++wuFJvsrlcq/X0/lgSZISiQTrEpAoW+jcV9izlxir1+uVy2X9jy+VSqFQiHUViJwZL1++7HQ6Ux+WyWScnDau1WrV63WdDw6FQqVSafrjjEGcQFBj7pDSMamIqk7oaIxOW0BZPR9T0dY7Ua21d3Re+6ApS1ki5aCZmhlV/Uxq1NP4Yv4l656dBpEgXpG4VsjFPwj4NY7mjU9BRMLmhBXPbCm37X/GcX3evLEhPPO78ECipvJo5C5yzacgIrdHzjO/fa98EHfHSQ+vbCnfGdtrM4VaeXZl6Z1LZh5WJ/VBKoVYrkZEKQNjKqy9Iwfq530iafi/+/VRxc/ec24QgS78vmREQsMhEpe/xv19ov1nz2bP/mDX16jNAs3s5Rh9ikgkwn/1KzFzwgqnvBHzIQ+M9j8OX8Ycwe1543QgYLyvYPe7sOHKs0FuT9RUnCLHeF/B6FOEQiEcNC3hd0xkPCaL0QdJJBI2DAA0wtVx0oNf5MAis7020WK1avKpw3WdKSU3dgysB23hHfmI3pqlg+H/uuU3wOlLRiR4uvw1KoVaXaoaWahdDN74FBoxc8KKZ7aU6/Y/47g9b97YEJ75XZD7EzWVFyPnbq6OnGd++975IG6Okx6e2VL+M3o24thMav+zLTMtKYXzmUvcFhGjU/1kJbn2tKKezX/iQ3qChEgAXIacgJOQN2ALiQKHIXLAEOIEghrdaxO9NWtHUJVCOldrEpHcGLjt/Lx90NQ9Q8uprCQ3S/kK3X2s/f79Z2qQEAmA65ATcBLyBmwhUeAwRA4YQpxATKN7bSg2k6rVFbZvpVae1pra/63lAiMUGL8hS0q9ZmIp9Gy1XaZSLP9ZKs+WYgXlwi9fVZVCOp32+s5gcpAQCR9GAvRATsBJyBuwhUSBwxA5YAhxAjENRmuXUyQ3xvyjOe3ylDm3Gb/fNQ350tulUindb9+QzVfXbpTl1Pmbytr7plJyo902+ZIuMjFIiIR4kWi3rRaxuLi4vLzMphqzrH8KhiKRyPv37008UeScsMJkS5n+hj3p6Oho/JF9Ej/kTQ/TXyBDQu3B1tbWMpmMiSciUTotLy8vLi7yrkIgplsRHogck99+JpNZW1tjUI0FQu3EzDUSPBAnPYTaUjBZYDAYjD5hVgqBuuS6u1bsweK7UFWlrd0rFItl/bSqmjeDhEiM9csvv9y4cYP/ohLCuHnzpnbaY/L5Hs0JQ1a/YW/pdDo3b94ce2Sfyvd5s/oFes7Lly/X19ffv39v8vm+T9RUf/zxx5cvX9bW1ngXIgqrrQjfR+7HH3/M5/OMl4hyM0uNBN/HCcQxfg2prCTnnlYeZj03d7ZhauXpfnnd6lz70ahPf+xeDBIiAc5BTsBJyBuwhUSBwxA5YAhxAmGMmdeGiCj7sEyv3+DGPeVZafaxl7ocnOa9ICESkwSDQd4lAAAAuEMwGOz3+7yrAO9AogA8aUKvDUWLj2dfPxN4PlgnqJWn++WHHru9x2EeCxIiMdl3333HuwQAAAB3CIfD3W6XdxXgHUgUgCdN6rUhylYfU93X82Qrb15jVIV1XgoSIsGcqhTS6bOFw9LpS9P18yRsYWCFyJtV5NpgHFWpFC5stUJFlK02XOzkYqCEqQ2sEDNyyJt7XT70BNICHnyUwll1HjmdADBqcq8NUbZa9fUJara447V5dPnwTpAQCabUSjoQy9WazbO/NJu1XCzNfdF3YQsDK0TerCLXBuOoSiEdy5VqF7ZarSTGVlMr+Viu1rwcqFIuhlMedxM1csibW10/9FCz2azlYiJ1jyiFXI13DQC8Teu1AQAw6O+//9b3QKUQKzWJUnL5dN3BtrYae7OW49oEFbYwGEH3aHCRN6vItflLOBwmIn2JUiv5XK1JlCo3zrZaOUWibLXZS0vUttsNOUVEzVJenHMxMEjkyDHLW7fb1X6GYD+1ki816WKizjJFzZIgkxsM+2y0pbdNQKLAG9BrAwAshcNh3dPgZasNWS63d6rF0xn6o9lqW2su1OocWwuMC0NzwVa6Z14UNm/EsLZer4e8WaHNp64rUcqzUpOI5MZOMXu21Yo7Wndb7SnnvpFosbpTvbD4STSara5rJ/gHbQOvg0TZLRwO93o9XQ8VOHKs8kZE/X4fyxpYEQ6H//nnH10PVd+81vps1s8SdTFT+58F6OEd9tnIjfV7Jl8BiQJvQK8NALAUDAb1NkBp5K1z0VuzRMS7tcCusE6ng+aCrQyc8wibN2JWW6/XQ94s0tlJodRrRJS6Njl99qF2ruqRtRORKLvpP2j6JHKESx3WfPPNNwaaYUREs7eEncNArTzV+mzMTk6gfRVIFHgAem0AgKVQKGSwueB9oVCIdwlehshd1Ov1kDeL9J1Fq5/3iUae7gx72wwPMbBf+6BJRKmZmIHn/PPPP0iUrXTvwVwXOTN5I3QUWmbgmBi9ey9FRFfvrxt2laTu3eXcmzO8gct8n81prw0SBR6AXhsAYCkSiVhbcnLYMBXv2o+ZwjqdTigUwjmPrW7cuKF7KqXrhM0bmaut1+vF43G7KvIHQzuxUQOhYjMmp1+wk6oU0rmadi+Ekaz3er3vv//etrKA4vG4oX5nd0TObN6IqNvtRiIRW6ryByOJihYfy1q/zXAxMlWpFNLaNGvGNx1jDPpsiLrdLo6J4A3otQEAlnRPDTvG8C5rkiXBluoyVRjmwHOApY5CYfNGJmvrdDo44bEoEol0Op1pjzod3iD0XSnnq+UGYrlaM1VutHcMnoghUXYLBoPhcNgTkWOQt36/j14bi/TtwU5lqzvtspwaLkYW0BYoS8nGNx1rTPps0AkIHoJeGwBgSeukMHvHynAlnRE37nNmsrBOp4OLPHaLx+Nme22EzRuZru3vv//GyAiLbty48eXLl6kPO51MpJQvKGdn0aqqVAraoiwCapZy+YLBKWtxpdoBOndiboucmbyhl9C6SCRisA12a2b26mCtzwwLMoNRnw32YOAh6LUBAMbi8fjh4aHx56mVdK5GpC2QIdLtKuYL+/jx4+3bt+2pCoY8lzeyUlur1UokEvZU5ReJREJXoqLF9dNFl2NnIwy0K9WiyFYHF1ZiLmvX02Np3SfSGPjgjEQisbu7O/1xokfOat6I6PDwEHswi4LBYCQS0XtYVCvp8/E1g9MF22ulWIDjWvLM+myI/vrrLzTDwBvQawMAjCWTSV0N0EvU86EFbeuHaYYsFYYGqAO0FqqBAeFEAueNLNaG4V3WJRKJVqul55HR4k67UZbPr1KnUim53GiUU2RiElZ7RaPZ4s6gIRNRs/RM5+kY9mDOuH379sePH/U80jWRM5U3Imq1WjjHtk5v1/OFQZ3tnWo2StFsdWeg9dxQLWeow42dYZ8Nm0GwuJIB3jEAAGDq/fv3mUzG0FMasrZDSskNm4oyyUphJycnoVDo5OTEhrrgkuXl5efPn+t/vLB5G1ir7f379wsLCzYU5TvJZPLTp09mn61tQwHDNTitLVVu63q00V8WmPP169dwOGzhBYSNnLG8Daz+9GDozz//XFxcnP644fHm2gZql1Oj/8EJp28+jY68Hx8fx+NxB2oGcADG2gAAY5lMptPp6L+tWikEcjUiSsmNHaGGPVgsbHt7e25uDutNOmBhYWFjY0Png4XNG1mu7d27d/Pz8+zL8p/5+flXr16ZfLJSr5GYE1xPWjx6pHfv3kmSZGtFQEThcDgejxsfo3pK2MgZzJvWcsBoQeskSXr79u3Uhw23z/UVvocrggu3mLxR9XodezDwDPTaAAB7c3NzeloMRDRcHZRItFNo64VtbGzgFNoZ2lyeeqbzFDZvxKI2tFBZWVxc1N8PeMlwSiIRJ7ims3XJ9N1J0+l0tOWN7K4KiOj+/ftbW1tmnilw5AzljYjevn17//59W0vyiWAwmMlktre3dT16RN9M+6BJxOmmu2hxZ+RAg+EYnLPxPzoOk7iSAV6CXhsAYE9nA1QppHO1JhHJDT3HX+cwKWx7exun0I65f/9+vV6f/Bhh80YsatOmIMHYLibC4XA4HDYyy7WqqkqlkA7EtDk0xZvgWlWVQlqbwkJ+rKs6nEI7SZKkqXuwy4SOnIm8EdHGxsbCwoKthfnH/Pz81K7n0yE1tVy6cmFZMuV0Ovzrg3DcpN/vt1qtZDLJuxAARhy8GwsAfCSZTH79+nXSI6beu8zrJn0WhW1ubpZKJQeKBc3Xr1+TyeSkRwibN0a1lUqlvb09B4r1CR0/4ZGbLSU3OMwEcc3p/EgWypubm8O0XE4qlUqbm5sTHyJs5BjkbW9vT5IkW6v0m+nNsEkHH+Hmfbs61maa1dXV1dVVe2sCcBDG2gCALR49erSyssK7Cj76/f7vv//+6NEj3oX4SDgcTiaTBi9We0er1ep2u1gpgyFJknZ3d/XcdkdEp0v5tNuDnWpWxKvTw/p0l/fixYs7d+5g6JaTDB40hY6c0bwR0ZMnT5aXl22tym/0JCpa3Gm3G3IqdaHzRtt4wt1EbEi/319fX19aWuJdCAAzgcFgwLsGAPCmn376aXl52YdnkuVymYhKpRLvQvyl3+//9NNPiqJ/kVnv8O1vzVatVmt9fX11dZV3IU7r9/s//PDDhw8f0GvjsAcPHvznP//x4a21rVbryZMnm5ubvAvxmh9++GFzc9OHs1OVy+VIJOLDnxJ4GMbaAIBdlpeXnzx5wrsKp+EKDy/BYPDOnTs+HG7TarWICF02zCUSCZ2zXHvMixcv8vk8umyc59sxqhhoYxN/Jqrf72P9O/AejLUBAAAAAAAAABARxtoAAAAAAAAAAIgIvTYAAAAAAAAAACJCrw0AAAAAAAAAgIjQawMAAAAAAAAAICL02gAAAAAAAAAAiAi9NgAAAAAAAAAAIkKvDQAAAAAAAACAiNBrAwAAAAAAAAAgIvTaAAAAAAAAAACICL02AAAAAAAAAAAiQq8NAAAAAAAAAICI0GsDAAAAAAAAACAi9NoAAAAAAAAAAIgIvTbXqaqiKKrKuwzwIWQPhIVwAhcIHggL4QRekD0QE5JpI369NqpSSAcCgUAgXRFs27af5XK5Z23eZYAVqlJIa/kKBAKBdLqgCJay0ZA9P0A4gStxD74jIXh+gnCC03BEBmG5MZxIpo149NqoSqWQDsRytSaHNwfvUytavM7z1WzWcrF0QeFYFAARwglc4eALwkI4wXk4IoOwEE64xuFeG1WpFNKxXKnWTMmNsuzsm+sVe9hoNB7GeJcB5iiFWKlJlJLL7fZgMBgMBu2GTETUrOWE39che96GcAIvrjj4joTgeR7CCVzgiAzCcm84kUw7DVj78OHD2H9rl1NERCm50R4MBlr+KFVuMy/CWcfHx58+feJdhTcdHx8fHR0Ze05Dlq9mapg8khvMKhPD0dHR169feVfhU58+fTo+Pjb2HD+Fc29v7+TkhHcV3jTpODuSRw++4+zt7fEuwadOTk4Mf/l+CqeZJg3o8/XrVzQXJzDTYgFGPn36ZLg55KdwGm7S+BXjsTb1en1jY2PsP0fv3pPlcnunmo2yfV++gsHgzz//3O/3eRfiQU+ePOn1esaek61Wi1cCFr01S0RE+5/FvyXUkF6v9+uvv/Kuwo/6/f7PP/8cDAaNPc1P4dze3n7x4gXvKjyo1WqtrKwYe45HD77jrKz2BbepAAAgAElEQVSsdLtd3lX40YsXL7a3t409x0/hDAaDOGTb5Ndff0VzcYLDw8MnT57wrsKP+v3+gwcP0FycYGNjo16v867CBf7F8LX6/f7Kysrm5ub4h0SL1SrDd2RIrRSeHVz6y4z0sKivDREMBvP5/IsXL0qlki3F+VWn0+l2u4lEgnch9rKSPe3LabVanv+WRPPixYt8Pm/4MOw2VsK5tLT0ww8/LC0tef5bctiTJ0+Wl5cNPkncg+9IVoJHRI8ePVpZWVldXWVfGYzX7/fX19c/fPhg8Hk+CmcwGLxz5069XpckyZbi/Gp3d5dOW0QeZiV7kiRp3dnhcNiW4mCMcrlcKBR4V2Ev64fsn376CXvFqViOtXnx4sWdO3fcuju4K0mSJEkz+7X9GUmaof3Xnw08e2lpqVKp4OIeWw8ePHj06BGLV1I/7xMR0ewtEa/lWcve8vIyrp84TDs5WVpaYvFing3nWXe2nfX5TqvVIh+cnFjcKyYSiU6no31X4Bif9GVbby4+efIEo7PZevDgwf/93/+xeCXPHpGJ6NGjRxjq5bBut7u1tcWoP0LgcFpLZjgcTiaTGG4zFbNeG+005rfffmP1gg6LRrPZbDabvTVLs7ey2bszxp4eDAaLxaLhUeswHsuTE/XN6yYRkSxlGbwaaxazdzbcxpbiYBSWJyeeDufS0tL6+jrOTxgyNdDGfSwGj9Cd7TimfdlCs95cRHc2W/V6PZlMxuNxBq/l6SOyJEnoznbYysoKo8vPQofT+iFbGyFrQ2mewqzXRttpev8ay3hLS0v1eh3nJ6xUq9X79++zeKXhTOyUKj8UbkfHBnZ2DqtUKoxOTjwezmAwODc39/LlS96FeMTh4WGv1/P+QBsWEolEt9vtdDq8C/GLly9fzs/P+7kRqN/i4uL6+jrvKrwDzUX9Hj16VHXVDYmu1u/36/X63NwcixfzeDjD4XAikXj79i3vQoTGrNdma2uL0U7TrYLBYDKZNDwPH4zx9u1bFkMK1Uo6VyMikhs7V+f18oxkMrm7u4seQ2dsb2/H43EWJye+COf8/PykKerBiFevXvn8OGvI/Pz8q1eveFfhFxsbGwsLC7yrcIdQKBQOhw8PD3kX4gW9Xq/T6SSTScuv5Isj8tzcHE6MHbO9vZ3JZNBc1AnNxanY9Nr0+/3t7W0WO013Q+BY0eJkeU+nnndNt6te7Js+Nzc3hztCnbGxscHizNkv4Uwmk4eHh5jzi4mNjQ1GV+18QZKkra0t3lX4gjasic0tKv6ALkVW6vV6JpOx/DJ+OSKHQqF4PI4LzM5Ac9GQTCazvb2NK9ATsOm10QaAYWSs1oeNwFm3sbExPz9v8UWUQixXI6KUl7umT83Pz+P8xBlMxrv6KpySJKFL0brDw8NQKBSJRHgX4hrxeFy7Ds+7EO+r1+sYaGOIJEm4yMcEkxNjXx2RcYHZGdqAButdiv4JJ+5ZmYpNr827d+/+85//MHkpV9P6sLUFCMEK67dHKYXA2W7Oy13Tp7Quat5VeN/u7m4kErG4Up7fwnnnzp13797xrsL16vX6nTt3eFfhMhiE6IytrS2E05BwOBwMBtGlaFG/39/d3bU40t9vR2TcJOUMLZkWBzT4LZxoLk7Gptem1Wrh9ihNIpEQcXp2VakUKirvKnTq9XrBYNDKnk4pnN8A6ofdHBEFg0G33ifvqnC2Wi2Lc8H6MJyC9mW7KnhE9PHjR8xDbNT333//3//+l3cVxrktnLu7uwinUfF4HM1Fiw4PDy1OM+fDI3IkEun1er1ej3chBrkqmUTUarVu375t5RV8GM5EIoHm4gQMem36/T7uZz7jYBtRKQQCgUAgrStIn1/XDtq2l8TG7u6ulTgphXSu1iQiuTHwyW5OE4/HOffaDCN5UUGZ/jQ3hfOvv/76/vvvTT/dn+HUblSxt41oJntuCh6dnp/wrsJlEomEMH3ZFzPqqXB2Op1gMBgKhXgX4jK3b992pLloKHjkruxZHGjjzyMy8b+UMuKAreN8xk3JJKL//ve/OJcxyv4TGXdnj0GvTafT0X20Vivp869I60GkZimm80tzg0gk4syQV6Uw/P50iRbX3TOFlZFEXaNWntaa2v+t5Ub9MvU0WtwpEokIcH6SKrcHF+hInavCeXh4aP72KITTXgaz56rgEdHh4aGFSW28f/AdSZARiGolHQjk9s8D6qlwWksm+TmcdjcXDQePXJa9L1++fPvttyaf7O8jMte787LVwRUNmSh17+6kaVtclUzCuYwp2p0Wdq5f4e7sMei1sXzAFsB511uuRrVcOp0vNS+0GQz8OCKRiBOrpaiVpzWSGw1Z9zOiU6aw0r6Ci62j639xyF9//XXjxg2n35UXdtn79ttvv3z5YmOptnFROLvdrut3d/q5bsdo0LTgkTjZ0749v0z5zzR4/X6f870AaiVfasqNgaGZJN21V/TRQBum4bS3S9FU8Mht2cMR2QNHZLXytDbtxJlcdcgmb5wd68QumUQUCoWc7FJ0WfaudjkZt7q6urCwYP11vOH4+JjJtzpRu5wikhvDDsLL15evaJRT5+TG1Fc9e7mGTNNe2y6SJD1//pzDG7vc2tpaJpPhWcH0PF5+uAvDGQqFjo6OOLyxyy0uLq6urtr4BkayZyB4A1Gy9/79+0gk4vS7ekIoFNrb2+NYQLuc0h8ZN+4Vl5eXFxcXObyxy+3t7YVCIfte31DwBu7MXiaTURSFwxu73Orqqki/2YZM2knNmH924SFbOxk8OTlx+o3dL5PJrK2tOfVuLsseg7E22tyx1l/HG7QrTrZe2RtePtE3Vitb3NnZWb83e2995/Hs5IdGizsNmZqlZ8rw/qtUeZ3LInNIlDmhUEiA6eUudK9P6193aTg5vKsn2P/V6c2egeCRKNnr9Xo+Gs7AFO8do/rmdZNmb7Uv3Ew/4dKbG/eK//zzD8Jpgs3JNBY8cmf20Fw0h/de8RJtsEP54diTGpcessk/w2OZcjKcrsseg16b//3vfzhgX2Fn4JRnpeakiFmRrTZkquUCgVyN5IbRUbWs9Pt9JMoE/ofhS7eLtsupWo7hyEABwtnv94nIL0Nembpx48b//vc/G9/A69lDr41poVBI++XyVMvVpfN4UinGJp0CJJOIer2e+blFfEz7RdsbTpuCRwJlDztGc4TptVGelZokP2aZIAHCiRMZ0xw8l3Ff9hj02nS7XRywLwoGg/YdhpVCrmZnv3G2qs2VY1e/kB7+ukmeHVuDp1FHGPfYi33ObHAPp1D3gbuOg9+eB7OHJqBpoVDI7uxN3DG2D5pEF0fHRouP2aWTezIJ4TRL+9JsC6e9wSNkz83EaS5OHexgDvdw4kTGtGAwaO9FvlNuzN6/mL8ihMPhbrdryxKtWp9N28Z+Y6WQq6VkmWqlfOUur6snYIoWPDvfQW23R618F9UxSxcLCCfwwj17aAIKbPKOMTaTuvovI/5kFvdkEsIpKHuDR8Jkj8fbup4wzUVtsEODeXpECCeY89133zmysoors4deGzdR6jUiKsUCpYt/LcUCJUqV29azoVbSuVqq3K4WaWY/hn0dXBHNZo3kQf28T5SaiTF5b4QTDED2wDmTd4zRW7NEtbpSzZ5dd2sfNCl1z3o6kUwYz8bgEbIHU+hqLto02AHhhKlcmj0Gd0iBY66tMn++bgqDWKiV/NkNftHiejnVLMWMLdcGcEatpGOlJqu7+RBO0A/ZA5FkH5ZTVHt6Np+IUsjVWNxKj2TCRHYFj5A9YMKGWUUI4QQ93Jo9BmNtut3uv//9b+uvA+ypSuVZ/YBof3//oED7+1Qo1IlmHlavBVU7z7lwD3S0+Fgu5Wq5ADUG+parYqbb7YbDYUffElgYhuiU3BjsTEiOC8OJZArLQPb0B48Eyh64WLS406Z07GyUbKrcHoxuLLpwrwji0h88cnH2cFB2KbXytEYkS9MS485DNpqLInNv9gKDwcDiS/z444/5fH5xcZFFPV5w8+bNtbW1TCZj/KmqUnlTPzggIpqRpLvG7kfxjEAgcHR0hJV6jOp0Ojdv3jT7i0b2ptve3v7ll1+Ojo54F+I+f/zxx5cvX9bW1kw9G+G0+AX6mrUmCrI3HRqBpllo7SCZRESBAIOzGB+y1phB9qZ7+fLl+vr6+/fveRfiPmguToA7pAShKpV0IJB/+vp1rVbbp5kZqj/NB9IFZmvXgk2UQsDlYy+RPRCWR8Lp/r2EMZ74vB7J3mSe2FJ+44tkepL7f27IHgjLI+GcvJfAbMRCUAqxHDXa7c/52OuzIazF4kOlko+licE8wwBjIHsgLIQTeEH2QExIJvCC7IGwfBJO9NoIQCnk9svtndibdG62cfGu42i2uNM4CGD+c7ALsgfCQjiBF2QPxIRkAi/IHgjLN+F0rtfm5cuXnU5n6sMymYypGWFMarVa9Xpd54NDoVCpVJr+OGPUytOa/HgQVSuvm/Lja/MVZSU59/SNWvRE3Jj6448/2L7g4uKik5Pp1Ov1Vqul88GJREKSJNYlIHu26HQ6L1++ZPuazNM+Wblc7vV6Oh8sSVIikWBdAsJpxvb29vb2NsMXtGfPM1av1yuXy/ofXyqVQqEQ6yqQPVsY2qvoYc+eZyxDzcVIJGLDRD9IphlG9yp62LPnGUvnCZTGntMoZM8WhvYqethzojqJodapPedZPgqni8faqOqEW9WiUddsnPZBU5ayRMpBMzUz6lPNpHiUpZ9XNoQB1z7yxT+46CO7PntT+S2cHvq8rg+nV/YSenno87o+e5N5aEvp5ZUdo+uT6ZUNYYBXfm6uz95Ufgunhz6v68Opfy/hXK8N48sOauXZs4Px/zxmXa5rEomEk9dqRlA/7xNJw//dr4/6ULP3nLvUaRijDWGCw6MPzl3+yPv7RPvPns2e/UHvR5YkycmL2CO4PXtTcQpnJBLhE052n9fhazUjuD2cjPYSRjk8WPUco88bCoW47djPuD17k3FKJnHcq6C5KAhOR2SeexVGPzf+C7S5PXtTcQont70Ku8+LQ7ZVRvYSrh1rEy1Wq7xrYCJ6a5YOhv9rZ4PJLp7ZEPpd/shKoVaXqtVrQ/JcwO3Zm8pv4fTS53V7OD2zl9DJS5/X7dmbzEtbSifP7BjdnkzPbAj9PPNzc3v2pvJbOL30ed0eTiN7Caz8zV1WkmtPKyrFZlLNgzbvasBPkD0QFsIJvCB7ICYkE3hB9kBYPgonem34y0pys5Sv0N3HWuwAnILsgbAQTuAF2QMxIZnAC7IHwvJPONFrI4BstV2mUiz/WSrPlmIF5ULgVFUppNNpT2cQOEL2QFgIJ/CC7IGYkEzgBdkDYfkmnOi1EUK0uNNu3Dt4WqoR1XKxQDpdSKfTgUAgn69L6+veWGXeo2IPGw9jvIuwANkDYXkmnG7fSxjlgc/rmexN5oEt5Tc+SaYnuf3nhuyBsDwTzsl7CdfORuw50Wyxmi1WVVVpazflxR5mXbXyml9Fo26cWe4SZA+E5Y1wemAvYYg3Pq83sjeZN7aU3/ghmZ7kgZ8bsgfC8kY4J+8l0GsjmGjUhRkDT0D2QFgIJ/CC7IGYkEzgBdkDYXk6nAzukAoGg/1+3/rrAGiQKBATkgkAACAOHJRBQGgugh0Y9NqEw+Fut2v9dQA0SBSICckEAAAQBw7KICA0F8EOXGYjVpVCOh04k06nL833LAKlcFadR+ad9q7LcRoTJrVyIXGXFRTna3ZNbWANwglcqUohPfVAJvYRWVWVynBWQQTPUxBO4GdaI19VKoULx+5CRYDYTTgcT/ws4DKuCyeS6RjHe23USjoQy9WazfM/NZvNWi4m0jZVCrka7xpAj+txajZruVgaTSfgDuEEjrR2XSxXa05+mNBHZLVSSMdiuVKt2Zz8McBVEE7ga3IjX1UK6ViudCGezVoJx25wBsIJ4znca6NW8qUmEaXKjfZgqN0op4iImqVnYoRu+ItJpVLmnt/tdsPhMNOSYCSlECs1iVJyud0+DZNMRNSs5UbvweTG4JqqIJP6W64NwRMJwgksGRlurSqVYbsuJTfK8qRHinxEVivpWKmm/Yga7TaCJyyEE+HkxVSbZ3IjX63kc7XmxeANYzf22O2UaHHn+oFYo7UuUvfu6pyFFc1FUbkynAyTSUR///03wjkOm3lt/vnnH10PVd+81g7C68Xs2QaMZos72mbd/8z/8snpL0ZurN8z+Qr9fj8YDLKsyWfC4XCv19PxwGy1Icvl9k61eDpfeDRbbWutulpdjD5AByF4djNyIEE4r8Jh2AoDUxuqb56Wak1KyY32TjV7a+IjxT0iD8/ZU+X2YKdatLIkRK/XQ/ZshXCaexmtnYNwWhEMBvU1F89NaeQrz0pNIpIbO2fBO49d7akAo7yuUytPa0QkPy7qjSKai3bTfSJzidfCaTyZRNTv97/55hvbanI3Br0233zzjcFozt4Sdk2u04Q1rF0xwWHYCgOH4Wy1enVfEL01S0SC9AE6CicndtNaOZ1OR9ejEc4Lvnz5gsOwFQaagNG797QOw6zOA62IR2StdZoqrxtp7I3W6/VwfmIrA5fuEM4LtF80wmmF4XPjaY18pV4jolT54ZV/zj7UhjS8fiPewfv0XF4ydN6C5qKtTPQnei+c5pKJc5kJ2Iy1MdCaTBHR1YFcw6AaGkFli+EFFCt9NjgMW2euixp6vV4oFOJdhcfhWGIavjorQqGQ7r1itHi9w3D0A4U9ImutU2MX6MZBE9BuRi7dIZznkEzrDJ4bT23kq5/3iUZ2Fg6vuTQP2qYKtc/pT+Laufwk6Mu2m/bT9nU4TSWTcC4zEYNem0gkYuCA/VjWDsTDWa+1e5yZXVSzhEGfDVG3241EIsxq8iUjibpuuF8T8hKdvZA9B4TDYb1jbUbwbzg7nQ7OT6yIRCI2LCMq6hFZ+6GkZmIsXgznxnZDOM3p9Xo4ZFtkqLmov5E/ajhsbMbkXJf2Oh3OYKwX8e+//75x44ZdNQFRMBg0dAXae+E0l0zCucxEbHptDJzGZKs77bKcGs56HdBmwk7JjfaOF/psiDqdDtJm0Y0bN758+WLyycOb4ceMyKvlLqwgWqgoqkDDCS3XhsOwAyydn/g4nDgMW2T8wp0+Yh6R2wdNIpq9RUrl8rrPhpc47XQ6oVAIF+5sZU+vjS/Cib2iRTdu3NB7AqKrkX86aEG4e03GMDucAdlzgIGzY++F02wyCc3FiRwea6O5NTN7tVfws/U6LGHUZ0PU6XTi8TibovwqHo+bbQIOF+7Rs6NoNmulXEzM5fLM1dbtdpE9uxnrpL7E1+FEG9E6CzvGyYQ7Ig/HpNVy2rrK5/+gLXFqZMpFtP8cYFevDZHnw3n79m3WBfpLJBL5+++/dTxQbyP/dIqQUr5w3gmnqkqloC1pJhbTwxlwquIA3YdsD4bTdDK1ie0xPHascYt1GZJIJPb29nQ9dLiIClFKbrQH7YZ8dkAetbasQ4ZFXa5g+MdUuT3uaaOUSqXV1VW25fnN8fFxOBw2/ryzbOmIUvtC9AxuYtuZrS2RSBwdHdlXFwwGg7W1tYWFBePP83U4P336FIlE7C3MBxYXFzc3N40+S1tdYuzGEvmIfHVZ5bPqDPwqnj9/vri4aE+ZcC4cDh8fHxt9ls/DubCwYOIXDRft7e0lEompDzPUyD/bxCNxzN5Vp4WaKCkUCpn4wYIhq6urv/3229SHeTCcFpK5t7eXyWRsqMkj2PTaLC4urq2t6Xjg8Bh9OYhnh2JOJyhjfhzmem0ymcz79+9ZludLkUjE4BGlPTJbU55TNtzMcozR2k5OTkx1dYExOtuIl/k9nJubm5Ik2VyU962uri4vLxt91sQTYyGPyGNasRf/RX9lpVLp+fPnbMuD6yRJMtHy8Xk4caHFupOTk1AodHJyMulBxhv57Ub5vI+QUqmUXG40yimxjshTOj3HOzo6wnUUB7x//356y8eL4TSdzMFgsLa2ViqV2NfkFWx6bRRF0XX9edyW5HqCMrnn8pyOPsPj42PsCpn47bff9PUDDp2174z17JrrmXOGwdoURcElZWdEIhFDTW2EU3e3PkxydHSUTCaNPmtS+0nII/J5YSMbrGPPmUeLRCJfv35lWx1ct7a2pueq8hV+Dqe5nzNct7CwoCjKhAcwauRrG16U0QxWhjM8f/7cxK8VTIhEIpO7FD0YTgvJHAwGCwsLGPowAYN5bYgok8ns7u5qd6NNMLwf+PqSjcMlHkVbtcywer0+NzfHuwovmJ+f39ra0vlgpRDI1YgoJTd2jM1LpE0rKCaDtW1sbNy/f9+uYuCChYWFt2/f6nwwwklE29vbkiTZVYxvaPOzWFjC7Cpxj8jaghij3t5Q9A4PDyORCO6Qd4AkSfV6neELej6cb9++nZ+fZ1eWfxlqLpo3XPB95FICHAzXNjAz2SttbGwge86Ym5vT31w0T6RwWklmv9/f3d3NZDLMq/IMNr02wWAwk8lsb2/revSIo93wYMdooU9josWdkR1aVy8n6zjlevfuHc6cmUgmk4eHh1P7AYlIKaRzNSIiw2fFp1Ocj2gX8me4NuzpHKO/jYhwEtH29nY8HsciPkzMz8+/evWK8YsKdkQmOlsro1a/OuW11jjV2zp99eoVjsjOCIVCkUhkd3eX8et6N5wbGxsLCwuMa/MlSZImnxgzaOSrlXSuZvJM1BamJ3ulXq/X7XaTyaQdZcEV9+/fn9xc9Fw4zSeTiLa3tzH0YQpLI3Uu2NzcXFpamvKg82ncyo0Lk7id/1WkewGM3qBwcnKC26MYKpVKf/755+THnN3jbnQk3oU5VcVK3cBUbe/fv8ftUU6Kx+NT511CODVG73aECUzcVTHpJhSBj8jn98GcVWZ8vtdMJoPboxxj4iYp34bz+PgYM24yJEnShw8fjD5LRyO/3b4wiYgY958MBtbuQTF3MyOYNvUmqZFcGk5rd0cNFhcXcXvUZMx6bQaDQTKZnNpCGn8Ln8FJH+xntNdmdXUVq0cx9PXr1ynnJ1PvBz2P1LiHinBWzKA2SZL0LuIGLEz/sSOcg8FgMDg5OUkkEiaaLDCOjh/7lPBd3HgCH5HHlSY39GVvb28Pkxo6Sd+PHeEcDAaD1dVVrB7F0N7enokJ7yfPA3stcvyPx6esTPaq60wNGDJ3bujOcFpK5vSTPmA1r43m0aNHKysrkx8TLe602w05lboQvFRKLjfaRu8gEEu/319fX19aWuJdiHeEw+FkMsn2VvkzqeGinTtmxvDZzGhtrVaLiBKJhL1lwQVLS0vr6+t67uAzwUvhfPLkST6fDwaDNtflI8vLy0+ePGH1agIfkaPFnXajLJ9XptU1qGb1Ze/BgwePHj2yrTy4KhgM5vP5Fy9esHpBr4az2+1ubW1hqi+GtPaP1hZiKnV2yNO737Hf6S3KZu5BqdfryWQSU305ybbmonDhtJJMIlpZWcEhe6rAYDBg+HI//PDD5uamD/cI5XKZiEqlEu9CPKXb7f70008fPnzgXYjQfv7559XVVR/+6Piq1+v/7//9v9XVVd6FiAu/X5s8ePAgn8+jo3YC/Dx5yWazm5ub6Kid4MGDB//5z3/Qa8NWq9V68uTJ5uYm70KE5ttzNL5whjhVt9t98ODBn3/+ybsQ0bEca0P6htt4Dwba2MTW4Tbe0Gq1wuEwjsHOkyRpd3e32+3yLkRcuHJiE38eZw1B9ngpFAoMh9t4T7fb3d3dRZcNc7YNt/EODLThxdbR2d6AQ7ZOjMfaAAAAAAAAAAAAE4zH2gAAAAAAAAAAABPotQEAAAAAAAAAEBF6bQAAAAAAAAAARIReGwAAAAAAAAAAEaHXBgAAAAAAAABAROi1AQAAAAAAAAAQEXptAAAAAAAAAABEhF4bAAAAAAAAAAARodcGAAAAAAAAAEBE6LUBAAAAAAAAABARem0AAAAAAAAAAESEXhsAAAAAAAAAABGh1wYAAAAAAAAAQETotQEAAAAAAAAAEBF6bQAAAAAAAAAARIReGwAAAAAAAAAYS62kA2fSFZV3Pb6CXhsAAAAAAAAAGE2tpGOv77UHmobcLMXQceOgwGAw4F0DAAAAAAAAALiAWknHSlRu7xSjvEvxB4y1sUJVFUVR0ckIAkI4gRdkD8SEZII4kEbwMMTbP5oHbd4l+IZgvTaqUki76E659rNcLvcMafUBlyWTEE5PUJVC+vwG4nS6oLgifcieH7gxnEimh7jvoHwF0ghjuD7bhHj7RPugSZSaifGuwzeE6bVRlUohHYjlak3elQBchGQCF2pFi9157prNWi6WLigciwIgQjiBKxyUwauQbXARpZCrEcmPcXuUY0TotVGVSiEdy5VqzZTcKMu8yzEg9rDRaDxEH6NXuTeZhHC6nFKIlZpEKbncHk771m7IRETNWk74U2Nkz9vcG04k0+1cfVC+AmmEi7yUbUK8vU8pBHI1IrlRzfIuxU8GrH348MHYE9rlFBFRSm60B4OB1vijVLk99YkudHx8/OnTJ95V+NTx8fHR0ZGBJ/gpmYPB4Ojo6OvXr7yr8KZPnz4dHx8be05Dlq9mbZhIkhvsShPC3t7eyckJ7yp8yvAhe+C7cPIuwZtOTk4Mf7c+OyhPZbhVA075+vUrGpwWmWk4gTOGcfXc8V54jMfavHr1amNjw9hzonfvyXK5vVPNen+IVTAY/Pnnn3u9Hu9C/Oj333839s37KZlE1Ov1fv31V95VeFC/3//555+DwaCxp2Wr1aujTqO3ZomIaP+za+91H217e/vFixe8q/CjVqu1srJi+Gl+CufKykqn0+FdhQe9ePFie3vb2HN8dlCeKhgM/vrrr/1+n3chcNUvv/yCBqdFh4eHv//+O+8q4Bq1ko6VmiQ3Bhhm47R/MXytfr+/srLy4cMHg8+LFqtVhmXYTa0Unh1c+suM9LCobz8bDAYLhcKTJ09WV1dtKbVqsQMAABzKSURBVA7GaLVa3W43kUgYeZLLkknWwplIJILBYKvVMvgtwRQvXrzI5/OGe23cxkr2lpaWfvjhh6WlJc9/S6J58uTJ8vIy7yrsZSWZRPTo0aMHDx5sbm6yr8zH+v3++vq655uL11lM4xXBYPDOnTsvXrwolUoMigNG6vV6PB73fIPzOrbxliRpZWUFjVKbDftgphp20qDLhiuWY218cnJCdyVJkiRpZr+2PyNJM7T/+rOBZy8tLe3u7na7XdvqgxH8cHJCZDWcq6urZi68w3i9Xm99fX1paYnFi6mf94mIaPaWiBfjLGQvGAzm83kMt3HY7u4uETFqEAscTmt7Re37abVadpXnS+Vy2RfNxeuspfG6paWl9fV1DLcRysrKyqNHj3hXwQPreD9//vzJkyeMioORosWd09tv2uXUpZvyLv231kmjPNN6eGq5wAUuXuzMZZj12mhXThidnAgtGs1ms9ls9tYszd7KZu/OGH6FR48e4dzYSVqD2w+99RbDGQ6Hw+FwvV63pzo/evLkSaFQYHNyor553SQikiURr3BYzN7S0lKlUkF3tpMePHjArC9b4HBaP2QvLy/jzIGhbrfrk+biddbTeAW6vEVTr9eTyWQ4HOZdCAfM441Ocyepb17TvbsXrru0D5pXr8Nkq6NmW9nBKlIOYdZr8+rVq0wm48crJ8bNzc29evUK10YcU6lUCoUC7yrc4f79+4anpoLx6vX64uIii1caLtxDqfJD4c6LGdDOPdBj6JjDw8NgMMioL9vj4UwkEr1eD7PbsFKv1+/fv4/mIitLS0tV999c4xmVSiWfz/Ouwjvu379fqVR4V+ELVztp1M/7qRksAyYUZr02Gxsb8/PzrF7N24LB4NzcHM5PnNHv97e3tzOZDO9C3CGZTLZaLXQpMrG9va3NFmT5ldRKOlcjIpIb3r2mMTc3hx5Dx7x69er+/fssXskX4bxz586rV694V+ERGxsbCwsLvKvwjmAwGIlEtBsega9ut9vpdPwwstsxkiS9ffsWjVL7KfXa5cGyI4baAGdsem16vV6r1cKJsX537tzZ2triXYUvbG9vJ5NJXNbTL5PJoEuRCUZ92er5SIa2l6d/SyaTnU4HN0k5Y2NjQ5Ikyy/jl3AuLCygS5GJbrfb7Xbj8TjvQjzl/v37aFKKoF6vs9ivwjltTKjh9ebAqGsjazDURkBsem3q9frc3ByTl/IJdB47BqPAjEL7jxUmDTilEMvViCjl5ZEMpyRJQo+hAw4PD7VJrCy+jn/CGYlEiOjw8JB3Ia6n3R7FuwqvkSQJY8FEgAanHXDnvgOUZ6XLk9qAiNj02rx79+7OnTtMXsongsFgMplE57ED3r59i0sfhmQymbdv3/KuwvV2d3cjkUgoFLLyIkohcHZW7OWRDKcwCNEZ9Xrd+iHbb+HEfc1MbG1t4SIfc6FQKBwOo1eRr36/v7u7i9sOmJubm0Oj1GZKvSY/vnbtBTdIiYZNr02r1cJtnEbF43FXzouuKpWCa9Z463a7oVAIt0cZFYlERGz/uSp71veKSuF8vhA/nBUTUSKRwF7RAR8/frR4i4oPw3n79u2PHz/yruIat2Vvd3cXt0fZwa07z8lcFW+cCtkkHA73+32X3T3tquiqlaf7o9YS2P/slk/gFwx6bbTfEg7DRn3//ff8m4BqJR04l9a1h/n8unbQtr0yNlqtFpJpghNdil7P3sePH7///nvTT1cK6VytSURyY+CTs2ISp3F2KZwFZfoT3JRMsrxj9Gc4HbrQ4unsaSuXWRyBCCMJ0aSk8wCPyq5SMHrMd1W8W61WMpnkXYU3Obz7ZZFe10RXVQqx1/fWrw20id6abb5+g24boTDotTk8PLR2DL7USNEu31GzFDO4a3edeDzOeSVRpRCIlWYbg6F2mUqx6d92tLjunlknrYXTp8kkokgkYm84fZC9Tqdjft4QtfK01tT+by0XGEHP2Zw7hcNhoXaMDbmWm/p1uyqZRNTpdLSJWszwazhDoZDtyfR69iwFj8jPB+WpQqEQ7xGyaiUdCOTpcTk16l+VQiBXkxsXjvk6dhWuiveXL1++/fZbs89Gtiex/4yJdXpdEl21ko7laPTEdNmHZSo98+bx3K0Y9NpYPgy7ynlna65GtVw6nS81L+xXDTRXw+Ew30vKSr1GqQtD4qJ376VIT8dqdMp9jtp3dPEQc/0vDvny5cuNGzecflde2IXz22+//euvv2ys1AfZw47RXPZs7zGcQinkaiQ3zlpb2WpDptrTaQGalkwSJ5ydTicYDPrlvlGmybR5IJhN2RMleETU7Xatz4HtYuzSeB3vPScphdjre+3BTnHkqjNKIVe7sNBctLheTukIt9vi7aOD/nV2xtvuMyY70it+q0AdfuxxvUvR4mN5X8ePFJwzsGx1dXVhYcH66/jNyckJk+/ftHY5RSQ3zv/QkOnyHy5rlFPnxj/s7KUpVW6fv+7pfzhLkqTnz59zeGOXW1tby2Qy9r2+H7IXCoWOjo44vLHLLS4urq6ucnv7djl1NTEj/nTGQDIHooTz/fv3kUjE6Xf1hHA4vLe3Z9er25c9MYI3GAyWl5cXFxc5vLEPfPr0KRQK8a5iMDiN2+VINuQrmWvIRJOO+m6MdyaTURSFwxv7wPPnz53ZdVhPrxtbBeAWDMba9Ho9v1y1Y0r70nq9Hq8CosXHMtVywz5dbT2QC5f5rskWd3Z21u/N3lvfeTw77aV3GjI1S8+U4eXDVPn6LZNOQDjNCYVCtibTJ9nj8K6ewPOri966FrARfzpjIJkkSjh7vR4mFjEnGAzaGE77sidG8Ijon3/+QfZsYm84LVI/719Yj0atpAM5ajTkCbOdujHeaHDah2e8DabXja0CcAsGvTY4DFvB9SibrZ7enxkY3rHJ7iZMbWx3LqCdj4+8ZdIBOD8xx+5eG89nT/v2fD1Y2qwbN278888//N4/K8nULOXPxgSrleFiSYxeXohwYq9ojs07RjuzJ0DwiKjX61mY+AMm0X7U4nbcnFIKgQs3ZTTZzNcqTLyxa7WPCNn2cHrBFdiMtcFh2JxQKNTv9+17fXWEi/+uFAJnUx825FqO7TyS2ao2iDA1ajk5h+Agao7dyfR89kRoXriX3d/e5B1jtjpoyOc34+dpfTgamhHu4ez3+9grmmN3d7at2eMePEL27ORAr820JuVUSiEQeDrTHpyfmKZmRs4jYhzi7W32N0qn8nh6wRUY9NqAaaFQyM7ptdT2COrly3hnK7dmq4N2OUW1HLNzZ6WQq6VkOXXx2iG4g93JRPaAn8k7RiJtJNipnSJ93qfUvbusrn9xD2e328WphbDsyx734BGy527T95xjRW/NEtVyOWqcn/Nevu/EKkHizemdvc/mRulE/kgvuMK/eBcA9olmsxP2KO2D5pWe4uitWaImm/dWK2ltyvUizezHSvnKXYz6g1PIHnA0ecd4jfKs1EyV19lECOEEA9hlD8EDywzuOS/JSjLV9i+OJFDfvG6S/JjJ0ALEG+yE9IIoMNbGt7KSTMMZsDRq5WmNSJYY7IbUSr7UJPlxMTpcIq9ZijG8/wVcDtkDd1Ar6UCuxuxOc4QTdGOZPQQPeMs+vBQ7tZIvNRndD4J4g82QXhAEg7E23W733//+t/XXAYdlq4P2TDqWC5xNd5gqtwfjWoiqUnlWPyDa398/KND+PhUKdaKZh9VrT1Ar6VipeWFJoGjxsVzK1XIBajCcclaXbrcbDocdfUvQwfPZQ/DcaxgijdwYDMbnRn8ySaBwgrBsyR6CB87QVoM8VdOO76lyW+t4jBZ32nThqC9PSp9r443jvluxSi9aBWCnwGAwsPgSP/74Yz6fX1xcZFGPv9y8eXNtbS2TyRh/qqpU3tQPDoiIZiTproWBq54WCASOjo6wlI9RnU7n5s2bZncOCCdtb2//8ssvR0dHvAtxnz/++OPLly9ra2umno3sTWftG/Y1a60dhBPNRXtZaPAgnAwEAgxOqWAka20qxBs8wnd3SCkFlkvV8KAqlXQgkH/6+nWtVtunmRmqP80H0gWvTWHl/i3lQ34Jp8d44reG7IGwvBBOT+wljPHHR/ZCOK3zx7b2IV/EG+n1D8xG7DJKIZajRrv9OR97fXZPSbH4UKnkY2lqYw4r4AfhBF6QPRAWwgnCQjjBwxBv8Bj02riKUsjtl9s7sTfp3Gzj4jQg0Wxxp3EQwNzjwA3CCbwgeyAshBOEhXCChyHe4DnO9dq8fPmy0+kwfMFMJmNqRhiTWq1WvV7X+eBQKFQqlViXoFae1uTHg6haed0cseJcVpJzT9+oReyEDPvjjz/YvuDi4qKTk+nU6/VWq6XzwYlEQpIk1iUgnGZ0Op2XL1+yfU3mYZ6sXC73ej2dD5YkKZFIsC4B2bPF9vb29vY2wxe0Z88zVq/XK5fL+h9fKpVCoRDrKhBOMwztVfSwZ88zlqHmoh6RSMSGyYAQTg6M7pf0sGffNZZLzuYQ7+nY7qnsOfOFS5zrtUkkEmzPY/W/mqqq4/8Qjer7yYbDYf27lWAwqPORRrQPmrKUJVIOmqmZ65+KaCZlw7s6icmWMoH5AUP/EXTEZjyn9yPH43H972jPGgeuDyeTDWFUKBRysuv5Ila/tWQy2e/3dT4Y2TOHSzgjkQjbcOrf+kw+bzAYNFQ/jtrX8ToiG9qr6GEhe7Y3F/Ww55zc3eG0jku8je6XdL6mzkcy2bVyPJszwuPxFnBPZc8xFC5xtNfGsfe6RK08e3Zw9l/7+0T7z57Nnv1hzHps14TDYc5L+qmf94mk4f/u1y98qDOz95y7kskeoy1lAq8z5ysf+Rq9Hzkej8fjcWZVmeD2cDLaEEZx67Vh91tLJpOsizPI7dmbilM4I5EIn9X3GH1eO86ODHN1OPkdkbntVTzTXNTD1eG0jlO8ee6XGO1auZ3NGeLtePtqTwUX+GBem2ixWj3/L6VQq0vV6rXBci4QvTVLB8P/tbPBxI1ntpR+lz+yi7k9nJ7ZEDp56bfm9uxN5e9wupurw+mlvYROvvrIrg6ndb7a1hov7Vqn8na8fZheICIfrvztZllJrj2tqBSbSTUP2ryrAbgA4QRekD0QFsIJwkI4wcMQb/Ag9Nq4SVaSm6V8he4+1nZGAMJAOIEXZA+EhXCCsBBO8DDEG7wHvTaukq22y1SK5T9L5dlSrKBc2A2pqlJIp9PYMwEnCCfwguyBsBBOEBbCCR6GeIPn+K7XJvaw8TDGuwgLosWdduPewdNSjaiWiwXS6UI6nQ4EAvl8XVpf3/HOrZtu31I+5J9weowHfmvIHgjLG+H0wF7CKD98ZG+E0zo/bGsf8km8kV7/8MFsxJdFo66frymaLVazxaqqKm3tVs3Yw6x9S3By44Et5UM+CafHeOO3huyBsDwQTm/sJQzxyUf2QDit88m29iE/xBvp9Q/f9dp4RzTquT0PeAXCCbwgeyAshBOEhXCChyHe4AkM7pAKhUK9Xs/66wAwh3ACFwgeAACAr+C4DwD2Qa8NeBnCCVwgeAAAAL6C4z4A2Mf52YiHM3cHTqXThYoybhpvVSlcfujYRzrscmGBtEClgUneSCYhnO5kcKupSkF7tFiLIKhKpXDhdzHhFwQu4oFwIpnuo1YuhO6ygjLq8RdjOvH47TR9vwhx6wfWvJNtQry9ytA5EThlYNni4uLy8rLOB7fLqZFlpMptnQ9NyQ3rNVsy7jOM/BQTRSKR9+/f21MlDAZGvmEvJHN8bUbDeXR0xGTn4FvGvkBDW63dKMspk9vVVu2GPOpjGP1dLC8vLy4u2lQjDIx+wx4IJ6NkDgaDTCaztrZmQ4l+YegLHB89ur7pGrLOjDpL9y+CSf1EdHR0ZL1qMEf/9++FbA8cjff79+8jkQibskEHA+dE4CDnx9rMpuRG+2yjt4ftqWYpf7mTVinESk2ilFw+fXBb+9k3a7mRXdFOUSv5UpOIUuXG+adoaPFulp4ZKq3b7UYiETuqBOPcnkxiGE4k00H6t5qqVArpWK5Ua6bkRnlkM4gbtZLP1ZoXP8XwMwjwu4BLIpFIt9vV91gPhBPJFIiR7J0a1blWvbxkilpJ52pElJLPt/Hw+B3jto0N/CKErB8MM9xqcmu2yfl4o1HqOJ3nROCscd05+v32229LS0sWXmDYo3d199WQ5atdeqd9fxwHNQxLuN7bqJ25G+uFJFwYsVkymfzzzz/NPttVyRywDCcua1h0cnJCRCcnJ9Mfqn+rnT5Sa/oML14JcuFjWM3134rhIn/77bfffvuNcXlwwdraWiaT0fVQD4STXTIHg0E8HlcUhWV5PmNmaPb0o+robXx6VOaUQgO/CDb1f/36Ve9BB+wRiUQ+fPig55HuzvaAQ7wNHLbALrpjC7ZhMNbmm2++6ff71l/nqmy1WryyTlv01iwREe1/5t3TN3uL0RJy4XCYzQvBKMFgkH04hU4mMQlnt9tFMq0IBoNEZOSqso6tFr17T5bL7Z1qVrgFLJV6jYhS5YeXLxNS9qE2quH1G90/jG63+80337AtDy4Kh8MGxzu4OJwMk0lE/X5f+2mDOeFw+O+//2b8omO2cbT4WBsFa2wbs6L/F8Gofq2pg3xyFA6HGTc4xcw2cYg34XQJgMlsxOFw2Nqs6e2DJhGlZmLWa7Ff9O69FBFdHVqtVp7WiCh1767uJmuv1wsGgzjE2spaOF2VTGIZzn6/HwqFWNfnL3pbGAa2WrR4vcNQCOrnfaKRJ/fD/szmQdvAy6FxZqtQKKT31ML14WSczF6vh3Ba8e233zK/jjI8K7x2fBum1Og2ZkbvL4JV/Qgnd8zXjhQ128Ql3miU8ua2cyIvYtBrY+ZG5TOqUkjnakSp8rqO3/+wBcZupIsJ0eJjWWvHDteh0O7uLDX1fohTnU4Hh1i7RSIRk1f23JdMYhtO3EJsUTgc7nQ6Oh7IbKtxN2qoWWxm7KyLo2HHaDcjh2yPhJNJMvv9Pk6MLTI+zmuqUR1zqlJJB2Kl5vA/hRgDOw6z+jHxB3es4+32bBPDj/Dly5fvvvuOfYGgk7FzIrALl14bpXC2klgsV2umyo32jp4UqG9eN4mIZCk77aF2ylZ32mU5RdSslXKxQCxXqjUpJev8EGdwiHXAjRs3jITT5ckkZuH8559/vv/+e9uq9IVIJKKv14bZVuPndNwCi+Ha6DG0WzgcDgaDeq8JuzucLJPZ7XZDoRCu91ph5iJfLXdl6dnJm1JVCulYTutXFGpabJ1M148mJXcGG5y+yzYh3i5j9pwIbMOg1yYej/d6PQujXpulXL4wfU7q4do9I+5Q5+DWzOzV63SfDb7E4eFhPB5nVRCMlEgkLFz6cGMyiUk4ceZsncHzEwZbjaPTWUJK+YJy9oNRVaVSyJ9dUdMJjTMHGOhSJHJ1OJFMocTjcSPBu6rZrJVysVj64g172qB9jXZKeLpi2E4xe8tCrQ5hVn+32719+zb7AkG3eDz+5csXc8/1YraJ4UfAGZMAdJ4TgZ2YzGmcSCT29vbMPLN9uojolJnEz1aOF2Du6rNaUnKjfbqCnfHilpaWVldXbasSBoPB4Pj4OBwOm3mmG5M5YBbOeDz+9etX26r0hT///HNhYUHXQ01tNYGW6RkMBhc+xEg64/fp06d4PG5zpTBYWlrSu7ie+8PJJJmDweD58+fWlsuEwWAwiEQiJg8u7QvpO4/W6bIm5bN/vBA7M2t72mL8L4JZ/QsLC5ubm0yrBmP29vYSiYSZZ7o52wNH4h0MBo+Pj5lWDUboPScCe7HptVlaWnr+/Ln5549Zm/NUe/jvQkRlZC2j9kfTJJNJnWsEghWWOiDclMwBq3CenJyY7OqCC3R3QJjcakKdGGvajfL5OT2lUim53NAO9HqrNNDVBRY8f/5c3/LqHgmn9WQOrLdzYDAYDAYLCwtWVk+/tmDw5U65y9tz7Mr1jpt6Wmu9flxrEUEwGDS9+LpLsz2wP964nCOKKedEYDsGd0gR0fz8/NbWlvnnZyWZaNycVEohlqsRUUpuCHA/nTYf+tX5mLLVdW33o/f2+W632+l0ksmkHTXCRZIk1et1k092UTKJWTjr9bokSXYU6CvaaN7ptwMw2moiiGaL1Z2zg8vOzk61mKWDJumfpvvdu3fz8/P2Vgn694peCaf1ZBLR27dvsWO0zmJzcbis2YU/aFMXEaXkcntw+VA8vD2D8yoBk7Gpv9PphEIhTJXNnZUGp+eyTaw+Ahqloph4TgQOYNNrk8lkWq2W+altxq/OqRQCZyfGVQEmDRlWen0Vu9Pdrc5F7ND+c8z8/PzGxobJJ7snmcQunO/evbt//z7r6vzo/v37r/7/9u6WuVEgjAP4nuMjIBEnkEhS09b1VIm5IKs6dUfETVp/MylzgjtFqzJVSVVSc0lUWtErrsjO5Dz7DYrjBFya5hJel5eQ/09m2MyT4VlgN+yzg0H4MazOWkX5w/54Zbpd18WFsRg8z/M8//LyEn5YnZMzSWYSQizLEkURo+LsFEWZTCbp2y8XyiCELDYD2/v8dfXPkyB/y98lIBST+AeDAea7q+D4+Hg6naZsXLvcJox+Av7OqYrNYyIoBptZG47jjo6OUk8wBzvw/LcHfLDPGCHVGRgH1jyrBpfbmBvZ397eYmBcDFmWKaVxN0x5b/syk2RNTtd1Lcs6ODhgH9juUVU17gNc5ktKFf35GewUGa9Mt594HMflHReQeFOKgfolZ8LMJIRMJhPcspngOE6W5fv7+1St//z85r/+9TaTGEwh/ta+j98fO/6u/SbVH9gyiX86naqqmkd4kIg/KZnqP+wa5jZh8ROwNKE6No2JoDisllqNx+OTk5OkreZLJbhW1slt+rxkb6UZf/xarMVMWKTp9fVVEIQ8o4R3zs/Pe71eoibbl5kem+SczWaouMmQKIoRJfTSnrWqlQ5ZMp8v1RGJ300SlMiFzBzHiS6cWbfkTJmZnudJkoRamKz0+31N05K2WronrybWovzS6b80XRxbkRwM7xEZ43ccR5ZlpvFCeqqqzmazRE22Ore9nNO71+vFq8IGOQoZE0GRmM3aeJ4ny3JULbR/nXfVW2cOhO/6UGrWbA5tL2ZQhmFg96gixXimqUNmhkYXNzlVVU25HxysYxhG5Pgk9lmLSL5Sn+HWxvZf99nMcRxRFFPXcYQUFEWJ3HRm+5Mza2Z6njccDlPMMsAm/h9XUY+LmzJqbSqtPzjubS8XiXpEpvg1TcPuUdXx/PysKEroIdue2xujyiO9YwwtgbnYYyIoFpsVUr5Op6PreqIm/l4Oc+/x+tPWLJL7+OVxPv91ure3dBXyf0asxTKu697c3JydneUXIazgeV6W5UQr+LYxM0nm5LRtm+d5SZLyi3DXaJpmWRalNOSYjGeteoLek6j76Lre7XaxPKpIpmlG3rLrlZxpMpMQout6p9PJL6xdw3GcYRjJHxeDc7eu9v/HL4+rG4WdblOOpo+fUmpZFsqBVYf/BGXbdvwmtc5tkuUnjEYjWZZRUKx0Wzomqp8Pnucx/LpGo9Hv9wVBYPidNXN5eclxnKZpZQeyWyilzWbz6emp7EAqrdlsmqaJGyRbo9Ho4eHBMIyyA6kudM+ytNvt/f19DPlCoP/mpNFoDIdD3G4yQheuINu2Ly4uxuNx9KGwmeu6h4eHuEoALLB814YQYppmu91m+511Qim9u7vDlE3xeJ5vtVrptwDfAaPRSBAE3B2ZUxQl8nWbHYd3GcqS4g3ZXXN9fd3tdsuOooaQe9lRSimlmLKpGkmSRFHEA2dGV1dXrVYLD6UAC4zftQEAAAAAAAAAACYYv2sDAAAAAAAAAABM/AX1wxHm57CAkAAAAABJRU5ErkJggg==\"></div>"
      ],
      "text/plain": [
       "                         1   I                         2   I\n",
       "                         - + -                         - + -\n",
       "-2 - I            I x    2   2      1   I   (2 I) x    9   3      2   I   (3 I) x\n",
       "------ - (2 - I) E    + -------- + (- - -) E        - -------- - (- - -) E        + \n",
       "  I x                    (2 I) x    2   2              (3 I) x    9   3\n",
       " E                      E                             E\n",
       " \n",
       "     1   I                         2    I                         1    I\n",
       "     - + -                         -- + -                         -- + -\n",
       "     8   4      1   I   (4 I) x    25   5     2    I   (5 I) x    18   6\n",
       ">   -------- + (- - -) E        - -------- - (-- - -) E        + -------- + \n",
       "     (4 I) x    8   4              (5 I) x    25   5              (6 I) x\n",
       "    E                             E                              E\n",
       " \n",
       "                         2    I                         1    I\n",
       "                         -- + -                         -- + -\n",
       "     1    I   (6 I) x    49   7     2    I   (7 I) x    32   8     1    I   (8 I) x\n",
       ">   (-- - -) E        - -------- - (-- - -) E        + -------- + (-- - -) E        - \n",
       "     18   6              (7 I) x    49   7              (8 I) x    32   8\n",
       "                        E                              E\n",
       " \n",
       "     2    I                         1    I\n",
       "     -- + -                         -- + --                            2\n",
       "     81   9     2    I   (9 I) x    50   10     1    I    (10 I) x   Pi\n",
       ">   -------- - (-- - -) E        + --------- + (-- - --) E         + ---\n",
       "     (9 I) x    81   9              (10 I) x    50   10               3\n",
       "    E                              E"
      ]
     },
     "execution_count": 34,
     "metadata": {
      "text/html": [],
      "text/plain": []
     },
     "output_type": "execute_result"
    }
   ],
   "source": [
    "Clear[f]\n",
    "f[x_]:=x^2-x;\n",
    "FourierSeries[f[x],x,10]"
   ]
  },
  {
   "cell_type": "code",
   "execution_count": 35,
   "id": "developmental-junction",
   "metadata": {},
   "outputs": [
    {
     "data": {
      "text/html": [
       "<div><img alt=\"Output\" src=\"data:image/png;base64,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\"></div>"
      ],
      "text/plain": [
       "-Graphics-"
      ]
     },
     "execution_count": 35,
     "metadata": {
      "text/html": [],
      "text/plain": []
     },
     "output_type": "execute_result"
    }
   ],
   "source": [
    "Plot[{f[x],%},{x,-.5,.5}]"
   ]
  },
  {
   "cell_type": "code",
   "execution_count": 36,
   "id": "excess-operations",
   "metadata": {},
   "outputs": [],
   "source": [
    "Clear[f]"
   ]
  },
  {
   "cell_type": "markdown",
   "id": "macro-harvest",
   "metadata": {},
   "source": [
    "## 4.展开为正弦级数\n",
    "\n",
    "$f(x)=\\frac{\\pi-x}2$"
   ]
  },
  {
   "cell_type": "code",
   "execution_count": 37,
   "id": "severe-opening",
   "metadata": {},
   "outputs": [
    {
     "data": {
      "text/html": [
       "<div><img alt=\"Output\" src=\"data:image/png;base64,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\"></div>"
      ],
      "text/plain": [
       "         Sin[2 x]   Sin[3 x]   Sin[4 x]   Sin[5 x]\n",
       "Sin[x] + -------- + -------- + -------- + --------\n",
       "            2          3          4          5"
      ]
     },
     "execution_count": 37,
     "metadata": {
      "text/html": [],
      "text/plain": []
     },
     "output_type": "execute_result"
    }
   ],
   "source": [
    "FourierSinSeries[(Pi-x)/2,x,5]"
   ]
  },
  {
   "cell_type": "markdown",
   "id": "junior-neighbor",
   "metadata": {},
   "source": [
    "## 5.求下列一阶微分方程的通解"
   ]
  },
  {
   "cell_type": "code",
   "execution_count": 39,
   "id": "golden-southwest",
   "metadata": {},
   "outputs": [
    {
     "data": {
      "text/html": [
       "<div><img alt=\"Output\" src=\"data:image/png;base64,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\"></div>"
      ],
      "text/plain": [
       "{{y[x] -> -α + C[1] Sin[x]}}"
      ]
     },
     "execution_count": 39,
     "metadata": {
      "text/html": [],
      "text/plain": []
     },
     "output_type": "execute_result"
    }
   ],
   "source": [
    "DSolve[y'[x]Tan[x]-y[x]==α,y[x],x]"
   ]
  },
  {
   "cell_type": "code",
   "execution_count": 44,
   "id": "sustainable-preview",
   "metadata": {},
   "outputs": [
    {
     "ename": "Inverse functions are being used by `1`, so some solutions may not be found; use Reduce for complete solution information.",
     "evalue": "Inverse functions are being used by Solve, so some solutions may not be found; use Reduce for complete solution information.",
     "output_type": "error",
     "traceback": [
      "\u001b[0;31mInverse functions are being used by `1`, so some solutions may not be found; use Reduce for complete solution information.: Inverse functions are being used by Solve, so some solutions may not be found; use Reduce for complete solution information.\u001b[0m"
     ]
    },
    {
     "data": {
      "text/html": [
       "<div><img alt=\"Output\" src=\"data:image/png;base64,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\"></div>"
      ],
      "text/plain": [
       "                          1\n",
       "{{y[x] -> -ArcCot[------------------]}}\n",
       "                   2 C[1]        x 3\n",
       "                  E       (-1 + E )"
      ]
     },
     "execution_count": 44,
     "metadata": {
      "text/html": [],
      "text/plain": []
     },
     "output_type": "execute_result"
    }
   ],
   "source": [
    "DSolve[3E^x Tan[y[x]]+(1-E^x)Sec[y[x]]^2 y'[x]==0,y[x],x]"
   ]
  },
  {
   "cell_type": "markdown",
   "id": "civil-commerce",
   "metadata": {},
   "source": [
    "## 6.求下列一阶微分方程满足的初值条件的特解"
   ]
  },
  {
   "cell_type": "code",
   "execution_count": 49,
   "id": "lovely-namibia",
   "metadata": {},
   "outputs": [
    {
     "ename": "Inverse functions are being used by `1`, so some solutions may not be found; use Reduce for complete solution information.",
     "evalue": "Inverse functions are being used by Solve, so some solutions may not be found; use Reduce for complete solution information.",
     "output_type": "error",
     "traceback": [
      "\u001b[0;31mInverse functions are being used by `1`, so some solutions may not be found; use Reduce for complete solution information.: Inverse functions are being used by Solve, so some solutions may not be found; use Reduce for complete solution information.\u001b[0m"
     ]
    },
    {
     "data": {
      "text/html": [
       "<div><img alt=\"Output\" src=\"data:image/png;base64,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\"></div>"
      ],
      "text/plain": [
       "           Tan[x/2]\n",
       "{{y[x] -> E        }}"
      ]
     },
     "execution_count": 49,
     "metadata": {
      "text/html": [],
      "text/plain": []
     },
     "output_type": "execute_result"
    }
   ],
   "source": [
    "DSolve[{y'[x]Sin[x]==y[x] Log[y[x]],y[Pi/2]==E},y[x],x]"
   ]
  },
  {
   "cell_type": "code",
   "execution_count": 1,
   "id": "acceptable-charter",
   "metadata": {},
   "outputs": [
    {
     "ename": "Inverse functions are being used by `1`, so some solutions may not be found; use Reduce for complete solution information.",
     "evalue": "Inverse functions are being used by Solve, so some solutions may not be found; use Reduce for complete solution information.",
     "output_type": "error",
     "traceback": [
      "\u001b[0;31mInverse functions are being used by `1`, so some solutions may not be found; use Reduce for complete solution information.: Inverse functions are being used by Solve, so some solutions may not be found; use Reduce for complete solution information.\u001b[0m"
     ]
    },
    {
     "ename": "Inverse functions are being used by `1`, so some solutions may not be found; use Reduce for complete solution information.",
     "evalue": "Inverse functions are being used by Solve, so some solutions may not be found; use Reduce for complete solution information.",
     "output_type": "error",
     "traceback": [
      "\u001b[0;31mInverse functions are being used by `1`, so some solutions may not be found; use Reduce for complete solution information.: Inverse functions are being used by Solve, so some solutions may not be found; use Reduce for complete solution information.\u001b[0m"
     ]
    },
    {
     "data": {
      "text/html": [
       "<div><img alt=\"Output\" src=\"data:image/png;base64,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\"></div>"
      ],
      "text/plain": [
       "                   x\n",
       "{{y[x] -> x ArcSin[-]}}\n",
       "                   2"
      ]
     },
     "execution_count": 1,
     "metadata": {
      "text/html": [],
      "text/plain": []
     },
     "output_type": "execute_result"
    }
   ],
   "source": [
    "DSolve[{y'[x]==y[x]/x+Tan[y[x]/x],y[1]==Pi/6},y[x],x]"
   ]
  },
  {
   "cell_type": "markdown",
   "id": "dying-rotation",
   "metadata": {},
   "source": [
    "## 7.求下列高阶微分方程的通解"
   ]
  },
  {
   "cell_type": "code",
   "execution_count": 2,
   "id": "electrical-possibility",
   "metadata": {},
   "outputs": [
    {
     "data": {
      "text/html": [
       "<div><img alt=\"Output\" src=\"data:image/png;base64,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\"></div>"
      ],
      "text/plain": [
       "                3\n",
       "           x   x\n",
       "{{y[x] -> E  + -- + C[1] + x C[2]}}\n",
       "               6"
      ]
     },
     "execution_count": 2,
     "metadata": {
      "text/html": [],
      "text/plain": []
     },
     "output_type": "execute_result"
    }
   ],
   "source": [
    "DSolve[y''[x]==x+E^x,y[x],x]"
   ]
  },
  {
   "cell_type": "code",
   "execution_count": 3,
   "id": "toxic-aggregate",
   "metadata": {},
   "outputs": [
    {
     "data": {
      "text/html": [
       "<div><img alt=\"Output\" src=\"data:image/png;base64,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\"></div>"
      ],
      "text/plain": [
       "{{y[x] -> Sqrt[2 x - C[1]] C[2]}}"
      ]
     },
     "execution_count": 3,
     "metadata": {
      "text/html": [],
      "text/plain": []
     },
     "output_type": "execute_result"
    }
   ],
   "source": [
    "DSolve[y[x] y''[x]+y'[x]^2 == 0,y[x],x]"
   ]
  },
  {
   "cell_type": "markdown",
   "id": "graduate-tender",
   "metadata": {},
   "source": [
    "## 8.求下列微分方程初值问题的解"
   ]
  },
  {
   "cell_type": "code",
   "execution_count": 1,
   "id": "express-caribbean",
   "metadata": {},
   "outputs": [
    {
     "data": {
      "text/html": [
       "<div><img alt=\"Output\" src=\"data:image/png;base64,iVBORw0KGgoAAAANSUhEUgAAAZgAAAAfCAIAAABVm0zWAAAA0HpUWHRSYXcgcHJvZmlsZSB0eXBlIGV4aWYAAHjabU/bDcMgDPxnio7gB5xhHNIQqRt0/NqBqErVk/CdDz/kNN6vIz0CwpRysYoGkCO33KS7qDQxmamd8USrS/HdT3xMwd2t8v3AWP529w2Tpf4MIplCY4NrzathDVKZPveZb6teeq33QdcZC+0S/D/PaoICtuwxC5mhua7JpROKUDEceAJeyNiF8tN5wMzbYFGhPRoDMuxePRLUjT1O0His3Vk9ivo+z+l0wi/aZHNdTyfO+QBmGVrH/HgbBgAAAAlwSFlzAAAWJQAAFiUBSVIk8AAAADx0RVh0U29mdHdhcmUAQ3JlYXRlZCB3aXRoIHRoZSBXb2xmcmFtIExhbmd1YWdlIDogd3d3LndvbGZyYW0uY29tXKKmhQAAACF0RVh0Q3JlYXRpb24gVGltZQAyMDIxOjAzOjI0IDEwOjAxOjU5V4flewAAB3tJREFUeJztnT12szwThofvvEsRKZ6TFaAVQJpUbt1BCY07l3RuoIQurSs3RiswK/BxYWkv+QrAgPmxZASGWFeXeCyUudFIGg1E+/39BYVCoVgy/3t1BxQKhWIoKpApFIrFowKZQqFYPCqQKRSKxaMCmUKhWDwqkCkUsiEO1jRNww55dU/eBq2n/IIxQinouokQV1ui9lxtEkJvP+imObhl6Q3KgzGyW/vnNE2znw3DXm03XzLdydGJ+flnBl0SkoaFWPcyQyOgJ1dif2fgintEu5RHCe6+c9p3rciIg7X1+nAFAK4Litpzwo6+f7hKbLDkevD9Ixul6SdgxMG6bsW3oQIAaRp7lr6bdFYf0eHDeY1k3dKsw9bOIHdrGwAAhr2VGcX+hjoI4Ho9rDHvepXX/reNxAYjoK0fSbHnhgbGOA2P2rQwiZ2rYdgJvfWJ0iSwDTuZsidz8kqDV3SOBkYuTZCUl86leUFn/ow6NDBA5N5+YP9fW3Bj17Ox2vDPJaL2ihrEsWKA5j4EIdONzFf1SgEAQHZeCkqaEUBfK2N/ZcC7xXxgP36yn4VY0zRNa18YEqfnQ+62m9/v/mRusNDPw9gP3z6EkdDB+V+naRrGDmEdK3oB06lYlmTsegYAgM8PHmnym7kEt+89MzuHQLZvxVV5JHb+CZalTpXxAxlytzYAQHxoeqAYxPb3c7Mbcn+ylX9s1fzLwnUxkU48bzLRQMGO+xQAgDOdQhysW15cT9dYut4yZIijtZkOzLndbugHdN3v85OsD/TxCQAA8WGEEHMlDtatUqA0jS19WJx4L3WqTFF+YX5nkcy/H2z5IDaCzdPOafN84XU7kXpixAM7rtcd03AH9JICABj/dI7WQ2zFmceKfA2lgW0AQOrdDYF8v1rN7GSJHYG+tYHcU1dSpPZz9/3+SsmII7iiyO9diC398XrJjG6+uGU9u4k9K05vAtEkd0pjlIiwbHWGMEkdWX43pPv6oUYRx1ZfQ7yD3FN21+SeL73+grkDuaft514glonsXar5miJTgJAbFXdedcmbt2tv3TKngJDpRidpXmHHPdSko5eUbws2K8keYEY0yaJ/Glu6pmEnlLc4q0iJzHznkl5o/5f4eA91SqYpiDU3gQH3kSyPYxKOqM3o5vnQ0b30pUtgMzptP/dr+ekOcsi24Q1/tW3e8z1R7Escdnfcjwx2PXOtKwFgZpL1g8zoVK5l09jL4tlwv94vcPR/BgDA+SpDsXdRp6A1kHEHb2579LW6j2RFHHsyPVbn5nkv209x5s1HwoxOW7B0ubGsWGO1+atlCBRzh2fpGsZOKD3LTw5xvS+Cd828JHsAMt3o9PtbjWeWPjDvzR9XnmAB6hT5Rzn2d4GMERI62AfeVSS3fSOSZXFsSHqsTj5wAaSs8bphfOgbGkiPZZ20aYzcE01sw4CifDPbF8nqT2OGF5ryAWAyyaqytP+CmyyeFeksiC2xfOh0LEIdM9pe1gJzbK99vY6M0YPvnSH44YwuAvbI3dqeFaf7I3NdVMSxYemxak/yjTwAQGw53z3pzGGX2e0uvMZngPRAo95CGfTxCZACxAcSmU93uci03TduRiczAkbC42HvxSmksafHl0SCc8jOgxUdJN40ktUVO58BzrtdGfb/bSLhQYpM90QB614Kxe08M5aijrlZ+WvPP36YfD7ss2+voRWqH+a1zxarRkCLeunH3+JsOi+/NgJanBY9rhkeuUo6sQ3DTri9wtHj3LDNruejCkWRet+fzemVxG5cjAZCDyG8RrKWfj/fUp8vK/c694elS7ou+rfUkRpn2nJk6GsFe4Fn2njts8PL1NuRbD0ma8V6O1bZuqiSpnxh4R5xsA/bn/7FWE55wP+gx0UVS6Mej7carzgUGAwL/XNbToA/TT0/yQQRq5SdlKWo0zhXHWQ/6Wt88m137K/3qaw0P5DsWOV2Olx6/kUJDOJg/7zii2IAZYchtjRcPWRkjIRO5VHZIpJZ2AmLNAEjxasW6qfjxMFOWM8mMOJkAW/Y4GPE0ferZvIXfXze19d0MTvJOmlxYyZLvu+SdA/L463UqTH6mu/eMr8u3xcetty+8i1+K2ETJQgNjGeeny9qlVqo/WWl/+o0LtlZkPlgh/HAKzQwuncZnI8Bv1Iy0a1lb13rXV+6tGlaj7W1XJY6cu0nfrHibXcjJc3PQpw9bn1fq1dMIqnX8aaVsWDHy+qZN1AhMzpRmtiGURkMhmEHSb18B7m5WdUooc1LmhFNgrbmBhTEZrM97Uz7Indrnx8Upr9YMn2TbETO7syINvyYO5L+zqvM/Q+oM4iJY2s+6/BOi2/yGp/5MGuvzLpzUzBrB7zTiizPIsqrHlMoFIqOZD/6+BR64ovLnhGnSEuPWbCqUCiWgNznh9pXZOa3HVuY/zG9Hvvbi0X04sUNM39oS6FQjAwjIbZi/jPfx/YdW0szosnq4q8x50MtPPZZgahwhjT19P7X1AlRvrBJvxUuK2rIdfhwlGRVFq8OCx2M1wfYdp9LPGPf91+UFAqFYhGo/2upUCgWz/8BbnE+wUxa41kAAAAASUVORK5CYII=\"></div>"
      ],
      "text/plain": [
       "{{y[x] -> Cos[Pi x] + Sin[Pi x]}}"
      ]
     },
     "execution_count": 1,
     "metadata": {
      "text/html": [],
      "text/plain": []
     },
     "output_type": "execute_result"
    }
   ],
   "source": [
    "DSolve[{y''[x]+Pi^2 y[x]==0,y[0]==1,y'[0]==Pi},y[x],x]"
   ]
  },
  {
   "cell_type": "code",
   "execution_count": 3,
   "id": "isolated-adjustment",
   "metadata": {},
   "outputs": [
    {
     "data": {
      "text/html": [
       "<div><img alt=\"Output\" src=\"data:image/png;base64,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\"></div>"
      ],
      "text/plain": [
       "                2 x    2 x      2 x  2\n",
       "          -1 + E    - E    x + E    x\n",
       "{{y[x] -> ----------------------------}}\n",
       "                        x\n",
       "                       E"
      ]
     },
     "execution_count": 3,
     "metadata": {
      "text/html": [],
      "text/plain": []
     },
     "output_type": "execute_result"
    }
   ],
   "source": [
    "DSolve[{y''[x]-y[x]==4x E^x,y[0]==0,y'[0]==1},y[x],x]"
   ]
  },
  {
   "cell_type": "markdown",
   "id": "danish-imagination",
   "metadata": {},
   "source": [
    "## 9.解答\n",
    "求初值问题$\n",
    "\\begin{cases}\n",
    "y'=x^2+y^2\\\\\n",
    "y(0)=1\n",
    "\\end{cases}\n",
    "$在点$x=0.5$处的数值解，并作出图形"
   ]
  },
  {
   "cell_type": "code",
   "execution_count": 54,
   "id": "removed-siemens",
   "metadata": {},
   "outputs": [],
   "source": [
    "Clear[\"Global`*\"]\n",
    "s = NDSolve[{y'[x]==x^2+y[x]^2,y[0]==1},y[x],{x,0,.9}];\n",
    "y = s[[1,1,2,0]];"
   ]
  },
  {
   "cell_type": "code",
   "execution_count": 57,
   "id": "frozen-thing",
   "metadata": {},
   "outputs": [
    {
     "data": {
      "text/html": [
       "<div><img alt=\"Output\" src=\"data:image/png;base64,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\"></div>"
      ],
      "text/plain": [
       "-Graphics-"
      ]
     },
     "execution_count": 57,
     "metadata": {
      "text/html": [],
      "text/plain": []
     },
     "output_type": "execute_result"
    }
   ],
   "source": [
    "Plot[y[x],{x,0,1}]"
   ]
  },
  {
   "cell_type": "markdown",
   "id": "attached-advertising",
   "metadata": {},
   "source": [
    "下面是$x=0.5$处的值"
   ]
  },
  {
   "cell_type": "code",
   "execution_count": 58,
   "id": "unique-lightweight",
   "metadata": {},
   "outputs": [
    {
     "data": {
      "text/html": [
       "<div><pre style=\"&#102;&#111;&#110;&#116;&#45;&#102;&#97;&#109;&#105;&#108;&#121;&#58;&#32;&#34;&#67;&#111;&#117;&#114;&#105;&#101;&#114;&#32;&#78;&#101;&#119;&#34;&#44;&#67;&#111;&#117;&#114;&#105;&#101;&#114;&#44;&#109;&#111;&#110;&#111;&#115;&#112;&#97;&#99;&#101;&#59;\">&#50;&#46;&#48;&#54;&#55;</pre></div>"
      ],
      "text/plain": [
       "2.067"
      ]
     },
     "execution_count": 58,
     "metadata": {
      "text/html": [],
      "text/plain": []
     },
     "output_type": "execute_result"
    }
   ],
   "source": [
    "y[.5]"
   ]
  },
  {
   "cell_type": "code",
   "execution_count": 59,
   "id": "attractive-quantity",
   "metadata": {},
   "outputs": [],
   "source": [
    "Clear[\"Global`*\"]"
   ]
  },
  {
   "cell_type": "code",
   "execution_count": null,
   "id": "official-pakistan",
   "metadata": {},
   "outputs": [],
   "source": []
  }
 ],
 "metadata": {
  "kernelspec": {
   "display_name": "Wolfram",
   "language": "Wolfram Language",
   "name": "wolframlanguage12.2"
  },
  "language_info": {
   "codemirror_mode": "mathematica",
   "file_extension": ".m",
   "mimetype": "application/vnd.wolfram.m",
   "name": "Wolfram Language",
   "pygments_lexer": "mathematica",
   "version": "12.0"
  }
 },
 "nbformat": 4,
 "nbformat_minor": 5
}
